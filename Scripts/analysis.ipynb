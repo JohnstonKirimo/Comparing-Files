{
 "cells": [
  {
   "cell_type": "markdown",
   "metadata": {},
   "source": [
    "## Data Cleaning "
   ]
  },
  {
   "cell_type": "markdown",
   "metadata": {},
   "source": [
    "#### Table of Contents: \n",
    "#### 1. Importing Libraries and reading data\n",
    "#### 2. Exploratory Data Analysis \n",
    "#### 3. Data Cleaning\n",
    "#### 4. Checking Coverage Rate\n",
    "#### 5. Summary and Conclusion"
   ]
  },
  {
   "cell_type": "code",
   "execution_count": 2,
   "metadata": {},
   "outputs": [],
   "source": [
    "import pandas as pd\n",
    "import numpy as np\n",
    "import matplotlib.pyplot as plt\n",
    "%matplotlib inline\n",
    "\n",
    "test_ad = pd.read_csv('./data/test.csv')\n",
    "real_ad = pd.read_csv('./data/all_addresses.csv')"
   ]
  },
  {
   "cell_type": "markdown",
   "metadata": {},
   "source": [
    "##### First, let's examine the full list of real addresses "
   ]
  },
  {
   "cell_type": "code",
   "execution_count": 2,
   "metadata": {},
   "outputs": [
    {
     "data": {
      "text/html": [
       "<div>\n",
       "<style scoped>\n",
       "    .dataframe tbody tr th:only-of-type {\n",
       "        vertical-align: middle;\n",
       "    }\n",
       "\n",
       "    .dataframe tbody tr th {\n",
       "        vertical-align: top;\n",
       "    }\n",
       "\n",
       "    .dataframe thead th {\n",
       "        text-align: right;\n",
       "    }\n",
       "</style>\n",
       "<table border=\"1\" class=\"dataframe\">\n",
       "  <thead>\n",
       "    <tr style=\"text-align: right;\">\n",
       "      <th></th>\n",
       "      <th>address</th>\n",
       "      <th>city</th>\n",
       "      <th>state</th>\n",
       "      <th>zip</th>\n",
       "    </tr>\n",
       "  </thead>\n",
       "  <tbody>\n",
       "    <tr>\n",
       "      <td>0</td>\n",
       "      <td>941 Thorpe St</td>\n",
       "      <td>Rock Springs</td>\n",
       "      <td>WY</td>\n",
       "      <td>82901</td>\n",
       "    </tr>\n",
       "    <tr>\n",
       "      <td>1</td>\n",
       "      <td>2809 HARRIS DR</td>\n",
       "      <td>Antioch</td>\n",
       "      <td>CA</td>\n",
       "      <td>94509</td>\n",
       "    </tr>\n",
       "    <tr>\n",
       "      <td>2</td>\n",
       "      <td>1441 Eastlake Ave</td>\n",
       "      <td>Los Angeles</td>\n",
       "      <td>CA</td>\n",
       "      <td>90033</td>\n",
       "    </tr>\n",
       "    <tr>\n",
       "      <td>3</td>\n",
       "      <td>7 Eucalyptus</td>\n",
       "      <td>Newport Beach</td>\n",
       "      <td>CA</td>\n",
       "      <td>92657</td>\n",
       "    </tr>\n",
       "    <tr>\n",
       "      <td>4</td>\n",
       "      <td>1400 Lachman Ln</td>\n",
       "      <td>Los Angeles</td>\n",
       "      <td>CA</td>\n",
       "      <td>90272</td>\n",
       "    </tr>\n",
       "  </tbody>\n",
       "</table>\n",
       "</div>"
      ],
      "text/plain": [
       "             address           city state    zip\n",
       "0      941 Thorpe St   Rock Springs    WY  82901\n",
       "1     2809 HARRIS DR        Antioch    CA  94509\n",
       "2  1441 Eastlake Ave    Los Angeles    CA  90033\n",
       "3       7 Eucalyptus  Newport Beach    CA  92657\n",
       "4    1400 Lachman Ln    Los Angeles    CA  90272"
      ]
     },
     "execution_count": 2,
     "metadata": {},
     "output_type": "execute_result"
    }
   ],
   "source": [
    "#see what first 5 rows look like\n",
    "real_ad.head()"
   ]
  },
  {
   "cell_type": "code",
   "execution_count": 210,
   "metadata": {},
   "outputs": [
    {
     "data": {
      "text/plain": [
       "Index(['street_nm', 'city', 'state', 'zip_code', 'full_address'], dtype='object')"
      ]
     },
     "execution_count": 210,
     "metadata": {},
     "output_type": "execute_result"
    }
   ],
   "source": [
    "# rename two of the columns \n",
    "real_ad.rename(columns={'address':'street_nm', 'zip':'zip_code'}, inplace=True)\n",
    "real_ad.columns"
   ]
  },
  {
   "cell_type": "code",
   "execution_count": 212,
   "metadata": {},
   "outputs": [
    {
     "data": {
      "text/plain": [
       "Index(['street_nm', 'city', 'state', 'zip_code', 'full_address'], dtype='object')"
      ]
     },
     "execution_count": 212,
     "metadata": {},
     "output_type": "execute_result"
    }
   ],
   "source": [
    "real_ad.columns"
   ]
  },
  {
   "cell_type": "code",
   "execution_count": 213,
   "metadata": {},
   "outputs": [
    {
     "data": {
      "text/plain": [
       "street_nm       object\n",
       "city            object\n",
       "state           object\n",
       "zip_code        object\n",
       "full_address    object\n",
       "dtype: object"
      ]
     },
     "execution_count": 213,
     "metadata": {},
     "output_type": "execute_result"
    }
   ],
   "source": [
    "real_ad.dtypes"
   ]
  },
  {
   "cell_type": "code",
   "execution_count": 244,
   "metadata": {},
   "outputs": [],
   "source": [
    "res = test_ad[~test_ad.address.isin(real_ad.street_nm)]"
   ]
  },
  {
   "cell_type": "code",
   "execution_count": 242,
   "metadata": {},
   "outputs": [
    {
     "data": {
      "text/plain": [
       "(27153, 7)"
      ]
     },
     "execution_count": 242,
     "metadata": {},
     "output_type": "execute_result"
    }
   ],
   "source": [
    "res.shape"
   ]
  },
  {
   "cell_type": "code",
   "execution_count": 246,
   "metadata": {},
   "outputs": [
    {
     "data": {
      "text/html": [
       "<div>\n",
       "<style scoped>\n",
       "    .dataframe tbody tr th:only-of-type {\n",
       "        vertical-align: middle;\n",
       "    }\n",
       "\n",
       "    .dataframe tbody tr th {\n",
       "        vertical-align: top;\n",
       "    }\n",
       "\n",
       "    .dataframe thead th {\n",
       "        text-align: right;\n",
       "    }\n",
       "</style>\n",
       "<table border=\"1\" class=\"dataframe\">\n",
       "  <thead>\n",
       "    <tr style=\"text-align: right;\">\n",
       "      <th></th>\n",
       "      <th>uid</th>\n",
       "      <th>address</th>\n",
       "      <th>city</th>\n",
       "      <th>state</th>\n",
       "      <th>zip</th>\n",
       "      <th>Cust_address</th>\n",
       "      <th>full_address</th>\n",
       "    </tr>\n",
       "  </thead>\n",
       "  <tbody>\n",
       "    <tr>\n",
       "      <td>10468</td>\n",
       "      <td>10548</td>\n",
       "      <td>15103rdSt</td>\n",
       "      <td>Manhattan Beach</td>\n",
       "      <td>CA</td>\n",
       "      <td>90266</td>\n",
       "      <td>15103rdStManhattan BeachCA90266.0</td>\n",
       "      <td>15103rdStManhattan BeachCA90266</td>\n",
       "    </tr>\n",
       "    <tr>\n",
       "      <td>20811</td>\n",
       "      <td>20961</td>\n",
       "      <td>224 W Sherwood Blvd, Apt 20812</td>\n",
       "      <td>Big Bear</td>\n",
       "      <td>CA</td>\n",
       "      <td>92314</td>\n",
       "      <td>224 W Sherwood Blvd, Apt 20812Big BearCA92314.0</td>\n",
       "      <td>224 W Sherwood Blvd, Apt 20812Big BearCA92314</td>\n",
       "    </tr>\n",
       "    <tr>\n",
       "      <td>53727</td>\n",
       "      <td>54120</td>\n",
       "      <td>37319 Paseo Tulipa, Unit 53728</td>\n",
       "      <td>Murrieta</td>\n",
       "      <td>CA</td>\n",
       "      <td>92563</td>\n",
       "      <td>37319 Paseo Tulipa, Unit 53728MurrietaCA92563.0</td>\n",
       "      <td>37319 Paseo Tulipa, Unit 53728MurrietaCA92563</td>\n",
       "    </tr>\n",
       "    <tr>\n",
       "      <td>40569</td>\n",
       "      <td>40880</td>\n",
       "      <td>19380 Country View Dr, Unit 40570</td>\n",
       "      <td>Cottonwood</td>\n",
       "      <td>CA</td>\n",
       "      <td>96022</td>\n",
       "      <td>19380 Country View Dr, Unit 40570CottonwoodCA9...</td>\n",
       "      <td>19380 Country View Dr, Unit 40570CottonwoodCA9...</td>\n",
       "    </tr>\n",
       "    <tr>\n",
       "      <td>11204</td>\n",
       "      <td>11288</td>\n",
       "      <td>360 Dxie Canyon Pl</td>\n",
       "      <td>Los Angeles</td>\n",
       "      <td>CA</td>\n",
       "      <td>91423</td>\n",
       "      <td>360 Dxie Canyon PlLos AngelesCA91423.0</td>\n",
       "      <td>360 Dxie Canyon PlLos AngelesCA91423</td>\n",
       "    </tr>\n",
       "    <tr>\n",
       "      <td>90322</td>\n",
       "      <td>91010</td>\n",
       "      <td>605 S Myrtle Ave, Unit 90323</td>\n",
       "      <td>Monrovia</td>\n",
       "      <td>CA</td>\n",
       "      <td>91016</td>\n",
       "      <td>605 S Myrtle Ave, Unit 90323MonroviaCA91016.0</td>\n",
       "      <td>605 S Myrtle Ave, Unit 90323MonroviaCA91016</td>\n",
       "    </tr>\n",
       "    <tr>\n",
       "      <td>6032</td>\n",
       "      <td>6084</td>\n",
       "      <td>17610HadaDr</td>\n",
       "      <td>San Diego</td>\n",
       "      <td>CA</td>\n",
       "      <td>92127</td>\n",
       "      <td>17610HadaDrSan DiegoCA92127.0</td>\n",
       "      <td>17610HadaDrSan DiegoCA92127</td>\n",
       "    </tr>\n",
       "    <tr>\n",
       "      <td>33413</td>\n",
       "      <td>33652</td>\n",
       "      <td>683 beverly pl</td>\n",
       "      <td>san marcos</td>\n",
       "      <td>ca</td>\n",
       "      <td>92078</td>\n",
       "      <td>683 beverly plsan marcosca92078.0</td>\n",
       "      <td>683 beverly plsan marcosca92078</td>\n",
       "    </tr>\n",
       "    <tr>\n",
       "      <td>7652</td>\n",
       "      <td>7712</td>\n",
       "      <td>860 NGlenn Ave</td>\n",
       "      <td>Fresno</td>\n",
       "      <td>CA</td>\n",
       "      <td>93711</td>\n",
       "      <td>860 NGlenn AveFresnoCA93711.0</td>\n",
       "      <td>860 NGlenn AveFresnoCA93711</td>\n",
       "    </tr>\n",
       "    <tr>\n",
       "      <td>37267</td>\n",
       "      <td>37540</td>\n",
       "      <td>363 Lakeover Dr W, Unit 37268</td>\n",
       "      <td>Columbus</td>\n",
       "      <td>MS</td>\n",
       "      <td>39702</td>\n",
       "      <td>363 Lakeover Dr W, Unit 37268ColumbusMS39702.0</td>\n",
       "      <td>363 Lakeover Dr W, Unit 37268ColumbusMS39702</td>\n",
       "    </tr>\n",
       "    <tr>\n",
       "      <td>90740</td>\n",
       "      <td>91430</td>\n",
       "      <td>8040 Gilleland Dr, Unit 90741</td>\n",
       "      <td>Roseville</td>\n",
       "      <td>CA</td>\n",
       "      <td>95747</td>\n",
       "      <td>8040 Gilleland Dr, Unit 90741RosevilleCA95747.0</td>\n",
       "      <td>8040 Gilleland Dr, Unit 90741RosevilleCA95747</td>\n",
       "    </tr>\n",
       "    <tr>\n",
       "      <td>78863</td>\n",
       "      <td>79458</td>\n",
       "      <td>2766E Vn Buren St</td>\n",
       "      <td>Long Beach</td>\n",
       "      <td>CA</td>\n",
       "      <td>90810</td>\n",
       "      <td>2766E Vn Buren StLong BeachCA90810.0</td>\n",
       "      <td>2766E Vn Buren StLong BeachCA90810</td>\n",
       "    </tr>\n",
       "    <tr>\n",
       "      <td>59307</td>\n",
       "      <td>59748</td>\n",
       "      <td>1415 beech st</td>\n",
       "      <td>south pasadena</td>\n",
       "      <td>ca</td>\n",
       "      <td>91030</td>\n",
       "      <td>1415 beech stsouth pasadenaca91030.0</td>\n",
       "      <td>1415 beech stsouth pasadenaca91030</td>\n",
       "    </tr>\n",
       "    <tr>\n",
       "      <td>23002</td>\n",
       "      <td>23164</td>\n",
       "      <td>5651 cedar st</td>\n",
       "      <td>riverside</td>\n",
       "      <td>ca</td>\n",
       "      <td>92509</td>\n",
       "      <td>5651 cedar striversideca92509.0</td>\n",
       "      <td>5651 cedar striversideca92509</td>\n",
       "    </tr>\n",
       "    <tr>\n",
       "      <td>17496</td>\n",
       "      <td>17628</td>\n",
       "      <td>2 GachoDr</td>\n",
       "      <td>Rolling Hills Estates</td>\n",
       "      <td>CA</td>\n",
       "      <td>90274</td>\n",
       "      <td>2 GachoDrRolling Hills EstatesCA90274.0</td>\n",
       "      <td>2 GachoDrRolling Hills EstatesCA90274</td>\n",
       "    </tr>\n",
       "    <tr>\n",
       "      <td>56825</td>\n",
       "      <td>57244</td>\n",
       "      <td>1537 addison rd</td>\n",
       "      <td>palos verdes estates</td>\n",
       "      <td>ca</td>\n",
       "      <td>90274</td>\n",
       "      <td>1537 addison rdpalos verdes estatesca90274.0</td>\n",
       "      <td>1537 addison rdpalos verdes estatesca90274</td>\n",
       "    </tr>\n",
       "    <tr>\n",
       "      <td>76024</td>\n",
       "      <td>76590</td>\n",
       "      <td>7409 Chilibre St, Unit 76025</td>\n",
       "      <td>Bakersfield</td>\n",
       "      <td>CA</td>\n",
       "      <td>93313</td>\n",
       "      <td>7409 Chilibre St, Unit 76025BakersfieldCA93313.0</td>\n",
       "      <td>7409 Chilibre St, Unit 76025BakersfieldCA93313</td>\n",
       "    </tr>\n",
       "    <tr>\n",
       "      <td>7118</td>\n",
       "      <td>7175</td>\n",
       "      <td>18055 Coastline Dr #7119</td>\n",
       "      <td>Malibu</td>\n",
       "      <td>CA</td>\n",
       "      <td>90265</td>\n",
       "      <td>18055 Coastline Dr #7119MalibuCA90265.0</td>\n",
       "      <td>18055 Coastline Dr #7119MalibuCA90265</td>\n",
       "    </tr>\n",
       "    <tr>\n",
       "      <td>24099</td>\n",
       "      <td>24273</td>\n",
       "      <td>123 Overbrook, Apt 24100</td>\n",
       "      <td>Irvine</td>\n",
       "      <td>CA</td>\n",
       "      <td>92620</td>\n",
       "      <td>123 Overbrook, Apt 24100IrvineCA92620.0</td>\n",
       "      <td>123 Overbrook, Apt 24100IrvineCA92620</td>\n",
       "    </tr>\n",
       "    <tr>\n",
       "      <td>3099</td>\n",
       "      <td>3124</td>\n",
       "      <td>81 Caiente</td>\n",
       "      <td>Barstow</td>\n",
       "      <td>CA</td>\n",
       "      <td>92311</td>\n",
       "      <td>81 CaienteBarstowCA92311.0</td>\n",
       "      <td>81 CaienteBarstowCA92311</td>\n",
       "    </tr>\n",
       "  </tbody>\n",
       "</table>\n",
       "</div>"
      ],
      "text/plain": [
       "         uid                            address                   city state  \\\n",
       "10468  10548                          15103rdSt        Manhattan Beach    CA   \n",
       "20811  20961     224 W Sherwood Blvd, Apt 20812               Big Bear    CA   \n",
       "53727  54120     37319 Paseo Tulipa, Unit 53728               Murrieta    CA   \n",
       "40569  40880  19380 Country View Dr, Unit 40570             Cottonwood    CA   \n",
       "11204  11288                 360 Dxie Canyon Pl            Los Angeles    CA   \n",
       "90322  91010       605 S Myrtle Ave, Unit 90323               Monrovia    CA   \n",
       "6032    6084                        17610HadaDr              San Diego    CA   \n",
       "33413  33652                     683 beverly pl             san marcos    ca   \n",
       "7652    7712                     860 NGlenn Ave                 Fresno    CA   \n",
       "37267  37540      363 Lakeover Dr W, Unit 37268               Columbus    MS   \n",
       "90740  91430      8040 Gilleland Dr, Unit 90741              Roseville    CA   \n",
       "78863  79458                  2766E Vn Buren St             Long Beach    CA   \n",
       "59307  59748                      1415 beech st         south pasadena    ca   \n",
       "23002  23164                      5651 cedar st              riverside    ca   \n",
       "17496  17628                          2 GachoDr  Rolling Hills Estates    CA   \n",
       "56825  57244                    1537 addison rd   palos verdes estates    ca   \n",
       "76024  76590       7409 Chilibre St, Unit 76025            Bakersfield    CA   \n",
       "7118    7175           18055 Coastline Dr #7119                 Malibu    CA   \n",
       "24099  24273           123 Overbrook, Apt 24100                 Irvine    CA   \n",
       "3099    3124                         81 Caiente                Barstow    CA   \n",
       "\n",
       "         zip                                       Cust_address  \\\n",
       "10468  90266                  15103rdStManhattan BeachCA90266.0   \n",
       "20811  92314    224 W Sherwood Blvd, Apt 20812Big BearCA92314.0   \n",
       "53727  92563    37319 Paseo Tulipa, Unit 53728MurrietaCA92563.0   \n",
       "40569  96022  19380 Country View Dr, Unit 40570CottonwoodCA9...   \n",
       "11204  91423             360 Dxie Canyon PlLos AngelesCA91423.0   \n",
       "90322  91016      605 S Myrtle Ave, Unit 90323MonroviaCA91016.0   \n",
       "6032   92127                      17610HadaDrSan DiegoCA92127.0   \n",
       "33413  92078                  683 beverly plsan marcosca92078.0   \n",
       "7652   93711                      860 NGlenn AveFresnoCA93711.0   \n",
       "37267  39702     363 Lakeover Dr W, Unit 37268ColumbusMS39702.0   \n",
       "90740  95747    8040 Gilleland Dr, Unit 90741RosevilleCA95747.0   \n",
       "78863  90810               2766E Vn Buren StLong BeachCA90810.0   \n",
       "59307  91030               1415 beech stsouth pasadenaca91030.0   \n",
       "23002  92509                    5651 cedar striversideca92509.0   \n",
       "17496  90274            2 GachoDrRolling Hills EstatesCA90274.0   \n",
       "56825  90274       1537 addison rdpalos verdes estatesca90274.0   \n",
       "76024  93313   7409 Chilibre St, Unit 76025BakersfieldCA93313.0   \n",
       "7118   90265            18055 Coastline Dr #7119MalibuCA90265.0   \n",
       "24099  92620            123 Overbrook, Apt 24100IrvineCA92620.0   \n",
       "3099   92311                         81 CaienteBarstowCA92311.0   \n",
       "\n",
       "                                            full_address  \n",
       "10468                    15103rdStManhattan BeachCA90266  \n",
       "20811      224 W Sherwood Blvd, Apt 20812Big BearCA92314  \n",
       "53727      37319 Paseo Tulipa, Unit 53728MurrietaCA92563  \n",
       "40569  19380 Country View Dr, Unit 40570CottonwoodCA9...  \n",
       "11204               360 Dxie Canyon PlLos AngelesCA91423  \n",
       "90322        605 S Myrtle Ave, Unit 90323MonroviaCA91016  \n",
       "6032                         17610HadaDrSan DiegoCA92127  \n",
       "33413                    683 beverly plsan marcosca92078  \n",
       "7652                         860 NGlenn AveFresnoCA93711  \n",
       "37267       363 Lakeover Dr W, Unit 37268ColumbusMS39702  \n",
       "90740      8040 Gilleland Dr, Unit 90741RosevilleCA95747  \n",
       "78863                 2766E Vn Buren StLong BeachCA90810  \n",
       "59307                 1415 beech stsouth pasadenaca91030  \n",
       "23002                      5651 cedar striversideca92509  \n",
       "17496              2 GachoDrRolling Hills EstatesCA90274  \n",
       "56825         1537 addison rdpalos verdes estatesca90274  \n",
       "76024     7409 Chilibre St, Unit 76025BakersfieldCA93313  \n",
       "7118               18055 Coastline Dr #7119MalibuCA90265  \n",
       "24099              123 Overbrook, Apt 24100IrvineCA92620  \n",
       "3099                            81 CaienteBarstowCA92311  "
      ]
     },
     "execution_count": 246,
     "metadata": {},
     "output_type": "execute_result"
    }
   ],
   "source": [
    "res.sample(20)"
   ]
  },
  {
   "cell_type": "code",
   "execution_count": 225,
   "metadata": {},
   "outputs": [
    {
     "data": {
      "text/plain": [
       "27153"
      ]
     },
     "execution_count": 225,
     "metadata": {},
     "output_type": "execute_result"
    }
   ],
   "source": [
    "len(res)"
   ]
  },
  {
   "cell_type": "code",
   "execution_count": 226,
   "metadata": {},
   "outputs": [
    {
     "data": {
      "text/plain": [
       "72096"
      ]
     },
     "execution_count": 226,
     "metadata": {},
     "output_type": "execute_result"
    }
   ],
   "source": [
    "res2 = test_ad.address[test_ad.address.isin(real_ad.street_nm)].values\n",
    "len(res2)"
   ]
  },
  {
   "cell_type": "code",
   "execution_count": 239,
   "metadata": {},
   "outputs": [],
   "source": [
    "#compare values in each row to values in corresponding columns \n",
    "initial_match =  test_ad[(test_ad.address.isin(real_ad.street_nm)) & (test_ad.city.isin(real_ad.city))\n",
    "                                 & (test_ad.state.isin(real_ad.state)) & (test_ad.zip.isin(real_ad.zip_code))]\n"
   ]
  },
  {
   "cell_type": "code",
   "execution_count": 240,
   "metadata": {},
   "outputs": [
    {
     "data": {
      "text/plain": [
       "49.635384615384616"
      ]
     },
     "execution_count": 240,
     "metadata": {},
     "output_type": "execute_result"
    }
   ],
   "source": [
    "match_pct = (len(initial_match) * 100) /len(real_ad)\n",
    "match_pct"
   ]
  },
  {
   "cell_type": "code",
   "execution_count": 294,
   "metadata": {},
   "outputs": [
    {
     "name": "stdout",
     "output_type": "stream",
     "text": [
      "The test dataset has a 49.635384615384616% match\n"
     ]
    }
   ],
   "source": [
    "match_pct = (len(initial_match) * 100) /len(real_ad)\n",
    "print(\"The test dataset has a {}% match\".format(match_pct)) "
   ]
  },
  {
   "cell_type": "code",
   "execution_count": 219,
   "metadata": {},
   "outputs": [],
   "source": [
    "cols = ['street_nm', 'city', 'state', 'zip_code', 'full_address']\n",
    "real_ad[cols] = real_ad[cols].apply(lambda x: x.str.strip())"
   ]
  },
  {
   "cell_type": "code",
   "execution_count": 220,
   "metadata": {},
   "outputs": [],
   "source": [
    "real_ad['full_address'] = real_ad['street_nm'] + real_ad['city'] + real_ad['state']+ real_ad['zip_code']"
   ]
  },
  {
   "cell_type": "code",
   "execution_count": 205,
   "metadata": {},
   "outputs": [
    {
     "data": {
      "text/html": [
       "<div>\n",
       "<style scoped>\n",
       "    .dataframe tbody tr th:only-of-type {\n",
       "        vertical-align: middle;\n",
       "    }\n",
       "\n",
       "    .dataframe tbody tr th {\n",
       "        vertical-align: top;\n",
       "    }\n",
       "\n",
       "    .dataframe thead th {\n",
       "        text-align: right;\n",
       "    }\n",
       "</style>\n",
       "<table border=\"1\" class=\"dataframe\">\n",
       "  <thead>\n",
       "    <tr style=\"text-align: right;\">\n",
       "      <th></th>\n",
       "      <th>street_nm</th>\n",
       "      <th>city</th>\n",
       "      <th>state</th>\n",
       "      <th>zip_code</th>\n",
       "      <th>full_address</th>\n",
       "    </tr>\n",
       "  </thead>\n",
       "  <tbody>\n",
       "    <tr>\n",
       "      <td>0</td>\n",
       "      <td>941 Thorpe St</td>\n",
       "      <td>Rock Springs</td>\n",
       "      <td>WY</td>\n",
       "      <td>82901</td>\n",
       "      <td>941 Thorpe StRock SpringsWY82901</td>\n",
       "    </tr>\n",
       "    <tr>\n",
       "      <td>1</td>\n",
       "      <td>2809 HARRIS DR</td>\n",
       "      <td>Antioch</td>\n",
       "      <td>CA</td>\n",
       "      <td>94509</td>\n",
       "      <td>2809 HARRIS DRAntiochCA94509</td>\n",
       "    </tr>\n",
       "    <tr>\n",
       "      <td>2</td>\n",
       "      <td>1441 Eastlake Ave</td>\n",
       "      <td>Los Angeles</td>\n",
       "      <td>CA</td>\n",
       "      <td>90033</td>\n",
       "      <td>1441 Eastlake AveLos AngelesCA90033</td>\n",
       "    </tr>\n",
       "  </tbody>\n",
       "</table>\n",
       "</div>"
      ],
      "text/plain": [
       "           street_nm          city state zip_code  \\\n",
       "0      941 Thorpe St  Rock Springs    WY    82901   \n",
       "1     2809 HARRIS DR       Antioch    CA    94509   \n",
       "2  1441 Eastlake Ave   Los Angeles    CA    90033   \n",
       "\n",
       "                          full_address  \n",
       "0     941 Thorpe StRock SpringsWY82901  \n",
       "1         2809 HARRIS DRAntiochCA94509  \n",
       "2  1441 Eastlake AveLos AngelesCA90033  "
      ]
     },
     "execution_count": 205,
     "metadata": {},
     "output_type": "execute_result"
    }
   ],
   "source": [
    "real_ad.head(3)"
   ]
  },
  {
   "cell_type": "code",
   "execution_count": 247,
   "metadata": {},
   "outputs": [
    {
     "data": {
      "text/plain": [
       "0.7634538461538461"
      ]
     },
     "execution_count": 247,
     "metadata": {},
     "output_type": "execute_result"
    }
   ],
   "source": [
    "len(test_ad)/len(real_ad)"
   ]
  },
  {
   "cell_type": "code",
   "execution_count": 208,
   "metadata": {},
   "outputs": [
    {
     "data": {
      "text/plain": [
       "dtype('O')"
      ]
     },
     "execution_count": 208,
     "metadata": {},
     "output_type": "execute_result"
    }
   ],
   "source": [
    "real_ad.full_address.dtypes"
   ]
  },
  {
   "cell_type": "code",
   "execution_count": 206,
   "metadata": {},
   "outputs": [
    {
     "data": {
      "text/plain": [
       "street_nm       object\n",
       "city            object\n",
       "state           object\n",
       "zip_code        object\n",
       "full_address    object\n",
       "dtype: object"
      ]
     },
     "execution_count": 206,
     "metadata": {},
     "output_type": "execute_result"
    }
   ],
   "source": [
    "real_ad.dtypes"
   ]
  },
  {
   "cell_type": "code",
   "execution_count": 78,
   "metadata": {},
   "outputs": [],
   "source": [
    "test_ad['Cust_address'] = test_ad['address'] + test_ad['city'] + test_ad['state']+ test_ad['zip'].astype(str)"
   ]
  },
  {
   "cell_type": "code",
   "execution_count": 42,
   "metadata": {},
   "outputs": [],
   "source": [
    "ad_lst = real_ad.full_address.tolist()"
   ]
  },
  {
   "cell_type": "code",
   "execution_count": 72,
   "metadata": {},
   "outputs": [
    {
     "data": {
      "text/html": [
       "<div>\n",
       "<style scoped>\n",
       "    .dataframe tbody tr th:only-of-type {\n",
       "        vertical-align: middle;\n",
       "    }\n",
       "\n",
       "    .dataframe tbody tr th {\n",
       "        vertical-align: top;\n",
       "    }\n",
       "\n",
       "    .dataframe thead th {\n",
       "        text-align: right;\n",
       "    }\n",
       "</style>\n",
       "<table border=\"1\" class=\"dataframe\">\n",
       "  <thead>\n",
       "    <tr style=\"text-align: right;\">\n",
       "      <th></th>\n",
       "      <th>uid</th>\n",
       "      <th>address</th>\n",
       "      <th>city</th>\n",
       "      <th>state</th>\n",
       "      <th>zip</th>\n",
       "      <th>Cust_address</th>\n",
       "    </tr>\n",
       "  </thead>\n",
       "  <tbody>\n",
       "    <tr>\n",
       "      <td>0</td>\n",
       "      <td>1</td>\n",
       "      <td>941 Thorpe St</td>\n",
       "      <td>Rock Springs</td>\n",
       "      <td>WY</td>\n",
       "      <td>82901.0</td>\n",
       "      <td>941 Thorpe StRock SpringsWY82901.0</td>\n",
       "    </tr>\n",
       "    <tr>\n",
       "      <td>1</td>\n",
       "      <td>2</td>\n",
       "      <td>2809 HARRIS DR</td>\n",
       "      <td>Antioch</td>\n",
       "      <td>CA</td>\n",
       "      <td>94509.0</td>\n",
       "      <td>2809 HARRIS DRAntiochCA94509.0</td>\n",
       "    </tr>\n",
       "    <tr>\n",
       "      <td>2</td>\n",
       "      <td>3</td>\n",
       "      <td>1441 Eastlake Ave</td>\n",
       "      <td>Los Angeles</td>\n",
       "      <td>CA</td>\n",
       "      <td>90033.0</td>\n",
       "      <td>1441 Eastlake AveLos AngelesCA90033.0</td>\n",
       "    </tr>\n",
       "    <tr>\n",
       "      <td>3</td>\n",
       "      <td>4</td>\n",
       "      <td>7 ucayptus</td>\n",
       "      <td>Newport Beach</td>\n",
       "      <td>CA</td>\n",
       "      <td>92657.0</td>\n",
       "      <td>7 ucayptusNewport BeachCA92657.0</td>\n",
       "    </tr>\n",
       "    <tr>\n",
       "      <td>4</td>\n",
       "      <td>5</td>\n",
       "      <td>1400 Lachman Ln</td>\n",
       "      <td>NaN</td>\n",
       "      <td>CA</td>\n",
       "      <td>90272.0</td>\n",
       "      <td>NaN</td>\n",
       "    </tr>\n",
       "  </tbody>\n",
       "</table>\n",
       "</div>"
      ],
      "text/plain": [
       "   uid            address           city state      zip  \\\n",
       "0    1      941 Thorpe St   Rock Springs    WY  82901.0   \n",
       "1    2     2809 HARRIS DR        Antioch    CA  94509.0   \n",
       "2    3  1441 Eastlake Ave    Los Angeles    CA  90033.0   \n",
       "3    4         7 ucayptus  Newport Beach    CA  92657.0   \n",
       "4    5    1400 Lachman Ln            NaN    CA  90272.0   \n",
       "\n",
       "                            Cust_address  \n",
       "0     941 Thorpe StRock SpringsWY82901.0  \n",
       "1         2809 HARRIS DRAntiochCA94509.0  \n",
       "2  1441 Eastlake AveLos AngelesCA90033.0  \n",
       "3       7 ucayptusNewport BeachCA92657.0  \n",
       "4                                    NaN  "
      ]
     },
     "execution_count": 72,
     "metadata": {},
     "output_type": "execute_result"
    }
   ],
   "source": [
    "test_ad.head()"
   ]
  },
  {
   "cell_type": "code",
   "execution_count": null,
   "metadata": {},
   "outputs": [],
   "source": []
  },
  {
   "cell_type": "code",
   "execution_count": 131,
   "metadata": {},
   "outputs": [
    {
     "data": {
      "text/html": [
       "<div>\n",
       "<style scoped>\n",
       "    .dataframe tbody tr th:only-of-type {\n",
       "        vertical-align: middle;\n",
       "    }\n",
       "\n",
       "    .dataframe tbody tr th {\n",
       "        vertical-align: top;\n",
       "    }\n",
       "\n",
       "    .dataframe thead th {\n",
       "        text-align: right;\n",
       "    }\n",
       "</style>\n",
       "<table border=\"1\" class=\"dataframe\">\n",
       "  <thead>\n",
       "    <tr style=\"text-align: right;\">\n",
       "      <th></th>\n",
       "      <th>address</th>\n",
       "      <th>city</th>\n",
       "      <th>state</th>\n",
       "      <th>zip</th>\n",
       "      <th>full_address</th>\n",
       "    </tr>\n",
       "  </thead>\n",
       "  <tbody>\n",
       "    <tr>\n",
       "      <td>0</td>\n",
       "      <td>941 Thorpe St</td>\n",
       "      <td>Rock Springs</td>\n",
       "      <td>WY</td>\n",
       "      <td>82901</td>\n",
       "      <td>941 Thorpe StRock SpringsWY82901</td>\n",
       "    </tr>\n",
       "    <tr>\n",
       "      <td>1</td>\n",
       "      <td>2809 HARRIS DR</td>\n",
       "      <td>Antioch</td>\n",
       "      <td>CA</td>\n",
       "      <td>94509</td>\n",
       "      <td>2809 HARRIS DRAntiochCA94509</td>\n",
       "    </tr>\n",
       "    <tr>\n",
       "      <td>2</td>\n",
       "      <td>1441 Eastlake Ave</td>\n",
       "      <td>Los Angeles</td>\n",
       "      <td>CA</td>\n",
       "      <td>90033</td>\n",
       "      <td>1441 Eastlake AveLos AngelesCA90033</td>\n",
       "    </tr>\n",
       "    <tr>\n",
       "      <td>3</td>\n",
       "      <td>7 Eucalyptus</td>\n",
       "      <td>Newport Beach</td>\n",
       "      <td>CA</td>\n",
       "      <td>92657</td>\n",
       "      <td>7 EucalyptusNewport BeachCA92657</td>\n",
       "    </tr>\n",
       "    <tr>\n",
       "      <td>4</td>\n",
       "      <td>1400 Lachman Ln</td>\n",
       "      <td>Los Angeles</td>\n",
       "      <td>CA</td>\n",
       "      <td>90272</td>\n",
       "      <td>1400 Lachman LnLos AngelesCA90272</td>\n",
       "    </tr>\n",
       "  </tbody>\n",
       "</table>\n",
       "</div>"
      ],
      "text/plain": [
       "             address           city state    zip  \\\n",
       "0      941 Thorpe St   Rock Springs    WY  82901   \n",
       "1     2809 HARRIS DR        Antioch    CA  94509   \n",
       "2  1441 Eastlake Ave    Los Angeles    CA  90033   \n",
       "3       7 Eucalyptus  Newport Beach    CA  92657   \n",
       "4    1400 Lachman Ln    Los Angeles    CA  90272   \n",
       "\n",
       "                          full_address  \n",
       "0     941 Thorpe StRock SpringsWY82901  \n",
       "1         2809 HARRIS DRAntiochCA94509  \n",
       "2  1441 Eastlake AveLos AngelesCA90033  \n",
       "3     7 EucalyptusNewport BeachCA92657  \n",
       "4    1400 Lachman LnLos AngelesCA90272  "
      ]
     },
     "execution_count": 131,
     "metadata": {},
     "output_type": "execute_result"
    }
   ],
   "source": [
    "real_ad.head()"
   ]
  },
  {
   "cell_type": "code",
   "execution_count": 295,
   "metadata": {},
   "outputs": [
    {
     "name": "stdout",
     "output_type": "stream",
     "text": [
      "The dataset has the following shape: (130000, 5).\n"
     ]
    }
   ],
   "source": [
    "print(\"The dataset has the following shape: {}.\".format(real_ad.shape))"
   ]
  },
  {
   "cell_type": "code",
   "execution_count": 141,
   "metadata": {},
   "outputs": [
    {
     "data": {
      "text/plain": [
       "full_address\n",
       "#NAME?---                                 1\n",
       "#NAME?-CA-                               27\n",
       "#NAME?-CA91390                            5\n",
       "#NAME?-CA91901                            2\n",
       "#NAME?-CA92036                            2\n",
       "                                         ..\n",
       "Yaqui Pass RdBorrego SpringsCA92004       4\n",
       "Yerington AveKeelerCA93530                1\n",
       "Zephyr RdHelendaleCA92342                 1\n",
       "Zinfandel DrRancho CordovaCA95670         1\n",
       "undefined Marines DrLittle ElmTX75068     1\n",
       "Length: 96632, dtype: int64"
      ]
     },
     "execution_count": 141,
     "metadata": {},
     "output_type": "execute_result"
    }
   ],
   "source": [
    "real_ad.groupby('full_address').size()"
   ]
  },
  {
   "cell_type": "code",
   "execution_count": 320,
   "metadata": {},
   "outputs": [
    {
     "data": {
      "text/plain": [
       "(1055, 5)"
      ]
     },
     "execution_count": 320,
     "metadata": {},
     "output_type": "execute_result"
    }
   ],
   "source": [
    "#examine columns that start with ' - ' or ' # '\n",
    "dirty = real_ad[real_ad['full_address'].astype(str).str.startswith('#') | real_ad['full_address'].astype(str).str.startswith('-')| \n",
    "                real_ad['city'].astype(str).str.startswith('-') | real_ad['state'].astype(str).str.startswith('-') ]\n",
    "dirty.shape"
   ]
  },
  {
   "cell_type": "code",
   "execution_count": null,
   "metadata": {},
   "outputs": [],
   "source": [
    "def clean_addr()"
   ]
  },
  {
   "cell_type": "code",
   "execution_count": 316,
   "metadata": {},
   "outputs": [
    {
     "data": {
      "text/html": [
       "<div>\n",
       "<style scoped>\n",
       "    .dataframe tbody tr th:only-of-type {\n",
       "        vertical-align: middle;\n",
       "    }\n",
       "\n",
       "    .dataframe tbody tr th {\n",
       "        vertical-align: top;\n",
       "    }\n",
       "\n",
       "    .dataframe thead th {\n",
       "        text-align: right;\n",
       "    }\n",
       "</style>\n",
       "<table border=\"1\" class=\"dataframe\">\n",
       "  <thead>\n",
       "    <tr style=\"text-align: right;\">\n",
       "      <th></th>\n",
       "      <th>street_nm</th>\n",
       "      <th>city</th>\n",
       "      <th>state</th>\n",
       "      <th>zip_code</th>\n",
       "      <th>full_address</th>\n",
       "    </tr>\n",
       "  </thead>\n",
       "  <tbody>\n",
       "    <tr>\n",
       "      <td>529</td>\n",
       "      <td>- E Ave R 10</td>\n",
       "      <td>-</td>\n",
       "      <td>CA</td>\n",
       "      <td>93543</td>\n",
       "      <td>- E Ave R 10-CA93543</td>\n",
       "    </tr>\n",
       "    <tr>\n",
       "      <td>2091</td>\n",
       "      <td>- 17th St</td>\n",
       "      <td>Piedmont</td>\n",
       "      <td>CA</td>\n",
       "      <td>94611</td>\n",
       "      <td>- 17th StPiedmontCA94611</td>\n",
       "    </tr>\n",
       "    <tr>\n",
       "      <td>2618</td>\n",
       "      <td>- -</td>\n",
       "      <td>Butte Valley</td>\n",
       "      <td>CA</td>\n",
       "      <td>95965</td>\n",
       "      <td>- -Butte ValleyCA95965</td>\n",
       "    </tr>\n",
       "    <tr>\n",
       "      <td>2986</td>\n",
       "      <td>- -</td>\n",
       "      <td>Palmdale</td>\n",
       "      <td>CA</td>\n",
       "      <td>93552</td>\n",
       "      <td>- -PalmdaleCA93552</td>\n",
       "    </tr>\n",
       "    <tr>\n",
       "      <td>3037</td>\n",
       "      <td>- -</td>\n",
       "      <td>Lancaster</td>\n",
       "      <td>CA</td>\n",
       "      <td>93536</td>\n",
       "      <td>- -LancasterCA93536</td>\n",
       "    </tr>\n",
       "  </tbody>\n",
       "</table>\n",
       "</div>"
      ],
      "text/plain": [
       "         street_nm          city state zip_code              full_address\n",
       "529   - E Ave R 10             -    CA    93543      - E Ave R 10-CA93543\n",
       "2091     - 17th St      Piedmont    CA    94611  - 17th StPiedmontCA94611\n",
       "2618           - -  Butte Valley    CA    95965    - -Butte ValleyCA95965\n",
       "2986           - -      Palmdale    CA    93552        - -PalmdaleCA93552\n",
       "3037           - -     Lancaster    CA    93536       - -LancasterCA93536"
      ]
     },
     "execution_count": 316,
     "metadata": {},
     "output_type": "execute_result"
    }
   ],
   "source": [
    " real_ad[real_ad['full_address'].astype(str).str.startswith('-')].head()"
   ]
  },
  {
   "cell_type": "code",
   "execution_count": 319,
   "metadata": {},
   "outputs": [
    {
     "data": {
      "text/html": [
       "<div>\n",
       "<style scoped>\n",
       "    .dataframe tbody tr th:only-of-type {\n",
       "        vertical-align: middle;\n",
       "    }\n",
       "\n",
       "    .dataframe tbody tr th {\n",
       "        vertical-align: top;\n",
       "    }\n",
       "\n",
       "    .dataframe thead th {\n",
       "        text-align: right;\n",
       "    }\n",
       "</style>\n",
       "<table border=\"1\" class=\"dataframe\">\n",
       "  <thead>\n",
       "    <tr style=\"text-align: right;\">\n",
       "      <th></th>\n",
       "      <th>street_nm</th>\n",
       "      <th>city</th>\n",
       "      <th>state</th>\n",
       "      <th>zip_code</th>\n",
       "      <th>full_address</th>\n",
       "    </tr>\n",
       "  </thead>\n",
       "  <tbody>\n",
       "    <tr>\n",
       "      <td>106</td>\n",
       "      <td>#NAME?</td>\n",
       "      <td>Hayward</td>\n",
       "      <td>CA</td>\n",
       "      <td>-</td>\n",
       "      <td>#NAME?HaywardCA-</td>\n",
       "    </tr>\n",
       "    <tr>\n",
       "      <td>3569</td>\n",
       "      <td>#NAME?</td>\n",
       "      <td>-</td>\n",
       "      <td>CA</td>\n",
       "      <td>-</td>\n",
       "      <td>#NAME?-CA-</td>\n",
       "    </tr>\n",
       "    <tr>\n",
       "      <td>4511</td>\n",
       "      <td>#NAME?</td>\n",
       "      <td>-</td>\n",
       "      <td>CA</td>\n",
       "      <td>-</td>\n",
       "      <td>#NAME?-CA-</td>\n",
       "    </tr>\n",
       "    <tr>\n",
       "      <td>10102</td>\n",
       "      <td>- 40th St E</td>\n",
       "      <td>Lancaster</td>\n",
       "      <td>CA</td>\n",
       "      <td>-</td>\n",
       "      <td>- 40th St ELancasterCA-</td>\n",
       "    </tr>\n",
       "    <tr>\n",
       "      <td>10799</td>\n",
       "      <td>#NAME?</td>\n",
       "      <td>-</td>\n",
       "      <td>CA</td>\n",
       "      <td>-</td>\n",
       "      <td>#NAME?-CA-</td>\n",
       "    </tr>\n",
       "  </tbody>\n",
       "</table>\n",
       "</div>"
      ],
      "text/plain": [
       "         street_nm       city state zip_code             full_address\n",
       "106         #NAME?    Hayward    CA        -         #NAME?HaywardCA-\n",
       "3569        #NAME?          -    CA        -               #NAME?-CA-\n",
       "4511        #NAME?          -    CA        -               #NAME?-CA-\n",
       "10102  - 40th St E  Lancaster    CA        -  - 40th St ELancasterCA-\n",
       "10799       #NAME?          -    CA        -               #NAME?-CA-"
      ]
     },
     "execution_count": 319,
     "metadata": {},
     "output_type": "execute_result"
    }
   ],
   "source": [
    " real_ad[real_ad['zip_code'].astype(str).str.startswith('-')].head()"
   ]
  },
  {
   "cell_type": "code",
   "execution_count": null,
   "metadata": {},
   "outputs": [],
   "source": []
  },
  {
   "cell_type": "code",
   "execution_count": 314,
   "metadata": {},
   "outputs": [
    {
     "data": {
      "text/plain": [
       "(129496, 5)"
      ]
     },
     "execution_count": 314,
     "metadata": {},
     "output_type": "execute_result"
    }
   ],
   "source": [
    "clean = real_ad[~real_ad['full_address'].astype(str).str.startswith('#') | real_ad['full_address'].astype(str).str.startswith('-')]\n",
    "clean.shape"
   ]
  },
  {
   "cell_type": "code",
   "execution_count": 154,
   "metadata": {},
   "outputs": [
    {
     "data": {
      "text/html": [
       "<div>\n",
       "<style scoped>\n",
       "    .dataframe tbody tr th:only-of-type {\n",
       "        vertical-align: middle;\n",
       "    }\n",
       "\n",
       "    .dataframe tbody tr th {\n",
       "        vertical-align: top;\n",
       "    }\n",
       "\n",
       "    .dataframe thead th {\n",
       "        text-align: right;\n",
       "    }\n",
       "</style>\n",
       "<table border=\"1\" class=\"dataframe\">\n",
       "  <thead>\n",
       "    <tr style=\"text-align: right;\">\n",
       "      <th></th>\n",
       "      <th>address</th>\n",
       "      <th>city</th>\n",
       "      <th>state</th>\n",
       "      <th>zip</th>\n",
       "      <th>full_address</th>\n",
       "    </tr>\n",
       "  </thead>\n",
       "  <tbody>\n",
       "    <tr>\n",
       "      <td>0</td>\n",
       "      <td>941 Thorpe St</td>\n",
       "      <td>Rock Springs</td>\n",
       "      <td>WY</td>\n",
       "      <td>82901</td>\n",
       "      <td>941 Thorpe StRock SpringsWY82901</td>\n",
       "    </tr>\n",
       "    <tr>\n",
       "      <td>1</td>\n",
       "      <td>2809 HARRIS DR</td>\n",
       "      <td>Antioch</td>\n",
       "      <td>CA</td>\n",
       "      <td>94509</td>\n",
       "      <td>2809 HARRIS DRAntiochCA94509</td>\n",
       "    </tr>\n",
       "    <tr>\n",
       "      <td>2</td>\n",
       "      <td>1441 Eastlake Ave</td>\n",
       "      <td>Los Angeles</td>\n",
       "      <td>CA</td>\n",
       "      <td>90033</td>\n",
       "      <td>1441 Eastlake AveLos AngelesCA90033</td>\n",
       "    </tr>\n",
       "    <tr>\n",
       "      <td>3</td>\n",
       "      <td>7 Eucalyptus</td>\n",
       "      <td>Newport Beach</td>\n",
       "      <td>CA</td>\n",
       "      <td>92657</td>\n",
       "      <td>7 EucalyptusNewport BeachCA92657</td>\n",
       "    </tr>\n",
       "    <tr>\n",
       "      <td>4</td>\n",
       "      <td>1400 Lachman Ln</td>\n",
       "      <td>Los Angeles</td>\n",
       "      <td>CA</td>\n",
       "      <td>90272</td>\n",
       "      <td>1400 Lachman LnLos AngelesCA90272</td>\n",
       "    </tr>\n",
       "  </tbody>\n",
       "</table>\n",
       "</div>"
      ],
      "text/plain": [
       "             address           city state    zip  \\\n",
       "0      941 Thorpe St   Rock Springs    WY  82901   \n",
       "1     2809 HARRIS DR        Antioch    CA  94509   \n",
       "2  1441 Eastlake Ave    Los Angeles    CA  90033   \n",
       "3       7 Eucalyptus  Newport Beach    CA  92657   \n",
       "4    1400 Lachman Ln    Los Angeles    CA  90272   \n",
       "\n",
       "                          full_address  \n",
       "0     941 Thorpe StRock SpringsWY82901  \n",
       "1         2809 HARRIS DRAntiochCA94509  \n",
       "2  1441 Eastlake AveLos AngelesCA90033  \n",
       "3     7 EucalyptusNewport BeachCA92657  \n",
       "4    1400 Lachman LnLos AngelesCA90272  "
      ]
     },
     "execution_count": 154,
     "metadata": {},
     "output_type": "execute_result"
    }
   ],
   "source": [
    "clean.head()"
   ]
  },
  {
   "cell_type": "code",
   "execution_count": 298,
   "metadata": {},
   "outputs": [
    {
     "data": {
      "text/plain": [
       "dtype('O')"
      ]
     },
     "execution_count": 298,
     "metadata": {},
     "output_type": "execute_result"
    }
   ],
   "source": [
    "clean.full_address.dtypes"
   ]
  },
  {
   "cell_type": "code",
   "execution_count": 300,
   "metadata": {},
   "outputs": [
    {
     "data": {
      "text/plain": [
       "0       941 Thorpe StRock SpringsWY82901\n",
       "1           2809 HARRIS DRAntiochCA94509\n",
       "2    1441 Eastlake AveLos AngelesCA90033\n",
       "3       7 EucalyptusNewport BeachCA92657\n",
       "4      1400 Lachman LnLos AngelesCA90272\n",
       "Name: full_address, dtype: object"
      ]
     },
     "execution_count": 300,
     "metadata": {},
     "output_type": "execute_result"
    }
   ],
   "source": [
    "addr = clean['full_address'].astype(str)\n",
    "addr.head()"
   ]
  },
  {
   "cell_type": "code",
   "execution_count": 321,
   "metadata": {},
   "outputs": [],
   "source": [
    "#addr.to_list()"
   ]
  },
  {
   "cell_type": "code",
   "execution_count": 305,
   "metadata": {},
   "outputs": [
    {
     "data": {
      "text/plain": [
       "0            941 Thorpe StRock SpringsWY82901\n",
       "1                2809 HARRIS DRAntiochCA94509\n",
       "2         1441 Eastlake AveLos AngelesCA90033\n",
       "3            7 EucalyptusNewport BeachCA92657\n",
       "4           1400 Lachman LnLos AngelesCA90272\n",
       "                         ...                 \n",
       "129995       4477 Camrose AveSan DiegoCA92122\n",
       "129996              13 STONEWALLIrvineCA92620\n",
       "129997      3456 Nouveau WayGold RiverCA95670\n",
       "129998      9115 Bungalow WayElk GroveCA95758\n",
       "129999    1824 Highlands View RdAlpineCA91901\n",
       "Name: full_address, Length: 129496, dtype: object"
      ]
     },
     "execution_count": 305,
     "metadata": {},
     "output_type": "execute_result"
    }
   ],
   "source": [
    "addr.str.strip()"
   ]
  },
  {
   "cell_type": "code",
   "execution_count": null,
   "metadata": {},
   "outputs": [],
   "source": [
    "bigdata = data1.append(data2, ignore_index=True)"
   ]
  },
  {
   "cell_type": "code",
   "execution_count": 158,
   "metadata": {},
   "outputs": [
    {
     "data": {
      "text/plain": [
       "(229249, 7)"
      ]
     },
     "execution_count": 158,
     "metadata": {},
     "output_type": "execute_result"
    }
   ],
   "source": [
    "common_ad = real_ad.append(test_ad, ignore_index=True, sort=True)\n",
    "common_ad.shape"
   ]
  },
  {
   "cell_type": "code",
   "execution_count": 159,
   "metadata": {},
   "outputs": [
    {
     "data": {
      "text/html": [
       "<div>\n",
       "<style scoped>\n",
       "    .dataframe tbody tr th:only-of-type {\n",
       "        vertical-align: middle;\n",
       "    }\n",
       "\n",
       "    .dataframe tbody tr th {\n",
       "        vertical-align: top;\n",
       "    }\n",
       "\n",
       "    .dataframe thead th {\n",
       "        text-align: right;\n",
       "    }\n",
       "</style>\n",
       "<table border=\"1\" class=\"dataframe\">\n",
       "  <thead>\n",
       "    <tr style=\"text-align: right;\">\n",
       "      <th></th>\n",
       "      <th>Cust_address</th>\n",
       "      <th>address</th>\n",
       "      <th>city</th>\n",
       "      <th>full_address</th>\n",
       "      <th>state</th>\n",
       "      <th>uid</th>\n",
       "      <th>zip</th>\n",
       "    </tr>\n",
       "  </thead>\n",
       "  <tbody>\n",
       "    <tr>\n",
       "      <td>0</td>\n",
       "      <td>NaN</td>\n",
       "      <td>941 Thorpe St</td>\n",
       "      <td>Rock Springs</td>\n",
       "      <td>941 Thorpe StRock SpringsWY82901</td>\n",
       "      <td>WY</td>\n",
       "      <td>NaN</td>\n",
       "      <td>82901</td>\n",
       "    </tr>\n",
       "    <tr>\n",
       "      <td>1</td>\n",
       "      <td>NaN</td>\n",
       "      <td>2809 HARRIS DR</td>\n",
       "      <td>Antioch</td>\n",
       "      <td>2809 HARRIS DRAntiochCA94509</td>\n",
       "      <td>CA</td>\n",
       "      <td>NaN</td>\n",
       "      <td>94509</td>\n",
       "    </tr>\n",
       "    <tr>\n",
       "      <td>2</td>\n",
       "      <td>NaN</td>\n",
       "      <td>1441 Eastlake Ave</td>\n",
       "      <td>Los Angeles</td>\n",
       "      <td>1441 Eastlake AveLos AngelesCA90033</td>\n",
       "      <td>CA</td>\n",
       "      <td>NaN</td>\n",
       "      <td>90033</td>\n",
       "    </tr>\n",
       "    <tr>\n",
       "      <td>3</td>\n",
       "      <td>NaN</td>\n",
       "      <td>7 Eucalyptus</td>\n",
       "      <td>Newport Beach</td>\n",
       "      <td>7 EucalyptusNewport BeachCA92657</td>\n",
       "      <td>CA</td>\n",
       "      <td>NaN</td>\n",
       "      <td>92657</td>\n",
       "    </tr>\n",
       "    <tr>\n",
       "      <td>4</td>\n",
       "      <td>NaN</td>\n",
       "      <td>1400 Lachman Ln</td>\n",
       "      <td>Los Angeles</td>\n",
       "      <td>1400 Lachman LnLos AngelesCA90272</td>\n",
       "      <td>CA</td>\n",
       "      <td>NaN</td>\n",
       "      <td>90272</td>\n",
       "    </tr>\n",
       "  </tbody>\n",
       "</table>\n",
       "</div>"
      ],
      "text/plain": [
       "  Cust_address            address           city  \\\n",
       "0          NaN      941 Thorpe St   Rock Springs   \n",
       "1          NaN     2809 HARRIS DR        Antioch   \n",
       "2          NaN  1441 Eastlake Ave    Los Angeles   \n",
       "3          NaN       7 Eucalyptus  Newport Beach   \n",
       "4          NaN    1400 Lachman Ln    Los Angeles   \n",
       "\n",
       "                          full_address state  uid    zip  \n",
       "0     941 Thorpe StRock SpringsWY82901    WY  NaN  82901  \n",
       "1         2809 HARRIS DRAntiochCA94509    CA  NaN  94509  \n",
       "2  1441 Eastlake AveLos AngelesCA90033    CA  NaN  90033  \n",
       "3     7 EucalyptusNewport BeachCA92657    CA  NaN  92657  \n",
       "4    1400 Lachman LnLos AngelesCA90272    CA  NaN  90272  "
      ]
     },
     "execution_count": 159,
     "metadata": {},
     "output_type": "execute_result"
    }
   ],
   "source": [
    "common_ad.head()"
   ]
  },
  {
   "cell_type": "code",
   "execution_count": 163,
   "metadata": {},
   "outputs": [
    {
     "data": {
      "text/plain": [
       "(193754, 7)"
      ]
     },
     "execution_count": 163,
     "metadata": {},
     "output_type": "execute_result"
    }
   ],
   "source": [
    "new_df = common_ad.drop_duplicates(subset=['address', 'full_address'])\n",
    "new_df.shape"
   ]
  },
  {
   "cell_type": "code",
   "execution_count": 81,
   "metadata": {},
   "outputs": [],
   "source": [
    "df1 = real_ad[['full_address']]"
   ]
  },
  {
   "cell_type": "code",
   "execution_count": 82,
   "metadata": {},
   "outputs": [],
   "source": [
    "df2 = test_ad[['Cust_address']]"
   ]
  },
  {
   "cell_type": "code",
   "execution_count": 84,
   "metadata": {},
   "outputs": [
    {
     "data": {
      "text/html": [
       "<div>\n",
       "<style scoped>\n",
       "    .dataframe tbody tr th:only-of-type {\n",
       "        vertical-align: middle;\n",
       "    }\n",
       "\n",
       "    .dataframe tbody tr th {\n",
       "        vertical-align: top;\n",
       "    }\n",
       "\n",
       "    .dataframe thead th {\n",
       "        text-align: right;\n",
       "    }\n",
       "</style>\n",
       "<table border=\"1\" class=\"dataframe\">\n",
       "  <thead>\n",
       "    <tr style=\"text-align: right;\">\n",
       "      <th></th>\n",
       "      <th>full_address</th>\n",
       "      <th>Cust_address</th>\n",
       "    </tr>\n",
       "  </thead>\n",
       "  <tbody>\n",
       "    <tr>\n",
       "      <td>0</td>\n",
       "      <td>941 Thorpe StRock SpringsWY82901</td>\n",
       "      <td>941 Thorpe StRock SpringsWY82901.0</td>\n",
       "    </tr>\n",
       "    <tr>\n",
       "      <td>1</td>\n",
       "      <td>2809 HARRIS DRAntiochCA94509</td>\n",
       "      <td>2809 HARRIS DRAntiochCA94509.0</td>\n",
       "    </tr>\n",
       "    <tr>\n",
       "      <td>2</td>\n",
       "      <td>1441 Eastlake AveLos AngelesCA90033</td>\n",
       "      <td>1441 Eastlake AveLos AngelesCA90033.0</td>\n",
       "    </tr>\n",
       "    <tr>\n",
       "      <td>3</td>\n",
       "      <td>7 EucalyptusNewport BeachCA92657</td>\n",
       "      <td>7 ucayptusNewport BeachCA92657.0</td>\n",
       "    </tr>\n",
       "    <tr>\n",
       "      <td>4</td>\n",
       "      <td>1400 Lachman LnLos AngelesCA90272</td>\n",
       "      <td>NaN</td>\n",
       "    </tr>\n",
       "  </tbody>\n",
       "</table>\n",
       "</div>"
      ],
      "text/plain": [
       "                          full_address                           Cust_address\n",
       "0     941 Thorpe StRock SpringsWY82901     941 Thorpe StRock SpringsWY82901.0\n",
       "1         2809 HARRIS DRAntiochCA94509         2809 HARRIS DRAntiochCA94509.0\n",
       "2  1441 Eastlake AveLos AngelesCA90033  1441 Eastlake AveLos AngelesCA90033.0\n",
       "3     7 EucalyptusNewport BeachCA92657       7 ucayptusNewport BeachCA92657.0\n",
       "4    1400 Lachman LnLos AngelesCA90272                                    NaN"
      ]
     },
     "execution_count": 84,
     "metadata": {},
     "output_type": "execute_result"
    }
   ],
   "source": [
    "df3 = pd.concat([df1,df2 ], axis=1)\n",
    "df3.head()"
   ]
  },
  {
   "cell_type": "code",
   "execution_count": 85,
   "metadata": {},
   "outputs": [
    {
     "data": {
      "text/plain": [
       "(130000, 2)"
      ]
     },
     "execution_count": 85,
     "metadata": {},
     "output_type": "execute_result"
    }
   ],
   "source": [
    "df3.shape"
   ]
  },
  {
   "cell_type": "code",
   "execution_count": 90,
   "metadata": {},
   "outputs": [
    {
     "data": {
      "text/html": [
       "<div>\n",
       "<style scoped>\n",
       "    .dataframe tbody tr th:only-of-type {\n",
       "        vertical-align: middle;\n",
       "    }\n",
       "\n",
       "    .dataframe tbody tr th {\n",
       "        vertical-align: top;\n",
       "    }\n",
       "\n",
       "    .dataframe thead th {\n",
       "        text-align: right;\n",
       "    }\n",
       "</style>\n",
       "<table border=\"1\" class=\"dataframe\">\n",
       "  <thead>\n",
       "    <tr style=\"text-align: right;\">\n",
       "      <th></th>\n",
       "      <th>full_address</th>\n",
       "      <th>Cust_address</th>\n",
       "      <th>match</th>\n",
       "    </tr>\n",
       "  </thead>\n",
       "  <tbody>\n",
       "    <tr>\n",
       "      <td>0</td>\n",
       "      <td>941 Thorpe StRock SpringsWY82901</td>\n",
       "      <td>941 Thorpe StRock SpringsWY82901</td>\n",
       "      <td>0</td>\n",
       "    </tr>\n",
       "    <tr>\n",
       "      <td>1</td>\n",
       "      <td>2809 HARRIS DRAntiochCA94509</td>\n",
       "      <td>2809 HARRIS DRAntiochCA94509</td>\n",
       "      <td>0</td>\n",
       "    </tr>\n",
       "    <tr>\n",
       "      <td>2</td>\n",
       "      <td>1441 Eastlake AveLos AngelesCA90033</td>\n",
       "      <td>1441 Eastlake AveLos AngelesCA90033</td>\n",
       "      <td>0</td>\n",
       "    </tr>\n",
       "  </tbody>\n",
       "</table>\n",
       "</div>"
      ],
      "text/plain": [
       "                          full_address                         Cust_address  \\\n",
       "0     941 Thorpe StRock SpringsWY82901     941 Thorpe StRock SpringsWY82901   \n",
       "1         2809 HARRIS DRAntiochCA94509         2809 HARRIS DRAntiochCA94509   \n",
       "2  1441 Eastlake AveLos AngelesCA90033  1441 Eastlake AveLos AngelesCA90033   \n",
       "\n",
       "   match  \n",
       "0      0  \n",
       "1      0  \n",
       "2      0  "
      ]
     },
     "execution_count": 90,
     "metadata": {},
     "output_type": "execute_result"
    }
   ],
   "source": [
    "df3['Cust_address'] = df3['Cust_address'].astype(str).apply(lambda x: x.replace('.0',''))\n",
    "df3.head(3)"
   ]
  },
  {
   "cell_type": "code",
   "execution_count": 91,
   "metadata": {},
   "outputs": [
    {
     "data": {
      "text/html": [
       "<div>\n",
       "<style scoped>\n",
       "    .dataframe tbody tr th:only-of-type {\n",
       "        vertical-align: middle;\n",
       "    }\n",
       "\n",
       "    .dataframe tbody tr th {\n",
       "        vertical-align: top;\n",
       "    }\n",
       "\n",
       "    .dataframe thead th {\n",
       "        text-align: right;\n",
       "    }\n",
       "</style>\n",
       "<table border=\"1\" class=\"dataframe\">\n",
       "  <thead>\n",
       "    <tr style=\"text-align: right;\">\n",
       "      <th></th>\n",
       "      <th>full_address</th>\n",
       "      <th>Cust_address</th>\n",
       "      <th>match</th>\n",
       "    </tr>\n",
       "  </thead>\n",
       "  <tbody>\n",
       "    <tr>\n",
       "      <td>0</td>\n",
       "      <td>941 Thorpe StRock SpringsWY82901</td>\n",
       "      <td>941 Thorpe StRock SpringsWY82901</td>\n",
       "      <td>1</td>\n",
       "    </tr>\n",
       "    <tr>\n",
       "      <td>1</td>\n",
       "      <td>2809 HARRIS DRAntiochCA94509</td>\n",
       "      <td>2809 HARRIS DRAntiochCA94509</td>\n",
       "      <td>1</td>\n",
       "    </tr>\n",
       "    <tr>\n",
       "      <td>2</td>\n",
       "      <td>1441 Eastlake AveLos AngelesCA90033</td>\n",
       "      <td>1441 Eastlake AveLos AngelesCA90033</td>\n",
       "      <td>1</td>\n",
       "    </tr>\n",
       "    <tr>\n",
       "      <td>3</td>\n",
       "      <td>7 EucalyptusNewport BeachCA92657</td>\n",
       "      <td>7 ucayptusNewport BeachCA92657</td>\n",
       "      <td>0</td>\n",
       "    </tr>\n",
       "    <tr>\n",
       "      <td>4</td>\n",
       "      <td>1400 Lachman LnLos AngelesCA90272</td>\n",
       "      <td>nan</td>\n",
       "      <td>0</td>\n",
       "    </tr>\n",
       "  </tbody>\n",
       "</table>\n",
       "</div>"
      ],
      "text/plain": [
       "                          full_address                         Cust_address  \\\n",
       "0     941 Thorpe StRock SpringsWY82901     941 Thorpe StRock SpringsWY82901   \n",
       "1         2809 HARRIS DRAntiochCA94509         2809 HARRIS DRAntiochCA94509   \n",
       "2  1441 Eastlake AveLos AngelesCA90033  1441 Eastlake AveLos AngelesCA90033   \n",
       "3     7 EucalyptusNewport BeachCA92657       7 ucayptusNewport BeachCA92657   \n",
       "4    1400 Lachman LnLos AngelesCA90272                                  nan   \n",
       "\n",
       "   match  \n",
       "0      1  \n",
       "1      1  \n",
       "2      1  \n",
       "3      0  \n",
       "4      0  "
      ]
     },
     "execution_count": 91,
     "metadata": {},
     "output_type": "execute_result"
    }
   ],
   "source": [
    "df3['match'] = np.where(df3.full_address == df3.Cust_address,1,0)\n",
    "df3.head()"
   ]
  },
  {
   "cell_type": "code",
   "execution_count": 92,
   "metadata": {},
   "outputs": [
    {
     "data": {
      "text/plain": [
       "match\n",
       "0    129983\n",
       "1        17\n",
       "dtype: int64"
      ]
     },
     "execution_count": 92,
     "metadata": {},
     "output_type": "execute_result"
    }
   ],
   "source": [
    "df3.groupby('match').size()"
   ]
  },
  {
   "cell_type": "code",
   "execution_count": 100,
   "metadata": {},
   "outputs": [
    {
     "data": {
      "text/plain": [
       "0.013076923076923076"
      ]
     },
     "execution_count": 100,
     "metadata": {},
     "output_type": "execute_result"
    }
   ],
   "source": [
    "sum(df3.match) * 100 /len(df3.match)"
   ]
  },
  {
   "cell_type": "code",
   "execution_count": 102,
   "metadata": {},
   "outputs": [
    {
     "data": {
      "text/html": [
       "<div>\n",
       "<style scoped>\n",
       "    .dataframe tbody tr th:only-of-type {\n",
       "        vertical-align: middle;\n",
       "    }\n",
       "\n",
       "    .dataframe tbody tr th {\n",
       "        vertical-align: top;\n",
       "    }\n",
       "\n",
       "    .dataframe thead th {\n",
       "        text-align: right;\n",
       "    }\n",
       "</style>\n",
       "<table border=\"1\" class=\"dataframe\">\n",
       "  <thead>\n",
       "    <tr style=\"text-align: right;\">\n",
       "      <th></th>\n",
       "      <th>full_address</th>\n",
       "      <th>Cust_address</th>\n",
       "      <th>match</th>\n",
       "    </tr>\n",
       "  </thead>\n",
       "  <tbody>\n",
       "    <tr>\n",
       "      <td>3</td>\n",
       "      <td>7 EucalyptusNewport BeachCA92657</td>\n",
       "      <td>7 ucayptusNewport BeachCA92657</td>\n",
       "      <td>0</td>\n",
       "    </tr>\n",
       "    <tr>\n",
       "      <td>4</td>\n",
       "      <td>1400 Lachman LnLos AngelesCA90272</td>\n",
       "      <td>nan</td>\n",
       "      <td>0</td>\n",
       "    </tr>\n",
       "    <tr>\n",
       "      <td>5</td>\n",
       "      <td>725 Mountain View StAltadenaCA91001</td>\n",
       "      <td>725 ounain View StAltadenaCA91001</td>\n",
       "      <td>0</td>\n",
       "    </tr>\n",
       "    <tr>\n",
       "      <td>7</td>\n",
       "      <td>4341 69th StSacramentoCA95820</td>\n",
       "      <td>431 6th StSacramentoCA95820</td>\n",
       "      <td>0</td>\n",
       "    </tr>\n",
       "    <tr>\n",
       "      <td>9</td>\n",
       "      <td>3640 Oak Creek DrOntarioCA91761</td>\n",
       "      <td>3640 Oak Creek Dr, Unit 10OntarioCA91761</td>\n",
       "      <td>0</td>\n",
       "    </tr>\n",
       "    <tr>\n",
       "      <td>...</td>\n",
       "      <td>...</td>\n",
       "      <td>...</td>\n",
       "      <td>...</td>\n",
       "    </tr>\n",
       "    <tr>\n",
       "      <td>129995</td>\n",
       "      <td>4477 Camrose AveSan DiegoCA92122</td>\n",
       "      <td>nan</td>\n",
       "      <td>0</td>\n",
       "    </tr>\n",
       "    <tr>\n",
       "      <td>129996</td>\n",
       "      <td>13 STONEWALLIrvineCA92620</td>\n",
       "      <td>nan</td>\n",
       "      <td>0</td>\n",
       "    </tr>\n",
       "    <tr>\n",
       "      <td>129997</td>\n",
       "      <td>3456 Nouveau WayGold RiverCA95670</td>\n",
       "      <td>nan</td>\n",
       "      <td>0</td>\n",
       "    </tr>\n",
       "    <tr>\n",
       "      <td>129998</td>\n",
       "      <td>9115 Bungalow WayElk GroveCA95758</td>\n",
       "      <td>nan</td>\n",
       "      <td>0</td>\n",
       "    </tr>\n",
       "    <tr>\n",
       "      <td>129999</td>\n",
       "      <td>1824 Highlands View RdAlpineCA91901</td>\n",
       "      <td>nan</td>\n",
       "      <td>0</td>\n",
       "    </tr>\n",
       "  </tbody>\n",
       "</table>\n",
       "<p>129983 rows × 3 columns</p>\n",
       "</div>"
      ],
      "text/plain": [
       "                               full_address  \\\n",
       "3          7 EucalyptusNewport BeachCA92657   \n",
       "4         1400 Lachman LnLos AngelesCA90272   \n",
       "5       725 Mountain View StAltadenaCA91001   \n",
       "7             4341 69th StSacramentoCA95820   \n",
       "9           3640 Oak Creek DrOntarioCA91761   \n",
       "...                                     ...   \n",
       "129995     4477 Camrose AveSan DiegoCA92122   \n",
       "129996            13 STONEWALLIrvineCA92620   \n",
       "129997    3456 Nouveau WayGold RiverCA95670   \n",
       "129998    9115 Bungalow WayElk GroveCA95758   \n",
       "129999  1824 Highlands View RdAlpineCA91901   \n",
       "\n",
       "                                    Cust_address  match  \n",
       "3                 7 ucayptusNewport BeachCA92657      0  \n",
       "4                                            nan      0  \n",
       "5              725 ounain View StAltadenaCA91001      0  \n",
       "7                    431 6th StSacramentoCA95820      0  \n",
       "9       3640 Oak Creek Dr, Unit 10OntarioCA91761      0  \n",
       "...                                          ...    ...  \n",
       "129995                                       nan      0  \n",
       "129996                                       nan      0  \n",
       "129997                                       nan      0  \n",
       "129998                                       nan      0  \n",
       "129999                                       nan      0  \n",
       "\n",
       "[129983 rows x 3 columns]"
      ]
     },
     "execution_count": 102,
     "metadata": {},
     "output_type": "execute_result"
    }
   ],
   "source": [
    "#examine rows that did not match\n",
    "\n",
    "df3[df3.match == 0]"
   ]
  },
  {
   "cell_type": "code",
   "execution_count": 107,
   "metadata": {},
   "outputs": [
    {
     "data": {
      "text/html": [
       "<div>\n",
       "<style scoped>\n",
       "    .dataframe tbody tr th:only-of-type {\n",
       "        vertical-align: middle;\n",
       "    }\n",
       "\n",
       "    .dataframe tbody tr th {\n",
       "        vertical-align: top;\n",
       "    }\n",
       "\n",
       "    .dataframe thead th {\n",
       "        text-align: right;\n",
       "    }\n",
       "</style>\n",
       "<table border=\"1\" class=\"dataframe\">\n",
       "  <thead>\n",
       "    <tr style=\"text-align: right;\">\n",
       "      <th></th>\n",
       "      <th>full_address</th>\n",
       "      <th>Cust_address</th>\n",
       "      <th>match</th>\n",
       "    </tr>\n",
       "  </thead>\n",
       "  <tbody>\n",
       "    <tr>\n",
       "      <td>0</td>\n",
       "      <td>941 thorpe strock springswy82901</td>\n",
       "      <td>941 thorpe strock springswy82901</td>\n",
       "      <td>1</td>\n",
       "    </tr>\n",
       "    <tr>\n",
       "      <td>1</td>\n",
       "      <td>2809 harris drantiochca94509</td>\n",
       "      <td>2809 harris drantiochca94509</td>\n",
       "      <td>1</td>\n",
       "    </tr>\n",
       "    <tr>\n",
       "      <td>2</td>\n",
       "      <td>1441 eastlake avelos angelesca90033</td>\n",
       "      <td>1441 eastlake avelos angelesca90033</td>\n",
       "      <td>1</td>\n",
       "    </tr>\n",
       "    <tr>\n",
       "      <td>3</td>\n",
       "      <td>7 eucalyptusnewport beachca92657</td>\n",
       "      <td>7 eucalyptusnewport beachca92657</td>\n",
       "      <td>0</td>\n",
       "    </tr>\n",
       "    <tr>\n",
       "      <td>4</td>\n",
       "      <td>1400 lachman lnlos angelesca90272</td>\n",
       "      <td>1400 lachman lnlos angelesca90272</td>\n",
       "      <td>0</td>\n",
       "    </tr>\n",
       "  </tbody>\n",
       "</table>\n",
       "</div>"
      ],
      "text/plain": [
       "                          full_address                         Cust_address  \\\n",
       "0     941 thorpe strock springswy82901     941 thorpe strock springswy82901   \n",
       "1         2809 harris drantiochca94509         2809 harris drantiochca94509   \n",
       "2  1441 eastlake avelos angelesca90033  1441 eastlake avelos angelesca90033   \n",
       "3     7 eucalyptusnewport beachca92657     7 eucalyptusnewport beachca92657   \n",
       "4    1400 lachman lnlos angelesca90272    1400 lachman lnlos angelesca90272   \n",
       "\n",
       "   match  \n",
       "0      1  \n",
       "1      1  \n",
       "2      1  \n",
       "3      0  \n",
       "4      0  "
      ]
     },
     "execution_count": 107,
     "metadata": {},
     "output_type": "execute_result"
    }
   ],
   "source": [
    "df3['full_address'] = df3.full_address.str.lower()\n",
    "df3['Cust_address'] = df3.full_address.str.lower()\n",
    "df3.head()"
   ]
  },
  {
   "cell_type": "code",
   "execution_count": 108,
   "metadata": {},
   "outputs": [
    {
     "data": {
      "text/html": [
       "<div>\n",
       "<style scoped>\n",
       "    .dataframe tbody tr th:only-of-type {\n",
       "        vertical-align: middle;\n",
       "    }\n",
       "\n",
       "    .dataframe tbody tr th {\n",
       "        vertical-align: top;\n",
       "    }\n",
       "\n",
       "    .dataframe thead th {\n",
       "        text-align: right;\n",
       "    }\n",
       "</style>\n",
       "<table border=\"1\" class=\"dataframe\">\n",
       "  <thead>\n",
       "    <tr style=\"text-align: right;\">\n",
       "      <th></th>\n",
       "      <th>full_address</th>\n",
       "      <th>Cust_address</th>\n",
       "      <th>match</th>\n",
       "    </tr>\n",
       "  </thead>\n",
       "  <tbody>\n",
       "    <tr>\n",
       "      <td>0</td>\n",
       "      <td>941 thorpe strock springswy82901</td>\n",
       "      <td>941 thorpe strock springswy82901</td>\n",
       "      <td>1</td>\n",
       "    </tr>\n",
       "    <tr>\n",
       "      <td>1</td>\n",
       "      <td>2809 harris drantiochca94509</td>\n",
       "      <td>2809 harris drantiochca94509</td>\n",
       "      <td>1</td>\n",
       "    </tr>\n",
       "    <tr>\n",
       "      <td>2</td>\n",
       "      <td>1441 eastlake avelos angelesca90033</td>\n",
       "      <td>1441 eastlake avelos angelesca90033</td>\n",
       "      <td>1</td>\n",
       "    </tr>\n",
       "    <tr>\n",
       "      <td>3</td>\n",
       "      <td>7 eucalyptusnewport beachca92657</td>\n",
       "      <td>7 eucalyptusnewport beachca92657</td>\n",
       "      <td>1</td>\n",
       "    </tr>\n",
       "    <tr>\n",
       "      <td>4</td>\n",
       "      <td>1400 lachman lnlos angelesca90272</td>\n",
       "      <td>1400 lachman lnlos angelesca90272</td>\n",
       "      <td>1</td>\n",
       "    </tr>\n",
       "  </tbody>\n",
       "</table>\n",
       "</div>"
      ],
      "text/plain": [
       "                          full_address                         Cust_address  \\\n",
       "0     941 thorpe strock springswy82901     941 thorpe strock springswy82901   \n",
       "1         2809 harris drantiochca94509         2809 harris drantiochca94509   \n",
       "2  1441 eastlake avelos angelesca90033  1441 eastlake avelos angelesca90033   \n",
       "3     7 eucalyptusnewport beachca92657     7 eucalyptusnewport beachca92657   \n",
       "4    1400 lachman lnlos angelesca90272    1400 lachman lnlos angelesca90272   \n",
       "\n",
       "   match  \n",
       "0      1  \n",
       "1      1  \n",
       "2      1  \n",
       "3      1  \n",
       "4      1  "
      ]
     },
     "execution_count": 108,
     "metadata": {},
     "output_type": "execute_result"
    }
   ],
   "source": [
    "df3['match'] = np.where(df3.full_address == df3.Cust_address,1,0)\n",
    "df3.head()"
   ]
  },
  {
   "cell_type": "code",
   "execution_count": 109,
   "metadata": {},
   "outputs": [
    {
     "data": {
      "text/plain": [
       "99.77307692307693"
      ]
     },
     "execution_count": 109,
     "metadata": {},
     "output_type": "execute_result"
    }
   ],
   "source": [
    "new_match = sum(df3.match) * 100 /len(df3.match)\n",
    "new_match"
   ]
  },
  {
   "cell_type": "code",
   "execution_count": 112,
   "metadata": {},
   "outputs": [
    {
     "data": {
      "text/html": [
       "<div>\n",
       "<style scoped>\n",
       "    .dataframe tbody tr th:only-of-type {\n",
       "        vertical-align: middle;\n",
       "    }\n",
       "\n",
       "    .dataframe tbody tr th {\n",
       "        vertical-align: top;\n",
       "    }\n",
       "\n",
       "    .dataframe thead th {\n",
       "        text-align: right;\n",
       "    }\n",
       "</style>\n",
       "<table border=\"1\" class=\"dataframe\">\n",
       "  <thead>\n",
       "    <tr style=\"text-align: right;\">\n",
       "      <th></th>\n",
       "      <th>full_address</th>\n",
       "      <th>Cust_address</th>\n",
       "      <th>match</th>\n",
       "    </tr>\n",
       "  </thead>\n",
       "  <tbody>\n",
       "    <tr>\n",
       "      <td>341</td>\n",
       "      <td>NaN</td>\n",
       "      <td>NaN</td>\n",
       "      <td>0</td>\n",
       "    </tr>\n",
       "    <tr>\n",
       "      <td>764</td>\n",
       "      <td>NaN</td>\n",
       "      <td>NaN</td>\n",
       "      <td>0</td>\n",
       "    </tr>\n",
       "    <tr>\n",
       "      <td>967</td>\n",
       "      <td>NaN</td>\n",
       "      <td>NaN</td>\n",
       "      <td>0</td>\n",
       "    </tr>\n",
       "    <tr>\n",
       "      <td>1034</td>\n",
       "      <td>NaN</td>\n",
       "      <td>NaN</td>\n",
       "      <td>0</td>\n",
       "    </tr>\n",
       "    <tr>\n",
       "      <td>1057</td>\n",
       "      <td>NaN</td>\n",
       "      <td>NaN</td>\n",
       "      <td>0</td>\n",
       "    </tr>\n",
       "  </tbody>\n",
       "</table>\n",
       "</div>"
      ],
      "text/plain": [
       "     full_address Cust_address  match\n",
       "341           NaN          NaN      0\n",
       "764           NaN          NaN      0\n",
       "967           NaN          NaN      0\n",
       "1034          NaN          NaN      0\n",
       "1057          NaN          NaN      0"
      ]
     },
     "execution_count": 112,
     "metadata": {},
     "output_type": "execute_result"
    }
   ],
   "source": [
    "df3[df3.match == 0].head()"
   ]
  },
  {
   "cell_type": "code",
   "execution_count": 115,
   "metadata": {},
   "outputs": [
    {
     "data": {
      "text/plain": [
       "0       941 thorpe strock springswy82901\n",
       "1           2809 harris drantiochca94509\n",
       "2    1441 eastlake avelos angelesca90033\n",
       "3       7 eucalyptusnewport beachca92657\n",
       "4      1400 lachman lnlos angelesca90272\n",
       "Name: full_address, dtype: object"
      ]
     },
     "execution_count": 115,
     "metadata": {},
     "output_type": "execute_result"
    }
   ],
   "source": [
    "df4 = df3.full_address\n",
    "df4.head()"
   ]
  },
  {
   "cell_type": "code",
   "execution_count": 116,
   "metadata": {},
   "outputs": [
    {
     "data": {
      "text/plain": [
       "0       941 thorpe strock springswy82901\n",
       "1           2809 harris drantiochca94509\n",
       "2    1441 eastlake avelos angelesca90033\n",
       "3       7 eucalyptusnewport beachca92657\n",
       "4      1400 lachman lnlos angelesca90272\n",
       "Name: Cust_address, dtype: object"
      ]
     },
     "execution_count": 116,
     "metadata": {},
     "output_type": "execute_result"
    }
   ],
   "source": [
    "df5 = df3.Cust_address\n",
    "df5.head()"
   ]
  },
  {
   "cell_type": "code",
   "execution_count": null,
   "metadata": {},
   "outputs": [],
   "source": [
    "df3['match'] = np.where(df3.full_address == df3.Cust_address,1,0)\n",
    "df3.head()"
   ]
  },
  {
   "cell_type": "code",
   "execution_count": 122,
   "metadata": {},
   "outputs": [],
   "source": [
    "df3['check'] = np.where(df3.Cust_address == df3.full_address,1,0)"
   ]
  },
  {
   "cell_type": "code",
   "execution_count": 123,
   "metadata": {},
   "outputs": [
    {
     "data": {
      "text/html": [
       "<div>\n",
       "<style scoped>\n",
       "    .dataframe tbody tr th:only-of-type {\n",
       "        vertical-align: middle;\n",
       "    }\n",
       "\n",
       "    .dataframe tbody tr th {\n",
       "        vertical-align: top;\n",
       "    }\n",
       "\n",
       "    .dataframe thead th {\n",
       "        text-align: right;\n",
       "    }\n",
       "</style>\n",
       "<table border=\"1\" class=\"dataframe\">\n",
       "  <thead>\n",
       "    <tr style=\"text-align: right;\">\n",
       "      <th></th>\n",
       "      <th>full_address</th>\n",
       "      <th>Cust_address</th>\n",
       "      <th>match</th>\n",
       "      <th>check</th>\n",
       "    </tr>\n",
       "  </thead>\n",
       "  <tbody>\n",
       "    <tr>\n",
       "      <td>0</td>\n",
       "      <td>941 thorpe strock springswy82901</td>\n",
       "      <td>941 thorpe strock springswy82901</td>\n",
       "      <td>1</td>\n",
       "      <td>1</td>\n",
       "    </tr>\n",
       "    <tr>\n",
       "      <td>1</td>\n",
       "      <td>2809 harris drantiochca94509</td>\n",
       "      <td>2809 harris drantiochca94509</td>\n",
       "      <td>1</td>\n",
       "      <td>1</td>\n",
       "    </tr>\n",
       "    <tr>\n",
       "      <td>2</td>\n",
       "      <td>1441 eastlake avelos angelesca90033</td>\n",
       "      <td>1441 eastlake avelos angelesca90033</td>\n",
       "      <td>1</td>\n",
       "      <td>1</td>\n",
       "    </tr>\n",
       "  </tbody>\n",
       "</table>\n",
       "</div>"
      ],
      "text/plain": [
       "                          full_address                         Cust_address  \\\n",
       "0     941 thorpe strock springswy82901     941 thorpe strock springswy82901   \n",
       "1         2809 harris drantiochca94509         2809 harris drantiochca94509   \n",
       "2  1441 eastlake avelos angelesca90033  1441 eastlake avelos angelesca90033   \n",
       "\n",
       "   match  check  \n",
       "0      1      1  \n",
       "1      1      1  \n",
       "2      1      1  "
      ]
     },
     "execution_count": 123,
     "metadata": {},
     "output_type": "execute_result"
    }
   ],
   "source": [
    "df3.head(3)"
   ]
  },
  {
   "cell_type": "code",
   "execution_count": 129,
   "metadata": {},
   "outputs": [
    {
     "data": {
      "text/plain": [
       "dtype('int64')"
      ]
     },
     "execution_count": 129,
     "metadata": {},
     "output_type": "execute_result"
    }
   ],
   "source": [
    "df3.check.dtypes"
   ]
  },
  {
   "cell_type": "code",
   "execution_count": 126,
   "metadata": {},
   "outputs": [],
   "source": [
    "ouput = df3.groupby('check').size()"
   ]
  },
  {
   "cell_type": "code",
   "execution_count": 130,
   "metadata": {},
   "outputs": [
    {
     "name": "stdout",
     "output_type": "stream",
     "text": [
      "99.77307692307693\n"
     ]
    }
   ],
   "source": [
    "print(sum(df3.check) * 100 / len(df3.check))"
   ]
  },
  {
   "cell_type": "code",
   "execution_count": 3,
   "metadata": {},
   "outputs": [
    {
     "data": {
      "text/plain": [
       "(130000, 4)"
      ]
     },
     "execution_count": 3,
     "metadata": {},
     "output_type": "execute_result"
    }
   ],
   "source": [
    "#count of rows and columns\n",
    "real_ad.shape"
   ]
  },
  {
   "cell_type": "code",
   "execution_count": 119,
   "metadata": {},
   "outputs": [
    {
     "data": {
      "text/plain": [
       "full_address    object\n",
       "Cust_address    object\n",
       "match            int64\n",
       "dtype: object"
      ]
     },
     "execution_count": 119,
     "metadata": {},
     "output_type": "execute_result"
    }
   ],
   "source": [
    "df3.dtypes"
   ]
  },
  {
   "cell_type": "code",
   "execution_count": null,
   "metadata": {},
   "outputs": [],
   "source": []
  },
  {
   "cell_type": "code",
   "execution_count": 5,
   "metadata": {},
   "outputs": [
    {
     "name": "stdout",
     "output_type": "stream",
     "text": [
      "<class 'pandas.core.frame.DataFrame'>\n",
      "RangeIndex: 130000 entries, 0 to 129999\n",
      "Data columns (total 4 columns):\n",
      "address    129705 non-null object\n",
      "city       129984 non-null object\n",
      "state      129984 non-null object\n",
      "zip        129984 non-null object\n",
      "dtypes: object(4)\n",
      "memory usage: 4.0+ MB\n"
     ]
    }
   ],
   "source": [
    "#info on dataset\n",
    "real_ad.info()"
   ]
  },
  {
   "cell_type": "code",
   "execution_count": 6,
   "metadata": {},
   "outputs": [
    {
     "data": {
      "text/plain": [
       "128395         39 Garrison Loop\n",
       "90520            21623 Ulmus Dr\n",
       "103935             - W Ave E 14\n",
       "101322       30061 Crestview Ct\n",
       "2295      2490 Bald Mountain Rd\n",
       "100964     38301 Ocean Ridge Dr\n",
       "88731      5027 Shannon View Rd\n",
       "54907          445 Yosemite Ave\n",
       "82156           1171 Legion Ave\n",
       "111827       1607 Centennial Dr\n",
       "Name: address, dtype: object"
      ]
     },
     "execution_count": 6,
     "metadata": {},
     "output_type": "execute_result"
    }
   ],
   "source": [
    "#examine the address column - using sample\n",
    "real_ad['address'].sample(10)"
   ]
  },
  {
   "cell_type": "code",
   "execution_count": 7,
   "metadata": {},
   "outputs": [
    {
     "data": {
      "text/plain": [
       "count     129705\n",
       "unique     96279\n",
       "top       #NAME?\n",
       "freq         504\n",
       "Name: address, dtype: object"
      ]
     },
     "execution_count": 7,
     "metadata": {},
     "output_type": "execute_result"
    }
   ],
   "source": [
    "#descriptive info on addres column\n",
    "real_ad.address.describe()"
   ]
  },
  {
   "cell_type": "code",
   "execution_count": 8,
   "metadata": {},
   "outputs": [
    {
     "data": {
      "text/plain": [
       "#NAME?                   504\n",
       "- -                      167\n",
       "5500 Grand Pacific Dr    126\n",
       "5805 Armada Dr           100\n",
       "Fairway Pl                91\n",
       "3254 Avila Beach Dr       76\n",
       "7210 Blue Heron Pl        73\n",
       "3075 Carlsbad Blvd        69\n",
       "8858 Lawrence Welk Dr     56\n",
       "25382 Pappas Rd           47\n",
       "Name: address, dtype: int64"
      ]
     },
     "execution_count": 8,
     "metadata": {},
     "output_type": "execute_result"
    }
   ],
   "source": [
    "#check top 10 commonly used addresses\n",
    "real_ad.address.value_counts()[:10]"
   ]
  },
  {
   "cell_type": "code",
   "execution_count": 9,
   "metadata": {},
   "outputs": [
    {
     "data": {
      "text/plain": [
       "address\n",
       "#NAME?                  504\n",
       "- -                     167\n",
       "- 10th Ave                2\n",
       "- 110th St W              2\n",
       "- 115th St E              2\n",
       "                       ... \n",
       "Yaqui Pass Rd             4\n",
       "Yerington Ave             1\n",
       "Zephyr Rd                 1\n",
       "Zinfandel Dr              1\n",
       "undefined Marines Dr      1\n",
       "Length: 96279, dtype: int64"
      ]
     },
     "execution_count": 9,
     "metadata": {},
     "output_type": "execute_result"
    }
   ],
   "source": [
    "#check using groupby\n",
    "real_ad.groupby('address').size()"
   ]
  },
  {
   "cell_type": "code",
   "execution_count": 256,
   "metadata": {},
   "outputs": [
    {
     "data": {
      "text/plain": [
       "Index(['street_nm', 'city', 'state', 'zip_code', 'full_address'], dtype='object')"
      ]
     },
     "execution_count": 256,
     "metadata": {},
     "output_type": "execute_result"
    }
   ],
   "source": [
    "real_ad.columns"
   ]
  },
  {
   "cell_type": "markdown",
   "metadata": {},
   "source": [
    "#### Some Key Observations on the address column:\n",
    "\n",
    "1. There are 504 records of incorrect inputs with the value 'NAME#'\n",
    "2. There are 167 missing values, with the input '- -'\n",
    "3. Several actual addresses with wrong inputs, starting with '-'"
   ]
  },
  {
   "cell_type": "markdown",
   "metadata": {},
   "source": [
    "### Let's examine the City column"
   ]
  },
  {
   "cell_type": "code",
   "execution_count": 10,
   "metadata": {},
   "outputs": [
    {
     "data": {
      "text/plain": [
       "70884         Elk Grove\n",
       "107010          Vallejo\n",
       "127102          Cypress\n",
       "109082         Paradise\n",
       "78833          El Monte\n",
       "1224      Valley Center\n",
       "9698          Calabasas\n",
       "121096       Sacramento\n",
       "97750       San Jacinto\n",
       "47557        Long Beach\n",
       "Name: city, dtype: object"
      ]
     },
     "execution_count": 10,
     "metadata": {},
     "output_type": "execute_result"
    }
   ],
   "source": [
    "real_ad.city.sample(10)"
   ]
  },
  {
   "cell_type": "code",
   "execution_count": 11,
   "metadata": {},
   "outputs": [
    {
     "data": {
      "text/plain": [
       "Los Angeles    8059\n",
       "San Diego      3994\n",
       "San Jose       2691\n",
       "Sacramento     2455\n",
       "Bakersfield    1843\n",
       "Name: city, dtype: int64"
      ]
     },
     "execution_count": 11,
     "metadata": {},
     "output_type": "execute_result"
    }
   ],
   "source": [
    "#top 5 cities \n",
    "\n",
    "real_ad['city'].value_counts()[:5]"
   ]
  },
  {
   "cell_type": "code",
   "execution_count": 12,
   "metadata": {},
   "outputs": [
    {
     "data": {
      "text/plain": [
       "city\n",
       "-               524\n",
       "ACTON             2\n",
       "ADELANTO          1\n",
       "AGOURA HILLS      2\n",
       "AHWAHNEE          1\n",
       "               ... \n",
       "Zebulon           1\n",
       "Zenia             1\n",
       "Zephyr Cove       1\n",
       "Zion              1\n",
       "Zionsville        2\n",
       "Length: 3799, dtype: int64"
      ]
     },
     "execution_count": 12,
     "metadata": {},
     "output_type": "execute_result"
    }
   ],
   "source": [
    "#examine city using groupby\n",
    "\n",
    "real_ad.groupby('city').size()"
   ]
  },
  {
   "cell_type": "markdown",
   "metadata": {},
   "source": [
    "#### Key Observation on City Column\n",
    "- 504 records have missing values, with input '-'"
   ]
  },
  {
   "cell_type": "markdown",
   "metadata": {},
   "source": [
    "#### Let's examine the state and zip columns"
   ]
  },
  {
   "cell_type": "code",
   "execution_count": 13,
   "metadata": {},
   "outputs": [
    {
     "data": {
      "text/plain": [
       "102464    CA\n",
       "9815      CA\n",
       "98082     CA\n",
       "1242      CA\n",
       "32556     CA\n",
       "36374     CA\n",
       "48774     CA\n",
       "26562     CA\n",
       "9538      CA\n",
       "88603     TX\n",
       "Name: state, dtype: object"
      ]
     },
     "execution_count": 13,
     "metadata": {},
     "output_type": "execute_result"
    }
   ],
   "source": [
    "real_ad.state.sample(10)"
   ]
  },
  {
   "cell_type": "code",
   "execution_count": 14,
   "metadata": {},
   "outputs": [
    {
     "data": {
      "text/plain": [
       "CA    120208\n",
       "TX      1251\n",
       "IL       892\n",
       "NY       875\n",
       "WA       832\n",
       "Name: state, dtype: int64"
      ]
     },
     "execution_count": 14,
     "metadata": {},
     "output_type": "execute_result"
    }
   ],
   "source": [
    "#top 5 states\n",
    "real_ad.state.value_counts()[:5]"
   ]
  },
  {
   "cell_type": "code",
   "execution_count": 15,
   "metadata": {},
   "outputs": [
    {
     "data": {
      "text/plain": [
       "state\n",
       "-                1\n",
       "AK               7\n",
       "AL              82\n",
       "AR              57\n",
       "AZ             314\n",
       "Auckland         1\n",
       "CA          120208\n",
       "CHIH             2\n",
       "CHIS             1\n",
       "CO             715\n",
       "CT             329\n",
       "CÓRDOBA          1\n",
       "DC               2\n",
       "DE              10\n",
       "FL             292\n",
       "GA             170\n",
       "GAUTENG          2\n",
       "HI               6\n",
       "IA              75\n",
       "ID              84\n",
       "IL             892\n",
       "IN             117\n",
       "KS             111\n",
       "KY              94\n",
       "LA              65\n",
       "MA             202\n",
       "MD              42\n",
       "ME              35\n",
       "MI              86\n",
       "MN             134\n",
       "MO              90\n",
       "MS             115\n",
       "MT              56\n",
       "NC             545\n",
       "ND              40\n",
       "NE              52\n",
       "NH              29\n",
       "NJ              98\n",
       "NM              73\n",
       "NV             146\n",
       "NY             875\n",
       "OH             469\n",
       "OK              94\n",
       "ON               1\n",
       "OR             131\n",
       "PA             425\n",
       "RI              20\n",
       "SC              52\n",
       "SD              26\n",
       "TN             140\n",
       "TX            1251\n",
       "UT              56\n",
       "VA              86\n",
       "VER              4\n",
       "VT              14\n",
       "WA             832\n",
       "WI              80\n",
       "WV              17\n",
       "WY              30\n",
       "dtype: int64"
      ]
     },
     "execution_count": 15,
     "metadata": {},
     "output_type": "execute_result"
    }
   ],
   "source": [
    "#Examine using groupby\n",
    "real_ad.groupby('state').size()"
   ]
  },
  {
   "cell_type": "code",
   "execution_count": 16,
   "metadata": {},
   "outputs": [
    {
     "data": {
      "text/plain": [
       "59"
      ]
     },
     "execution_count": 16,
     "metadata": {},
     "output_type": "execute_result"
    }
   ],
   "source": [
    "real_ad.state.nunique()"
   ]
  },
  {
   "cell_type": "markdown",
   "metadata": {},
   "source": [
    "#### Key Observations on the state column\n",
    "- Missing values/incorrect value, '-'\n",
    "- Incorrect inputs with names, e.g. GUATENG, instead of abbreviations\n",
    "- Wrong info/abbreviations used, e.g. ON \n",
    "- Total of 59 unique values for state, insteead of 50"
   ]
  },
  {
   "cell_type": "code",
   "execution_count": 17,
   "metadata": {},
   "outputs": [
    {
     "data": {
      "text/plain": [
       "48391     94526\n",
       "6605      95358\n",
       "122406    92356\n",
       "89930     94403\n",
       "30887     93022\n",
       "16041     95945\n",
       "87171     95404\n",
       "75934     94596\n",
       "126179    95247\n",
       "67535     92782\n",
       "Name: zip, dtype: object"
      ]
     },
     "execution_count": 17,
     "metadata": {},
     "output_type": "execute_result"
    }
   ],
   "source": [
    "# Examining the zip column\n",
    "real_ad.zip.sample(10)"
   ]
  },
  {
   "cell_type": "code",
   "execution_count": 18,
   "metadata": {},
   "outputs": [
    {
     "data": {
      "text/plain": [
       "92008    456\n",
       "93535    428\n",
       "92026    411\n",
       "95969    400\n",
       "93536    388\n",
       "Name: zip, dtype: int64"
      ]
     },
     "execution_count": 18,
     "metadata": {},
     "output_type": "execute_result"
    }
   ],
   "source": [
    "#top 5 most common zip codes\n",
    "real_ad.zip.value_counts().head()"
   ]
  },
  {
   "cell_type": "code",
   "execution_count": 19,
   "metadata": {},
   "outputs": [
    {
     "data": {
      "text/plain": [
       "zip\n",
       "-        77\n",
       "10003     1\n",
       "10009     4\n",
       "1001      1\n",
       "10025     2\n",
       "         ..\n",
       "99507     1\n",
       "99508     1\n",
       "99517     1\n",
       "99709     2\n",
       "M9B       1\n",
       "Length: 5685, dtype: int64"
      ]
     },
     "execution_count": 19,
     "metadata": {},
     "output_type": "execute_result"
    }
   ],
   "source": [
    "#examine using groupy\n",
    "real_ad.groupby('zip').size()"
   ]
  },
  {
   "cell_type": "markdown",
   "metadata": {},
   "source": [
    "#### Some observations on zip codes\n",
    "- Missing/null values where the input is '-'\n",
    "- Some records with the number of values less than 5 \n",
    "- Incorrect formats where input has a combination of letters and numbers e.g.M9B"
   ]
  },
  {
   "cell_type": "markdown",
   "metadata": {},
   "source": [
    "### Now let's examine the test dataset"
   ]
  },
  {
   "cell_type": "code",
   "execution_count": 20,
   "metadata": {},
   "outputs": [
    {
     "data": {
      "text/html": [
       "<div>\n",
       "<style scoped>\n",
       "    .dataframe tbody tr th:only-of-type {\n",
       "        vertical-align: middle;\n",
       "    }\n",
       "\n",
       "    .dataframe tbody tr th {\n",
       "        vertical-align: top;\n",
       "    }\n",
       "\n",
       "    .dataframe thead th {\n",
       "        text-align: right;\n",
       "    }\n",
       "</style>\n",
       "<table border=\"1\" class=\"dataframe\">\n",
       "  <thead>\n",
       "    <tr style=\"text-align: right;\">\n",
       "      <th></th>\n",
       "      <th>uid</th>\n",
       "      <th>address</th>\n",
       "      <th>city</th>\n",
       "      <th>state</th>\n",
       "      <th>zip</th>\n",
       "    </tr>\n",
       "  </thead>\n",
       "  <tbody>\n",
       "    <tr>\n",
       "      <td>0</td>\n",
       "      <td>1</td>\n",
       "      <td>941 Thorpe St</td>\n",
       "      <td>Rock Springs</td>\n",
       "      <td>WY</td>\n",
       "      <td>82901.0</td>\n",
       "    </tr>\n",
       "    <tr>\n",
       "      <td>1</td>\n",
       "      <td>2</td>\n",
       "      <td>2809 HARRIS DR</td>\n",
       "      <td>Antioch</td>\n",
       "      <td>CA</td>\n",
       "      <td>94509.0</td>\n",
       "    </tr>\n",
       "    <tr>\n",
       "      <td>2</td>\n",
       "      <td>3</td>\n",
       "      <td>1441 Eastlake Ave</td>\n",
       "      <td>Los Angeles</td>\n",
       "      <td>CA</td>\n",
       "      <td>90033.0</td>\n",
       "    </tr>\n",
       "    <tr>\n",
       "      <td>3</td>\n",
       "      <td>4</td>\n",
       "      <td>7 ucayptus</td>\n",
       "      <td>Newport Beach</td>\n",
       "      <td>CA</td>\n",
       "      <td>92657.0</td>\n",
       "    </tr>\n",
       "    <tr>\n",
       "      <td>4</td>\n",
       "      <td>5</td>\n",
       "      <td>1400 Lachman Ln</td>\n",
       "      <td>NaN</td>\n",
       "      <td>CA</td>\n",
       "      <td>90272.0</td>\n",
       "    </tr>\n",
       "  </tbody>\n",
       "</table>\n",
       "</div>"
      ],
      "text/plain": [
       "   uid            address           city state      zip\n",
       "0    1      941 Thorpe St   Rock Springs    WY  82901.0\n",
       "1    2     2809 HARRIS DR        Antioch    CA  94509.0\n",
       "2    3  1441 Eastlake Ave    Los Angeles    CA  90033.0\n",
       "3    4         7 ucayptus  Newport Beach    CA  92657.0\n",
       "4    5    1400 Lachman Ln            NaN    CA  90272.0"
      ]
     },
     "execution_count": 20,
     "metadata": {},
     "output_type": "execute_result"
    }
   ],
   "source": [
    "test_ad.head()"
   ]
  },
  {
   "cell_type": "code",
   "execution_count": 21,
   "metadata": {},
   "outputs": [
    {
     "data": {
      "text/plain": [
       "(99249, 5)"
      ]
     },
     "execution_count": 21,
     "metadata": {},
     "output_type": "execute_result"
    }
   ],
   "source": [
    "test_ad.shape"
   ]
  },
  {
   "cell_type": "code",
   "execution_count": 22,
   "metadata": {},
   "outputs": [
    {
     "data": {
      "text/plain": [
       "uid          int64\n",
       "address     object\n",
       "city        object\n",
       "state       object\n",
       "zip        float64\n",
       "dtype: object"
      ]
     },
     "execution_count": 22,
     "metadata": {},
     "output_type": "execute_result"
    }
   ],
   "source": [
    "test_ad.dtypes"
   ]
  },
  {
   "cell_type": "code",
   "execution_count": 23,
   "metadata": {},
   "outputs": [
    {
     "data": {
      "text/plain": [
       "address\n",
       "#NAM?              4\n",
       "#NAME?           206\n",
       "#NAME? #11606      1\n",
       "#NAME? #13850      1\n",
       "#NAME? #18941      1\n",
       "                ... \n",
       "w commons          1\n",
       "walnut rd          1\n",
       "wildomar           1\n",
       "willis ave         1\n",
       "x st               1\n",
       "Length: 97121, dtype: int64"
      ]
     },
     "execution_count": 23,
     "metadata": {},
     "output_type": "execute_result"
    }
   ],
   "source": [
    "#examine the address column using groupby\n",
    "test_ad.groupby('address').size()"
   ]
  },
  {
   "cell_type": "code",
   "execution_count": 24,
   "metadata": {},
   "outputs": [
    {
     "data": {
      "text/plain": [
       "#NAME?                         206\n",
       "5500 Grand Pacific Dr           69\n",
       "Fairway Pl                      53\n",
       "5805 Armada Dr                  50\n",
       "3254 Avila Beach Dr             47\n",
       "7210 Blue Heron Pl              43\n",
       "3075 Carlsbad Blvd              40\n",
       "8858 Lawrence Welk Dr           29\n",
       "25382 Pappas Rd                 24\n",
       "2600 Avenida Del Presidente     24\n",
       "Name: address, dtype: int64"
      ]
     },
     "execution_count": 24,
     "metadata": {},
     "output_type": "execute_result"
    }
   ],
   "source": [
    "#check the top 10 most common addresses\n",
    "\n",
    "test_ad.address.value_counts().head(10)"
   ]
  },
  {
   "cell_type": "code",
   "execution_count": 25,
   "metadata": {},
   "outputs": [
    {
     "data": {
      "text/plain": [
       "99244                  2020 s moreno dr\n",
       "99245                10641 Missouri Ave\n",
       "99246                    27905 Tyler Ln\n",
       "99247                    6259 W 55th St\n",
       "99248    44282 Compiegne Dr, Unit 99249\n",
       "Name: address, dtype: object"
      ]
     },
     "execution_count": 25,
     "metadata": {},
     "output_type": "execute_result"
    }
   ],
   "source": [
    "test_ad['address'].tail()"
   ]
  },
  {
   "cell_type": "code",
   "execution_count": null,
   "metadata": {},
   "outputs": [],
   "source": []
  },
  {
   "cell_type": "code",
   "execution_count": 26,
   "metadata": {},
   "outputs": [
    {
     "data": {
      "text/plain": [
       "array(['941 Thorpe St', '2809 HARRIS DR', '1441 Eastlake Ave', ...,\n",
       "       '27905 Tyler Ln', '6259 W 55th St',\n",
       "       '44282 Compiegne Dr, Unit 99249'], dtype=object)"
      ]
     },
     "execution_count": 26,
     "metadata": {},
     "output_type": "execute_result"
    }
   ],
   "source": [
    "#unique addreses\n",
    "test_ad.address.unique()"
   ]
  },
  {
   "cell_type": "code",
   "execution_count": 27,
   "metadata": {},
   "outputs": [
    {
     "data": {
      "text/plain": [
       "city\n",
       "ACTON              2\n",
       "ADELANTO           1\n",
       "AGOURA HILLS       1\n",
       "AHWAHNEE           1\n",
       "AIRWAY HEIGHTS     1\n",
       "                  ..\n",
       "ypsilanti          1\n",
       "yreka              4\n",
       "yuba city         13\n",
       "yucaipa            8\n",
       "yucca valley       5\n",
       "Length: 4768, dtype: int64"
      ]
     },
     "execution_count": 27,
     "metadata": {},
     "output_type": "execute_result"
    }
   ],
   "source": [
    "#examine the city column\n",
    "test_ad.groupby('city').size()"
   ]
  },
  {
   "cell_type": "code",
   "execution_count": 28,
   "metadata": {},
   "outputs": [
    {
     "data": {
      "text/plain": [
       "Los Angeles    5594\n",
       "San Diego      2833\n",
       "San Jose       1889\n",
       "Sacramento     1704\n",
       "Bakersfield    1291\n",
       "Name: city, dtype: int64"
      ]
     },
     "execution_count": 28,
     "metadata": {},
     "output_type": "execute_result"
    }
   ],
   "source": [
    "#top 5 cities\n",
    "test_ad.city.value_counts().head()"
   ]
  },
  {
   "cell_type": "code",
   "execution_count": 29,
   "metadata": {},
   "outputs": [
    {
     "data": {
      "text/plain": [
       "CA    78313\n",
       "ca     6622\n",
       "TX      837\n",
       "IL      604\n",
       "WA      548\n",
       "Name: state, dtype: int64"
      ]
     },
     "execution_count": 29,
     "metadata": {},
     "output_type": "execute_result"
    }
   ],
   "source": [
    "#counts of state\n",
    "test_ad.state.value_counts().head()"
   ]
  },
  {
   "cell_type": "code",
   "execution_count": 30,
   "metadata": {},
   "outputs": [
    {
     "data": {
      "text/plain": [
       "state\n",
       "AK        5\n",
       "AL       53\n",
       "AR       35\n",
       "AZ      200\n",
       "CA    78313\n",
       "      ...  \n",
       "ut        4\n",
       "va        5\n",
       "wa       42\n",
       "wi        6\n",
       "wy        4\n",
       "Length: 96, dtype: int64"
      ]
     },
     "execution_count": 30,
     "metadata": {},
     "output_type": "execute_result"
    }
   ],
   "source": [
    "#examine the state column\n",
    "test_ad.groupby('state').size()"
   ]
  },
  {
   "cell_type": "code",
   "execution_count": 31,
   "metadata": {},
   "outputs": [
    {
     "data": {
      "text/plain": [
       "array(['WY', 'CA', 'NY', 'TX', 'TN', 'PA', 'MI', 'FL', 'GA', 'MO', 'AR',\n",
       "       'CO', 'WA', 'OH', 'AZ', 'MA', 'IL', 'CT', 'SC', 'KY', 'NV', 'MN',\n",
       "       'AL', 'NC', 'OK', 'WV', 'VA', 'UT', 'VT', 'ID', 'NJ', 'IN', 'MD',\n",
       "       'SD', 'OR', 'NH', 'NM', 'IA', 'KS', 'LA', 'WI', 'ME', 'NE', 'MS',\n",
       "       'MT', 'DE', 'ND', 'ca', 'ma', 'ia', 'nd', 'oh', 'id', 'il', 'HI',\n",
       "       'tx', 'ut', 'pa', 'sd', 'ny', 'RI', 'co', 'wa', 'va', 'mn', 'az',\n",
       "       'nc', 'tn', nan, 'ne', 'ky', 'nj', 'la', 'ct', 'ks', 'mo', 'md',\n",
       "       'al', 'wi', 'mi', 'wy', 'AK', 'fl', 'in', 'DC', 'ri', 'or', 'nh',\n",
       "       'hi', 'nm', 'mt', 'ms', 'ga', 'nv', 'ar', 'ok', 'me'], dtype=object)"
      ]
     },
     "execution_count": 31,
     "metadata": {},
     "output_type": "execute_result"
    }
   ],
   "source": [
    "test_ad['state'].unique()"
   ]
  },
  {
   "cell_type": "code",
   "execution_count": 32,
   "metadata": {},
   "outputs": [
    {
     "data": {
      "text/plain": [
       "96"
      ]
     },
     "execution_count": 32,
     "metadata": {},
     "output_type": "execute_result"
    }
   ],
   "source": [
    "test_ad['state'].nunique()"
   ]
  },
  {
   "cell_type": "code",
   "execution_count": 33,
   "metadata": {},
   "outputs": [
    {
     "data": {
      "text/plain": [
       "30595    92009.0\n",
       "3088     93247.0\n",
       "5882     92887.0\n",
       "60623    92128.0\n",
       "90019    90813.0\n",
       "70694    93285.0\n",
       "1630     96161.0\n",
       "99059    94587.0\n",
       "83783    91744.0\n",
       "11477    95687.0\n",
       "Name: zip, dtype: float64"
      ]
     },
     "execution_count": 33,
     "metadata": {},
     "output_type": "execute_result"
    }
   ],
   "source": [
    "#examine the zip codes\n",
    "\n",
    "test_ad.zip.sample(10)"
   ]
  },
  {
   "cell_type": "code",
   "execution_count": 34,
   "metadata": {},
   "outputs": [
    {
     "data": {
      "text/plain": [
       "zip\n",
       "1001.0     1\n",
       "1020.0     3\n",
       "1027.0     1\n",
       "1028.0     2\n",
       "1035.0     1\n",
       "          ..\n",
       "99504.0    1\n",
       "99507.0    1\n",
       "99508.0    1\n",
       "99517.0    1\n",
       "99709.0    1\n",
       "Length: 5419, dtype: int64"
      ]
     },
     "execution_count": 34,
     "metadata": {},
     "output_type": "execute_result"
    }
   ],
   "source": [
    "#using groupby\n",
    "test_ad.groupby('zip').size()"
   ]
  },
  {
   "cell_type": "markdown",
   "metadata": {},
   "source": [
    "#### Key Observations in the test dataset \n",
    "- Incorrect formats, missing values as expected in both address ad=nd city columns\n",
    "- state column a combination of upper case and lower cases"
   ]
  },
  {
   "cell_type": "code",
   "execution_count": 25,
   "metadata": {},
   "outputs": [
    {
     "data": {
      "text/html": [
       "<div>\n",
       "<style scoped>\n",
       "    .dataframe tbody tr th:only-of-type {\n",
       "        vertical-align: middle;\n",
       "    }\n",
       "\n",
       "    .dataframe tbody tr th {\n",
       "        vertical-align: top;\n",
       "    }\n",
       "\n",
       "    .dataframe thead th {\n",
       "        text-align: right;\n",
       "    }\n",
       "</style>\n",
       "<table border=\"1\" class=\"dataframe\">\n",
       "  <thead>\n",
       "    <tr style=\"text-align: right;\">\n",
       "      <th></th>\n",
       "      <th>address</th>\n",
       "      <th>city</th>\n",
       "      <th>state</th>\n",
       "      <th>zip</th>\n",
       "    </tr>\n",
       "  </thead>\n",
       "  <tbody>\n",
       "    <tr>\n",
       "      <td>68965</td>\n",
       "      <td>#NAME?</td>\n",
       "      <td>Folsom</td>\n",
       "      <td>CA</td>\n",
       "      <td>95630</td>\n",
       "    </tr>\n",
       "    <tr>\n",
       "      <td>122499</td>\n",
       "      <td>#NAME?</td>\n",
       "      <td>Modesto</td>\n",
       "      <td>CA</td>\n",
       "      <td>95350</td>\n",
       "    </tr>\n",
       "    <tr>\n",
       "      <td>55727</td>\n",
       "      <td>#NAME?</td>\n",
       "      <td>-</td>\n",
       "      <td>CA</td>\n",
       "      <td>93514</td>\n",
       "    </tr>\n",
       "    <tr>\n",
       "      <td>89602</td>\n",
       "      <td>#NAME?</td>\n",
       "      <td>-</td>\n",
       "      <td>CA</td>\n",
       "      <td>93544</td>\n",
       "    </tr>\n",
       "    <tr>\n",
       "      <td>119471</td>\n",
       "      <td>#NAME?</td>\n",
       "      <td>-</td>\n",
       "      <td>CA</td>\n",
       "      <td>93535</td>\n",
       "    </tr>\n",
       "    <tr>\n",
       "      <td>64133</td>\n",
       "      <td>#NAME?</td>\n",
       "      <td>-</td>\n",
       "      <td>CA</td>\n",
       "      <td>91901</td>\n",
       "    </tr>\n",
       "    <tr>\n",
       "      <td>48064</td>\n",
       "      <td>#NAME?</td>\n",
       "      <td>Crestline</td>\n",
       "      <td>CA</td>\n",
       "      <td>92325</td>\n",
       "    </tr>\n",
       "    <tr>\n",
       "      <td>20174</td>\n",
       "      <td>#NAME?</td>\n",
       "      <td>-</td>\n",
       "      <td>CA</td>\n",
       "      <td>93536</td>\n",
       "    </tr>\n",
       "    <tr>\n",
       "      <td>29059</td>\n",
       "      <td>#NAME?</td>\n",
       "      <td>Crestline</td>\n",
       "      <td>CA</td>\n",
       "      <td>-</td>\n",
       "    </tr>\n",
       "    <tr>\n",
       "      <td>969</td>\n",
       "      <td>#NAME?</td>\n",
       "      <td>-</td>\n",
       "      <td>CA</td>\n",
       "      <td>93535</td>\n",
       "    </tr>\n",
       "  </tbody>\n",
       "</table>\n",
       "</div>"
      ],
      "text/plain": [
       "       address       city state    zip\n",
       "68965   #NAME?     Folsom    CA  95630\n",
       "122499  #NAME?    Modesto    CA  95350\n",
       "55727   #NAME?          -    CA  93514\n",
       "89602   #NAME?          -    CA  93544\n",
       "119471  #NAME?          -    CA  93535\n",
       "64133   #NAME?          -    CA  91901\n",
       "48064   #NAME?  Crestline    CA  92325\n",
       "20174   #NAME?          -    CA  93536\n",
       "29059   #NAME?  Crestline    CA      -\n",
       "969     #NAME?          -    CA  93535"
      ]
     },
     "execution_count": 25,
     "metadata": {},
     "output_type": "execute_result"
    }
   ],
   "source": [
    "#examining specific Scenarios: #NAME?\n",
    "\n",
    "real_ad[real_ad.address == '#NAME?'].sample(10)"
   ]
  },
  {
   "cell_type": "code",
   "execution_count": 261,
   "metadata": {},
   "outputs": [],
   "source": [
    "new_dict = real_ad.to_dict()"
   ]
  },
  {
   "cell_type": "code",
   "execution_count": 271,
   "metadata": {},
   "outputs": [
    {
     "data": {
      "text/html": [
       "<div>\n",
       "<style scoped>\n",
       "    .dataframe tbody tr th:only-of-type {\n",
       "        vertical-align: middle;\n",
       "    }\n",
       "\n",
       "    .dataframe tbody tr th {\n",
       "        vertical-align: top;\n",
       "    }\n",
       "\n",
       "    .dataframe thead th {\n",
       "        text-align: right;\n",
       "    }\n",
       "</style>\n",
       "<table border=\"1\" class=\"dataframe\">\n",
       "  <thead>\n",
       "    <tr style=\"text-align: right;\">\n",
       "      <th></th>\n",
       "      <th>street_nm</th>\n",
       "      <th>city</th>\n",
       "      <th>state</th>\n",
       "      <th>zip_code</th>\n",
       "      <th>full_address</th>\n",
       "    </tr>\n",
       "  </thead>\n",
       "  <tbody>\n",
       "    <tr>\n",
       "      <td>0</td>\n",
       "      <td>941 Thorpe St</td>\n",
       "      <td>Rock Springs</td>\n",
       "      <td>WY</td>\n",
       "      <td>82901</td>\n",
       "      <td>941 Thorpe StRock SpringsWY82901</td>\n",
       "    </tr>\n",
       "    <tr>\n",
       "      <td>1</td>\n",
       "      <td>2809 HARRIS DR</td>\n",
       "      <td>Antioch</td>\n",
       "      <td>CA</td>\n",
       "      <td>94509</td>\n",
       "      <td>2809 HARRIS DRAntiochCA94509</td>\n",
       "    </tr>\n",
       "    <tr>\n",
       "      <td>2</td>\n",
       "      <td>1441 Eastlake Ave</td>\n",
       "      <td>Los Angeles</td>\n",
       "      <td>CA</td>\n",
       "      <td>90033</td>\n",
       "      <td>1441 Eastlake AveLos AngelesCA90033</td>\n",
       "    </tr>\n",
       "  </tbody>\n",
       "</table>\n",
       "</div>"
      ],
      "text/plain": [
       "           street_nm          city state zip_code  \\\n",
       "0      941 Thorpe St  Rock Springs    WY    82901   \n",
       "1     2809 HARRIS DR       Antioch    CA    94509   \n",
       "2  1441 Eastlake Ave   Los Angeles    CA    90033   \n",
       "\n",
       "                          full_address  \n",
       "0     941 Thorpe StRock SpringsWY82901  \n",
       "1         2809 HARRIS DRAntiochCA94509  \n",
       "2  1441 Eastlake AveLos AngelesCA90033  "
      ]
     },
     "execution_count": 271,
     "metadata": {},
     "output_type": "execute_result"
    }
   ],
   "source": [
    "real_ad.head(3)"
   ]
  },
  {
   "cell_type": "code",
   "execution_count": 272,
   "metadata": {},
   "outputs": [
    {
     "data": {
      "text/html": [
       "<div>\n",
       "<style scoped>\n",
       "    .dataframe tbody tr th:only-of-type {\n",
       "        vertical-align: middle;\n",
       "    }\n",
       "\n",
       "    .dataframe tbody tr th {\n",
       "        vertical-align: top;\n",
       "    }\n",
       "\n",
       "    .dataframe thead th {\n",
       "        text-align: right;\n",
       "    }\n",
       "</style>\n",
       "<table border=\"1\" class=\"dataframe\">\n",
       "  <thead>\n",
       "    <tr style=\"text-align: right;\">\n",
       "      <th></th>\n",
       "      <th>uid</th>\n",
       "      <th>address</th>\n",
       "      <th>city</th>\n",
       "      <th>state</th>\n",
       "      <th>zip</th>\n",
       "      <th>Cust_address</th>\n",
       "      <th>full_address</th>\n",
       "    </tr>\n",
       "  </thead>\n",
       "  <tbody>\n",
       "    <tr>\n",
       "      <td>0</td>\n",
       "      <td>1</td>\n",
       "      <td>941 Thorpe St</td>\n",
       "      <td>Rock Springs</td>\n",
       "      <td>WY</td>\n",
       "      <td>82901</td>\n",
       "      <td>941 Thorpe StRock SpringsWY82901.0</td>\n",
       "      <td>941 Thorpe StRock SpringsWY82901</td>\n",
       "    </tr>\n",
       "    <tr>\n",
       "      <td>1</td>\n",
       "      <td>2</td>\n",
       "      <td>2809 HARRIS DR</td>\n",
       "      <td>Antioch</td>\n",
       "      <td>CA</td>\n",
       "      <td>94509</td>\n",
       "      <td>2809 HARRIS DRAntiochCA94509.0</td>\n",
       "      <td>2809 HARRIS DRAntiochCA94509</td>\n",
       "    </tr>\n",
       "    <tr>\n",
       "      <td>2</td>\n",
       "      <td>3</td>\n",
       "      <td>1441 Eastlake Ave</td>\n",
       "      <td>Los Angeles</td>\n",
       "      <td>CA</td>\n",
       "      <td>90033</td>\n",
       "      <td>1441 Eastlake AveLos AngelesCA90033.0</td>\n",
       "      <td>1441 Eastlake AveLos AngelesCA90033</td>\n",
       "    </tr>\n",
       "  </tbody>\n",
       "</table>\n",
       "</div>"
      ],
      "text/plain": [
       "   uid            address          city state    zip  \\\n",
       "0    1      941 Thorpe St  Rock Springs    WY  82901   \n",
       "1    2     2809 HARRIS DR       Antioch    CA  94509   \n",
       "2    3  1441 Eastlake Ave   Los Angeles    CA  90033   \n",
       "\n",
       "                            Cust_address                         full_address  \n",
       "0     941 Thorpe StRock SpringsWY82901.0     941 Thorpe StRock SpringsWY82901  \n",
       "1         2809 HARRIS DRAntiochCA94509.0         2809 HARRIS DRAntiochCA94509  \n",
       "2  1441 Eastlake AveLos AngelesCA90033.0  1441 Eastlake AveLos AngelesCA90033  "
      ]
     },
     "execution_count": 272,
     "metadata": {},
     "output_type": "execute_result"
    }
   ],
   "source": [
    "test_ad.head(3)"
   ]
  },
  {
   "cell_type": "code",
   "execution_count": 274,
   "metadata": {},
   "outputs": [],
   "source": [
    "lst_1 = real_ad['full_address'].to_list()\n",
    "lst_2 = test_ad['full_address'].to_list()"
   ]
  },
  {
   "cell_type": "code",
   "execution_count": null,
   "metadata": {},
   "outputs": [],
   "source": []
  },
  {
   "cell_type": "code",
   "execution_count": 280,
   "metadata": {},
   "outputs": [],
   "source": [
    "def common_elements(list1, list2):\n",
    "    result = []\n",
    "    for element in list1:\n",
    "        if element in list2:\n",
    "            result.append(element)\n",
    "    return result"
   ]
  },
  {
   "cell_type": "code",
   "execution_count": 282,
   "metadata": {},
   "outputs": [],
   "source": [
    "match = common_elements(lst_1,lst_2)"
   ]
  },
  {
   "cell_type": "code",
   "execution_count": 285,
   "metadata": {},
   "outputs": [],
   "source": [
    "match2 = common_elements(lst_2,lst_1)"
   ]
  },
  {
   "cell_type": "code",
   "execution_count": 284,
   "metadata": {},
   "outputs": [
    {
     "data": {
      "text/plain": [
       "74803"
      ]
     },
     "execution_count": 284,
     "metadata": {},
     "output_type": "execute_result"
    }
   ],
   "source": [
    "len(match)"
   ]
  },
  {
   "cell_type": "code",
   "execution_count": 286,
   "metadata": {},
   "outputs": [
    {
     "data": {
      "text/plain": [
       "64526"
      ]
     },
     "execution_count": 286,
     "metadata": {},
     "output_type": "execute_result"
    }
   ],
   "source": [
    "len(match2)"
   ]
  },
  {
   "cell_type": "code",
   "execution_count": 287,
   "metadata": {},
   "outputs": [],
   "source": [
    "def dff_elements(list1, list2):\n",
    "    return [element for element in list1 if element not in list2]"
   ]
  },
  {
   "cell_type": "code",
   "execution_count": 289,
   "metadata": {},
   "outputs": [
    {
     "data": {
      "text/plain": [
       "34723"
      ]
     },
     "execution_count": 289,
     "metadata": {},
     "output_type": "execute_result"
    }
   ],
   "source": [
    "diff = dff_elements(lst_2,lst_1)\n",
    "len(diff)"
   ]
  },
  {
   "cell_type": "code",
   "execution_count": 291,
   "metadata": {},
   "outputs": [
    {
     "data": {
      "text/plain": [
       "99249"
      ]
     },
     "execution_count": 291,
     "metadata": {},
     "output_type": "execute_result"
    }
   ],
   "source": [
    "34723+64526"
   ]
  },
  {
   "cell_type": "code",
   "execution_count": 36,
   "metadata": {},
   "outputs": [
    {
     "data": {
      "text/html": [
       "<div>\n",
       "<style scoped>\n",
       "    .dataframe tbody tr th:only-of-type {\n",
       "        vertical-align: middle;\n",
       "    }\n",
       "\n",
       "    .dataframe tbody tr th {\n",
       "        vertical-align: top;\n",
       "    }\n",
       "\n",
       "    .dataframe thead th {\n",
       "        text-align: right;\n",
       "    }\n",
       "</style>\n",
       "<table border=\"1\" class=\"dataframe\">\n",
       "  <thead>\n",
       "    <tr style=\"text-align: right;\">\n",
       "      <th></th>\n",
       "      <th>address</th>\n",
       "      <th>city</th>\n",
       "      <th>state</th>\n",
       "      <th>zip</th>\n",
       "    </tr>\n",
       "  </thead>\n",
       "  <tbody>\n",
       "    <tr>\n",
       "      <td>2618</td>\n",
       "      <td>- -</td>\n",
       "      <td>Butte Valley</td>\n",
       "      <td>CA</td>\n",
       "      <td>95965</td>\n",
       "    </tr>\n",
       "    <tr>\n",
       "      <td>2986</td>\n",
       "      <td>- -</td>\n",
       "      <td>Palmdale</td>\n",
       "      <td>CA</td>\n",
       "      <td>93552</td>\n",
       "    </tr>\n",
       "    <tr>\n",
       "      <td>3037</td>\n",
       "      <td>- -</td>\n",
       "      <td>Lancaster</td>\n",
       "      <td>CA</td>\n",
       "      <td>93536</td>\n",
       "    </tr>\n",
       "    <tr>\n",
       "      <td>4010</td>\n",
       "      <td>- -</td>\n",
       "      <td>Santa Rosa</td>\n",
       "      <td>CA</td>\n",
       "      <td>95407</td>\n",
       "    </tr>\n",
       "    <tr>\n",
       "      <td>4113</td>\n",
       "      <td>- -</td>\n",
       "      <td>Shandon</td>\n",
       "      <td>CA</td>\n",
       "      <td>93461</td>\n",
       "    </tr>\n",
       "  </tbody>\n",
       "</table>\n",
       "</div>"
      ],
      "text/plain": [
       "     address          city state    zip\n",
       "2618     - -  Butte Valley    CA  95965\n",
       "2986     - -      Palmdale    CA  93552\n",
       "3037     - -     Lancaster    CA  93536\n",
       "4010     - -    Santa Rosa    CA  95407\n",
       "4113     - -       Shandon    CA  93461"
      ]
     },
     "execution_count": 36,
     "metadata": {},
     "output_type": "execute_result"
    }
   ],
   "source": [
    "#examine where address is '--'\n",
    "real_ad[real_ad.address == '- -'].head()"
   ]
  },
  {
   "cell_type": "code",
   "execution_count": 37,
   "metadata": {},
   "outputs": [
    {
     "data": {
      "text/html": [
       "<div>\n",
       "<style scoped>\n",
       "    .dataframe tbody tr th:only-of-type {\n",
       "        vertical-align: middle;\n",
       "    }\n",
       "\n",
       "    .dataframe tbody tr th {\n",
       "        vertical-align: top;\n",
       "    }\n",
       "\n",
       "    .dataframe thead th {\n",
       "        text-align: right;\n",
       "    }\n",
       "</style>\n",
       "<table border=\"1\" class=\"dataframe\">\n",
       "  <thead>\n",
       "    <tr style=\"text-align: right;\">\n",
       "      <th></th>\n",
       "      <th>address</th>\n",
       "      <th>city</th>\n",
       "      <th>state</th>\n",
       "      <th>zip</th>\n",
       "    </tr>\n",
       "  </thead>\n",
       "  <tbody>\n",
       "    <tr>\n",
       "      <td>529</td>\n",
       "      <td>- E Ave R 10</td>\n",
       "      <td>-</td>\n",
       "      <td>CA</td>\n",
       "      <td>93543</td>\n",
       "    </tr>\n",
       "    <tr>\n",
       "      <td>2091</td>\n",
       "      <td>- 17th St</td>\n",
       "      <td>Piedmont</td>\n",
       "      <td>CA</td>\n",
       "      <td>94611</td>\n",
       "    </tr>\n",
       "    <tr>\n",
       "      <td>2618</td>\n",
       "      <td>- -</td>\n",
       "      <td>Butte Valley</td>\n",
       "      <td>CA</td>\n",
       "      <td>95965</td>\n",
       "    </tr>\n",
       "    <tr>\n",
       "      <td>2986</td>\n",
       "      <td>- -</td>\n",
       "      <td>Palmdale</td>\n",
       "      <td>CA</td>\n",
       "      <td>93552</td>\n",
       "    </tr>\n",
       "    <tr>\n",
       "      <td>3037</td>\n",
       "      <td>- -</td>\n",
       "      <td>Lancaster</td>\n",
       "      <td>CA</td>\n",
       "      <td>93536</td>\n",
       "    </tr>\n",
       "  </tbody>\n",
       "</table>\n",
       "</div>"
      ],
      "text/plain": [
       "           address          city state    zip\n",
       "529   - E Ave R 10             -    CA  93543\n",
       "2091     - 17th St      Piedmont    CA  94611\n",
       "2618           - -  Butte Valley    CA  95965\n",
       "2986           - -      Palmdale    CA  93552\n",
       "3037           - -     Lancaster    CA  93536"
      ]
     },
     "execution_count": 37,
     "metadata": {},
     "output_type": "execute_result"
    }
   ],
   "source": [
    "#examine address that start with '-'\n",
    "real_ad[real_ad['address'].astype(str).str.startswith('-')].head()"
   ]
  },
  {
   "cell_type": "code",
   "execution_count": 38,
   "metadata": {},
   "outputs": [
    {
     "data": {
      "text/html": [
       "<div>\n",
       "<style scoped>\n",
       "    .dataframe tbody tr th:only-of-type {\n",
       "        vertical-align: middle;\n",
       "    }\n",
       "\n",
       "    .dataframe tbody tr th {\n",
       "        vertical-align: top;\n",
       "    }\n",
       "\n",
       "    .dataframe thead th {\n",
       "        text-align: right;\n",
       "    }\n",
       "</style>\n",
       "<table border=\"1\" class=\"dataframe\">\n",
       "  <thead>\n",
       "    <tr style=\"text-align: right;\">\n",
       "      <th></th>\n",
       "      <th>address</th>\n",
       "      <th>city</th>\n",
       "      <th>state</th>\n",
       "      <th>zip</th>\n",
       "    </tr>\n",
       "  </thead>\n",
       "  <tbody>\n",
       "    <tr>\n",
       "      <td>0</td>\n",
       "      <td>941 Thorpe St</td>\n",
       "      <td>Rock Springs</td>\n",
       "      <td>WY</td>\n",
       "      <td>82901</td>\n",
       "    </tr>\n",
       "    <tr>\n",
       "      <td>1</td>\n",
       "      <td>2809 HARRIS DR</td>\n",
       "      <td>Antioch</td>\n",
       "      <td>CA</td>\n",
       "      <td>94509</td>\n",
       "    </tr>\n",
       "    <tr>\n",
       "      <td>2</td>\n",
       "      <td>1441 Eastlake Ave</td>\n",
       "      <td>Los Angeles</td>\n",
       "      <td>CA</td>\n",
       "      <td>90033</td>\n",
       "    </tr>\n",
       "    <tr>\n",
       "      <td>3</td>\n",
       "      <td>7 Eucalyptus</td>\n",
       "      <td>Newport Beach</td>\n",
       "      <td>CA</td>\n",
       "      <td>92657</td>\n",
       "    </tr>\n",
       "    <tr>\n",
       "      <td>4</td>\n",
       "      <td>1400 Lachman Ln</td>\n",
       "      <td>Los Angeles</td>\n",
       "      <td>CA</td>\n",
       "      <td>90272</td>\n",
       "    </tr>\n",
       "  </tbody>\n",
       "</table>\n",
       "</div>"
      ],
      "text/plain": [
       "             address           city state    zip\n",
       "0      941 Thorpe St   Rock Springs    WY  82901\n",
       "1     2809 HARRIS DR        Antioch    CA  94509\n",
       "2  1441 Eastlake Ave    Los Angeles    CA  90033\n",
       "3       7 Eucalyptus  Newport Beach    CA  92657\n",
       "4    1400 Lachman Ln    Los Angeles    CA  90272"
      ]
     },
     "execution_count": 38,
     "metadata": {},
     "output_type": "execute_result"
    }
   ],
   "source": [
    "#examine address that start with '-'\n",
    "real_ad[real_ad['address'].astype(str).str.startswith('')].head()"
   ]
  },
  {
   "cell_type": "code",
   "execution_count": 39,
   "metadata": {},
   "outputs": [
    {
     "data": {
      "text/plain": [
       "address    504\n",
       "city       504\n",
       "state      504\n",
       "zip        504\n",
       "dtype: int64"
      ]
     },
     "execution_count": 39,
     "metadata": {},
     "output_type": "execute_result"
    }
   ],
   "source": [
    "#examine address that start with '-'\n",
    "real_ad[real_ad['address'].astype(str).str.startswith('#')].count()"
   ]
  },
  {
   "cell_type": "code",
   "execution_count": 40,
   "metadata": {},
   "outputs": [
    {
     "data": {
      "text/plain": [
       "<bound method NDFrame.to_csv of        address         city state    zip\n",
       "32      #NAME?            -    CA  93551\n",
       "77      #NAME?  Victorville    CA  92395\n",
       "106     #NAME?      Hayward    CA      -\n",
       "536     #NAME?    Lancaster    CA  93535\n",
       "783     #NAME?     Redlands    CA  92374\n",
       "...        ...          ...   ...    ...\n",
       "128581  #NAME?     Petaluma    CA  94954\n",
       "128861  #NAME?            -    CA  93591\n",
       "129834  #NAME?   Ridgecrest    CA  93555\n",
       "129968  #NAME?            -    CA      -\n",
       "129987  #NAME?     Palmdale    CA  93551\n",
       "\n",
       "[504 rows x 4 columns]>"
      ]
     },
     "execution_count": 40,
     "metadata": {},
     "output_type": "execute_result"
    }
   ],
   "source": [
    "real_ad[(real_ad['address'].astype(str).str.startswith('#'))].to_csv \n",
    "        #&\n",
    "        #(real_ad['address'] != '#NAME?')].head()"
   ]
  },
  {
   "cell_type": "code",
   "execution_count": 41,
   "metadata": {},
   "outputs": [
    {
     "data": {
      "text/html": [
       "<div>\n",
       "<style scoped>\n",
       "    .dataframe tbody tr th:only-of-type {\n",
       "        vertical-align: middle;\n",
       "    }\n",
       "\n",
       "    .dataframe tbody tr th {\n",
       "        vertical-align: top;\n",
       "    }\n",
       "\n",
       "    .dataframe thead th {\n",
       "        text-align: right;\n",
       "    }\n",
       "</style>\n",
       "<table border=\"1\" class=\"dataframe\">\n",
       "  <thead>\n",
       "    <tr style=\"text-align: right;\">\n",
       "      <th></th>\n",
       "      <th>address</th>\n",
       "      <th>city</th>\n",
       "      <th>state</th>\n",
       "      <th>zip</th>\n",
       "    </tr>\n",
       "  </thead>\n",
       "  <tbody>\n",
       "    <tr>\n",
       "      <td>0</td>\n",
       "      <td>941 Thorpe St</td>\n",
       "      <td>Rock Springs</td>\n",
       "      <td>WY</td>\n",
       "      <td>82901</td>\n",
       "    </tr>\n",
       "    <tr>\n",
       "      <td>1</td>\n",
       "      <td>2809 HARRIS DR</td>\n",
       "      <td>Antioch</td>\n",
       "      <td>CA</td>\n",
       "      <td>94509</td>\n",
       "    </tr>\n",
       "    <tr>\n",
       "      <td>2</td>\n",
       "      <td>1441 Eastlake Ave</td>\n",
       "      <td>Los Angeles</td>\n",
       "      <td>CA</td>\n",
       "      <td>90033</td>\n",
       "    </tr>\n",
       "    <tr>\n",
       "      <td>3</td>\n",
       "      <td>7 Eucalyptus</td>\n",
       "      <td>Newport Beach</td>\n",
       "      <td>CA</td>\n",
       "      <td>92657</td>\n",
       "    </tr>\n",
       "    <tr>\n",
       "      <td>4</td>\n",
       "      <td>1400 Lachman Ln</td>\n",
       "      <td>Los Angeles</td>\n",
       "      <td>CA</td>\n",
       "      <td>90272</td>\n",
       "    </tr>\n",
       "  </tbody>\n",
       "</table>\n",
       "</div>"
      ],
      "text/plain": [
       "             address           city state    zip\n",
       "0      941 Thorpe St   Rock Springs    WY  82901\n",
       "1     2809 HARRIS DR        Antioch    CA  94509\n",
       "2  1441 Eastlake Ave    Los Angeles    CA  90033\n",
       "3       7 Eucalyptus  Newport Beach    CA  92657\n",
       "4    1400 Lachman Ln    Los Angeles    CA  90272"
      ]
     },
     "execution_count": 41,
     "metadata": {},
     "output_type": "execute_result"
    }
   ],
   "source": [
    "real_ad.head()"
   ]
  },
  {
   "cell_type": "code",
   "execution_count": 42,
   "metadata": {},
   "outputs": [],
   "source": [
    "real_ad['address'] = real_ad['address'].str.strip()"
   ]
  },
  {
   "cell_type": "code",
   "execution_count": 6,
   "metadata": {},
   "outputs": [],
   "source": [
    "cols = ['address', 'city', 'state', 'zip', 'full_address']\n",
    "real_ad[cols] = real_ad[cols].apply(lambda x: x.str.strip())"
   ]
  },
  {
   "cell_type": "code",
   "execution_count": null,
   "metadata": {},
   "outputs": [],
   "source": [
    "real_ad.head()"
   ]
  },
  {
   "cell_type": "code",
   "execution_count": 166,
   "metadata": {},
   "outputs": [
    {
     "data": {
      "text/html": [
       "<div>\n",
       "<style scoped>\n",
       "    .dataframe tbody tr th:only-of-type {\n",
       "        vertical-align: middle;\n",
       "    }\n",
       "\n",
       "    .dataframe tbody tr th {\n",
       "        vertical-align: top;\n",
       "    }\n",
       "\n",
       "    .dataframe thead th {\n",
       "        text-align: right;\n",
       "    }\n",
       "</style>\n",
       "<table border=\"1\" class=\"dataframe\">\n",
       "  <thead>\n",
       "    <tr style=\"text-align: right;\">\n",
       "      <th></th>\n",
       "      <th>address</th>\n",
       "      <th>city</th>\n",
       "      <th>state</th>\n",
       "      <th>zip</th>\n",
       "      <th>full_address</th>\n",
       "    </tr>\n",
       "  </thead>\n",
       "  <tbody>\n",
       "    <tr>\n",
       "      <td>0</td>\n",
       "      <td>941 Thorpe St</td>\n",
       "      <td>Rock Springs</td>\n",
       "      <td>WY</td>\n",
       "      <td>82901</td>\n",
       "      <td>941 Thorpe StRock SpringsWY82901</td>\n",
       "    </tr>\n",
       "    <tr>\n",
       "      <td>1</td>\n",
       "      <td>2809 HARRIS DR</td>\n",
       "      <td>Antioch</td>\n",
       "      <td>CA</td>\n",
       "      <td>94509</td>\n",
       "      <td>2809 HARRIS DRAntiochCA94509</td>\n",
       "    </tr>\n",
       "    <tr>\n",
       "      <td>2</td>\n",
       "      <td>1441 Eastlake Ave</td>\n",
       "      <td>Los Angeles</td>\n",
       "      <td>CA</td>\n",
       "      <td>90033</td>\n",
       "      <td>1441 Eastlake AveLos AngelesCA90033</td>\n",
       "    </tr>\n",
       "    <tr>\n",
       "      <td>3</td>\n",
       "      <td>7 Eucalyptus</td>\n",
       "      <td>Newport Beach</td>\n",
       "      <td>CA</td>\n",
       "      <td>92657</td>\n",
       "      <td>7 EucalyptusNewport BeachCA92657</td>\n",
       "    </tr>\n",
       "    <tr>\n",
       "      <td>4</td>\n",
       "      <td>1400 Lachman Ln</td>\n",
       "      <td>Los Angeles</td>\n",
       "      <td>CA</td>\n",
       "      <td>90272</td>\n",
       "      <td>1400 Lachman LnLos AngelesCA90272</td>\n",
       "    </tr>\n",
       "  </tbody>\n",
       "</table>\n",
       "</div>"
      ],
      "text/plain": [
       "             address           city state    zip  \\\n",
       "0      941 Thorpe St   Rock Springs    WY  82901   \n",
       "1     2809 HARRIS DR        Antioch    CA  94509   \n",
       "2  1441 Eastlake Ave    Los Angeles    CA  90033   \n",
       "3       7 Eucalyptus  Newport Beach    CA  92657   \n",
       "4    1400 Lachman Ln    Los Angeles    CA  90272   \n",
       "\n",
       "                          full_address  \n",
       "0     941 Thorpe StRock SpringsWY82901  \n",
       "1         2809 HARRIS DRAntiochCA94509  \n",
       "2  1441 Eastlake AveLos AngelesCA90033  \n",
       "3     7 EucalyptusNewport BeachCA92657  \n",
       "4    1400 Lachman LnLos AngelesCA90272  "
      ]
     },
     "execution_count": 166,
     "metadata": {},
     "output_type": "execute_result"
    }
   ],
   "source": [
    "real_ad['full_address'] = real_ad.address + real_ad.city+real_ad.state+real_ad.zip\n",
    "real_ad.head()"
   ]
  },
  {
   "cell_type": "code",
   "execution_count": 169,
   "metadata": {},
   "outputs": [
    {
     "data": {
      "text/html": [
       "<div>\n",
       "<style scoped>\n",
       "    .dataframe tbody tr th:only-of-type {\n",
       "        vertical-align: middle;\n",
       "    }\n",
       "\n",
       "    .dataframe tbody tr th {\n",
       "        vertical-align: top;\n",
       "    }\n",
       "\n",
       "    .dataframe thead th {\n",
       "        text-align: right;\n",
       "    }\n",
       "</style>\n",
       "<table border=\"1\" class=\"dataframe\">\n",
       "  <thead>\n",
       "    <tr style=\"text-align: right;\">\n",
       "      <th></th>\n",
       "      <th>uid</th>\n",
       "      <th>address</th>\n",
       "      <th>city</th>\n",
       "      <th>state</th>\n",
       "      <th>zip</th>\n",
       "      <th>Cust_address</th>\n",
       "      <th>full_address</th>\n",
       "    </tr>\n",
       "  </thead>\n",
       "  <tbody>\n",
       "    <tr>\n",
       "      <td>0</td>\n",
       "      <td>1</td>\n",
       "      <td>941 Thorpe St</td>\n",
       "      <td>Rock Springs</td>\n",
       "      <td>WY</td>\n",
       "      <td>82901</td>\n",
       "      <td>941 Thorpe StRock SpringsWY82901.0</td>\n",
       "      <td>941 Thorpe StRock SpringsWY82901</td>\n",
       "    </tr>\n",
       "    <tr>\n",
       "      <td>1</td>\n",
       "      <td>2</td>\n",
       "      <td>2809 HARRIS DR</td>\n",
       "      <td>Antioch</td>\n",
       "      <td>CA</td>\n",
       "      <td>94509</td>\n",
       "      <td>2809 HARRIS DRAntiochCA94509.0</td>\n",
       "      <td>2809 HARRIS DRAntiochCA94509</td>\n",
       "    </tr>\n",
       "    <tr>\n",
       "      <td>2</td>\n",
       "      <td>3</td>\n",
       "      <td>1441 Eastlake Ave</td>\n",
       "      <td>Los Angeles</td>\n",
       "      <td>CA</td>\n",
       "      <td>90033</td>\n",
       "      <td>1441 Eastlake AveLos AngelesCA90033.0</td>\n",
       "      <td>1441 Eastlake AveLos AngelesCA90033</td>\n",
       "    </tr>\n",
       "    <tr>\n",
       "      <td>3</td>\n",
       "      <td>4</td>\n",
       "      <td>7 ucayptus</td>\n",
       "      <td>Newport Beach</td>\n",
       "      <td>CA</td>\n",
       "      <td>92657</td>\n",
       "      <td>7 ucayptusNewport BeachCA92657.0</td>\n",
       "      <td>7 ucayptusNewport BeachCA92657</td>\n",
       "    </tr>\n",
       "    <tr>\n",
       "      <td>4</td>\n",
       "      <td>5</td>\n",
       "      <td>1400 Lachman Ln</td>\n",
       "      <td>NaN</td>\n",
       "      <td>CA</td>\n",
       "      <td>90272</td>\n",
       "      <td>NaN</td>\n",
       "      <td>NaN</td>\n",
       "    </tr>\n",
       "  </tbody>\n",
       "</table>\n",
       "</div>"
      ],
      "text/plain": [
       "   uid            address           city state    zip  \\\n",
       "0    1      941 Thorpe St   Rock Springs    WY  82901   \n",
       "1    2     2809 HARRIS DR        Antioch    CA  94509   \n",
       "2    3  1441 Eastlake Ave    Los Angeles    CA  90033   \n",
       "3    4         7 ucayptus  Newport Beach    CA  92657   \n",
       "4    5    1400 Lachman Ln            NaN    CA  90272   \n",
       "\n",
       "                            Cust_address                         full_address  \n",
       "0     941 Thorpe StRock SpringsWY82901.0     941 Thorpe StRock SpringsWY82901  \n",
       "1         2809 HARRIS DRAntiochCA94509.0         2809 HARRIS DRAntiochCA94509  \n",
       "2  1441 Eastlake AveLos AngelesCA90033.0  1441 Eastlake AveLos AngelesCA90033  \n",
       "3       7 ucayptusNewport BeachCA92657.0       7 ucayptusNewport BeachCA92657  \n",
       "4                                    NaN                                  NaN  "
      ]
     },
     "execution_count": 169,
     "metadata": {},
     "output_type": "execute_result"
    }
   ],
   "source": [
    "test_ad['full_address'] = test_ad.address+test_ad.city+test_ad.state+test_ad.zip.astype(str)\n",
    "test_ad.head()"
   ]
  },
  {
   "cell_type": "code",
   "execution_count": null,
   "metadata": {},
   "outputs": [],
   "source": [
    "test_ad['full_address'] = test_ad.full_address.str.upper()"
   ]
  },
  {
   "cell_type": "code",
   "execution_count": null,
   "metadata": {},
   "outputs": [],
   "source": [
    "test_ad.head()"
   ]
  },
  {
   "cell_type": "code",
   "execution_count": 168,
   "metadata": {},
   "outputs": [
    {
     "data": {
      "text/html": [
       "<div>\n",
       "<style scoped>\n",
       "    .dataframe tbody tr th:only-of-type {\n",
       "        vertical-align: middle;\n",
       "    }\n",
       "\n",
       "    .dataframe tbody tr th {\n",
       "        vertical-align: top;\n",
       "    }\n",
       "\n",
       "    .dataframe thead th {\n",
       "        text-align: right;\n",
       "    }\n",
       "</style>\n",
       "<table border=\"1\" class=\"dataframe\">\n",
       "  <thead>\n",
       "    <tr style=\"text-align: right;\">\n",
       "      <th></th>\n",
       "      <th>uid</th>\n",
       "      <th>address</th>\n",
       "      <th>city</th>\n",
       "      <th>state</th>\n",
       "      <th>zip</th>\n",
       "      <th>Cust_address</th>\n",
       "      <th>full_address</th>\n",
       "    </tr>\n",
       "  </thead>\n",
       "  <tbody>\n",
       "    <tr>\n",
       "      <td>0</td>\n",
       "      <td>1</td>\n",
       "      <td>941 Thorpe St</td>\n",
       "      <td>Rock Springs</td>\n",
       "      <td>WY</td>\n",
       "      <td>82901</td>\n",
       "      <td>941 Thorpe StRock SpringsWY82901.0</td>\n",
       "      <td>941 Thorpe StRock SpringsWY82901.0</td>\n",
       "    </tr>\n",
       "    <tr>\n",
       "      <td>1</td>\n",
       "      <td>2</td>\n",
       "      <td>2809 HARRIS DR</td>\n",
       "      <td>Antioch</td>\n",
       "      <td>CA</td>\n",
       "      <td>94509</td>\n",
       "      <td>2809 HARRIS DRAntiochCA94509.0</td>\n",
       "      <td>2809 HARRIS DRAntiochCA94509.0</td>\n",
       "    </tr>\n",
       "    <tr>\n",
       "      <td>2</td>\n",
       "      <td>3</td>\n",
       "      <td>1441 Eastlake Ave</td>\n",
       "      <td>Los Angeles</td>\n",
       "      <td>CA</td>\n",
       "      <td>90033</td>\n",
       "      <td>1441 Eastlake AveLos AngelesCA90033.0</td>\n",
       "      <td>1441 Eastlake AveLos AngelesCA90033.0</td>\n",
       "    </tr>\n",
       "    <tr>\n",
       "      <td>3</td>\n",
       "      <td>4</td>\n",
       "      <td>7 ucayptus</td>\n",
       "      <td>Newport Beach</td>\n",
       "      <td>CA</td>\n",
       "      <td>92657</td>\n",
       "      <td>7 ucayptusNewport BeachCA92657.0</td>\n",
       "      <td>7 ucayptusNewport BeachCA92657.0</td>\n",
       "    </tr>\n",
       "    <tr>\n",
       "      <td>4</td>\n",
       "      <td>5</td>\n",
       "      <td>1400 Lachman Ln</td>\n",
       "      <td>NaN</td>\n",
       "      <td>CA</td>\n",
       "      <td>90272</td>\n",
       "      <td>NaN</td>\n",
       "      <td>NaN</td>\n",
       "    </tr>\n",
       "  </tbody>\n",
       "</table>\n",
       "</div>"
      ],
      "text/plain": [
       "   uid            address           city state    zip  \\\n",
       "0    1      941 Thorpe St   Rock Springs    WY  82901   \n",
       "1    2     2809 HARRIS DR        Antioch    CA  94509   \n",
       "2    3  1441 Eastlake Ave    Los Angeles    CA  90033   \n",
       "3    4         7 ucayptus  Newport Beach    CA  92657   \n",
       "4    5    1400 Lachman Ln            NaN    CA  90272   \n",
       "\n",
       "                            Cust_address  \\\n",
       "0     941 Thorpe StRock SpringsWY82901.0   \n",
       "1         2809 HARRIS DRAntiochCA94509.0   \n",
       "2  1441 Eastlake AveLos AngelesCA90033.0   \n",
       "3       7 ucayptusNewport BeachCA92657.0   \n",
       "4                                    NaN   \n",
       "\n",
       "                            full_address  \n",
       "0     941 Thorpe StRock SpringsWY82901.0  \n",
       "1         2809 HARRIS DRAntiochCA94509.0  \n",
       "2  1441 Eastlake AveLos AngelesCA90033.0  \n",
       "3       7 ucayptusNewport BeachCA92657.0  \n",
       "4                                    NaN  "
      ]
     },
     "execution_count": 168,
     "metadata": {},
     "output_type": "execute_result"
    }
   ],
   "source": [
    "test_ad['zip'] = test_ad['zip'].astype(str).apply(lambda x: x.replace('.0',''))\n",
    "test_ad.head()"
   ]
  },
  {
   "cell_type": "code",
   "execution_count": 177,
   "metadata": {},
   "outputs": [
    {
     "data": {
      "text/html": [
       "<div>\n",
       "<style scoped>\n",
       "    .dataframe tbody tr th:only-of-type {\n",
       "        vertical-align: middle;\n",
       "    }\n",
       "\n",
       "    .dataframe tbody tr th {\n",
       "        vertical-align: top;\n",
       "    }\n",
       "\n",
       "    .dataframe thead th {\n",
       "        text-align: right;\n",
       "    }\n",
       "</style>\n",
       "<table border=\"1\" class=\"dataframe\">\n",
       "  <thead>\n",
       "    <tr style=\"text-align: right;\">\n",
       "      <th></th>\n",
       "      <th>Cust_address</th>\n",
       "      <th>address</th>\n",
       "      <th>city</th>\n",
       "      <th>full_address</th>\n",
       "      <th>state</th>\n",
       "      <th>uid</th>\n",
       "      <th>zip</th>\n",
       "    </tr>\n",
       "  </thead>\n",
       "  <tbody>\n",
       "    <tr>\n",
       "      <td>0</td>\n",
       "      <td>NaN</td>\n",
       "      <td>941 Thorpe St</td>\n",
       "      <td>Rock Springs</td>\n",
       "      <td>941 Thorpe StRock SpringsWY82901</td>\n",
       "      <td>WY</td>\n",
       "      <td>NaN</td>\n",
       "      <td>82901</td>\n",
       "    </tr>\n",
       "    <tr>\n",
       "      <td>1</td>\n",
       "      <td>NaN</td>\n",
       "      <td>2809 HARRIS DR</td>\n",
       "      <td>Antioch</td>\n",
       "      <td>2809 HARRIS DRAntiochCA94509</td>\n",
       "      <td>CA</td>\n",
       "      <td>NaN</td>\n",
       "      <td>94509</td>\n",
       "    </tr>\n",
       "    <tr>\n",
       "      <td>2</td>\n",
       "      <td>NaN</td>\n",
       "      <td>1441 Eastlake Ave</td>\n",
       "      <td>Los Angeles</td>\n",
       "      <td>1441 Eastlake AveLos AngelesCA90033</td>\n",
       "      <td>CA</td>\n",
       "      <td>NaN</td>\n",
       "      <td>90033</td>\n",
       "    </tr>\n",
       "    <tr>\n",
       "      <td>3</td>\n",
       "      <td>NaN</td>\n",
       "      <td>7 Eucalyptus</td>\n",
       "      <td>Newport Beach</td>\n",
       "      <td>7 EucalyptusNewport BeachCA92657</td>\n",
       "      <td>CA</td>\n",
       "      <td>NaN</td>\n",
       "      <td>92657</td>\n",
       "    </tr>\n",
       "    <tr>\n",
       "      <td>4</td>\n",
       "      <td>NaN</td>\n",
       "      <td>1400 Lachman Ln</td>\n",
       "      <td>Los Angeles</td>\n",
       "      <td>1400 Lachman LnLos AngelesCA90272</td>\n",
       "      <td>CA</td>\n",
       "      <td>NaN</td>\n",
       "      <td>90272</td>\n",
       "    </tr>\n",
       "  </tbody>\n",
       "</table>\n",
       "</div>"
      ],
      "text/plain": [
       "  Cust_address            address           city  \\\n",
       "0          NaN      941 Thorpe St   Rock Springs   \n",
       "1          NaN     2809 HARRIS DR        Antioch   \n",
       "2          NaN  1441 Eastlake Ave    Los Angeles   \n",
       "3          NaN       7 Eucalyptus  Newport Beach   \n",
       "4          NaN    1400 Lachman Ln    Los Angeles   \n",
       "\n",
       "                          full_address state  uid    zip  \n",
       "0     941 Thorpe StRock SpringsWY82901    WY  NaN  82901  \n",
       "1         2809 HARRIS DRAntiochCA94509    CA  NaN  94509  \n",
       "2  1441 Eastlake AveLos AngelesCA90033    CA  NaN  90033  \n",
       "3     7 EucalyptusNewport BeachCA92657    CA  NaN  92657  \n",
       "4    1400 Lachman LnLos AngelesCA90272    CA  NaN  90272  "
      ]
     },
     "execution_count": 177,
     "metadata": {},
     "output_type": "execute_result"
    }
   ],
   "source": [
    "new_df = pd.concat([real_ad,test_ad],sort = True)\n",
    "new_df.head()"
   ]
  },
  {
   "cell_type": "code",
   "execution_count": 178,
   "metadata": {},
   "outputs": [
    {
     "data": {
      "text/plain": [
       "Cust_address    138715\n",
       "address            295\n",
       "city              1298\n",
       "full_address      9010\n",
       "state             7449\n",
       "uid             130000\n",
       "zip                 16\n",
       "dtype: int64"
      ]
     },
     "execution_count": 178,
     "metadata": {},
     "output_type": "execute_result"
    }
   ],
   "source": [
    "new_df.isna().sum()"
   ]
  },
  {
   "cell_type": "code",
   "execution_count": 181,
   "metadata": {},
   "outputs": [
    {
     "data": {
      "text/html": [
       "<div>\n",
       "<style scoped>\n",
       "    .dataframe tbody tr th:only-of-type {\n",
       "        vertical-align: middle;\n",
       "    }\n",
       "\n",
       "    .dataframe tbody tr th {\n",
       "        vertical-align: top;\n",
       "    }\n",
       "\n",
       "    .dataframe thead th {\n",
       "        text-align: right;\n",
       "    }\n",
       "</style>\n",
       "<table border=\"1\" class=\"dataframe\">\n",
       "  <thead>\n",
       "    <tr style=\"text-align: right;\">\n",
       "      <th></th>\n",
       "      <th>Cust_address</th>\n",
       "      <th>address</th>\n",
       "      <th>city</th>\n",
       "      <th>full_address</th>\n",
       "      <th>state</th>\n",
       "      <th>uid</th>\n",
       "      <th>zip</th>\n",
       "    </tr>\n",
       "  </thead>\n",
       "  <tbody>\n",
       "    <tr>\n",
       "      <td>341</td>\n",
       "      <td>NaN</td>\n",
       "      <td>NaN</td>\n",
       "      <td>Millbrae</td>\n",
       "      <td>NaN</td>\n",
       "      <td>CA</td>\n",
       "      <td>NaN</td>\n",
       "      <td>94030</td>\n",
       "    </tr>\n",
       "    <tr>\n",
       "      <td>764</td>\n",
       "      <td>NaN</td>\n",
       "      <td>NaN</td>\n",
       "      <td>Sunnyvale</td>\n",
       "      <td>NaN</td>\n",
       "      <td>CA</td>\n",
       "      <td>NaN</td>\n",
       "      <td>94086</td>\n",
       "    </tr>\n",
       "    <tr>\n",
       "      <td>967</td>\n",
       "      <td>NaN</td>\n",
       "      <td>NaN</td>\n",
       "      <td>Hesperia</td>\n",
       "      <td>NaN</td>\n",
       "      <td>CA</td>\n",
       "      <td>NaN</td>\n",
       "      <td>92345</td>\n",
       "    </tr>\n",
       "    <tr>\n",
       "      <td>1034</td>\n",
       "      <td>NaN</td>\n",
       "      <td>NaN</td>\n",
       "      <td>Sacramento</td>\n",
       "      <td>NaN</td>\n",
       "      <td>CA</td>\n",
       "      <td>NaN</td>\n",
       "      <td>95864</td>\n",
       "    </tr>\n",
       "    <tr>\n",
       "      <td>1057</td>\n",
       "      <td>NaN</td>\n",
       "      <td>NaN</td>\n",
       "      <td>San Francisco</td>\n",
       "      <td>NaN</td>\n",
       "      <td>CA</td>\n",
       "      <td>NaN</td>\n",
       "      <td>94124</td>\n",
       "    </tr>\n",
       "  </tbody>\n",
       "</table>\n",
       "</div>"
      ],
      "text/plain": [
       "     Cust_address address           city full_address state  uid    zip\n",
       "341           NaN     NaN       Millbrae          NaN    CA  NaN  94030\n",
       "764           NaN     NaN      Sunnyvale          NaN    CA  NaN  94086\n",
       "967           NaN     NaN       Hesperia          NaN    CA  NaN  92345\n",
       "1034          NaN     NaN     Sacramento          NaN    CA  NaN  95864\n",
       "1057          NaN     NaN  San Francisco          NaN    CA  NaN  94124"
      ]
     },
     "execution_count": 181,
     "metadata": {},
     "output_type": "execute_result"
    }
   ],
   "source": [
    "new_df[new_df.full_address.isna()].head()"
   ]
  },
  {
   "cell_type": "code",
   "execution_count": 190,
   "metadata": {},
   "outputs": [
    {
     "data": {
      "text/html": [
       "<div>\n",
       "<style scoped>\n",
       "    .dataframe tbody tr th:only-of-type {\n",
       "        vertical-align: middle;\n",
       "    }\n",
       "\n",
       "    .dataframe tbody tr th {\n",
       "        vertical-align: top;\n",
       "    }\n",
       "\n",
       "    .dataframe thead th {\n",
       "        text-align: right;\n",
       "    }\n",
       "</style>\n",
       "<table border=\"1\" class=\"dataframe\">\n",
       "  <thead>\n",
       "    <tr style=\"text-align: right;\">\n",
       "      <th></th>\n",
       "      <th>Cust_address</th>\n",
       "      <th>address</th>\n",
       "      <th>city</th>\n",
       "      <th>full_address</th>\n",
       "      <th>state</th>\n",
       "      <th>uid</th>\n",
       "      <th>zip</th>\n",
       "    </tr>\n",
       "  </thead>\n",
       "  <tbody>\n",
       "    <tr>\n",
       "      <td>14011</td>\n",
       "      <td>NaN</td>\n",
       "      <td>NaN</td>\n",
       "      <td>NaN</td>\n",
       "      <td>NaN</td>\n",
       "      <td>NaN</td>\n",
       "      <td>NaN</td>\n",
       "      <td>NaN</td>\n",
       "    </tr>\n",
       "    <tr>\n",
       "      <td>23526</td>\n",
       "      <td>NaN</td>\n",
       "      <td>NaN</td>\n",
       "      <td>NaN</td>\n",
       "      <td>NaN</td>\n",
       "      <td>NaN</td>\n",
       "      <td>NaN</td>\n",
       "      <td>NaN</td>\n",
       "    </tr>\n",
       "    <tr>\n",
       "      <td>27995</td>\n",
       "      <td>NaN</td>\n",
       "      <td>NaN</td>\n",
       "      <td>NaN</td>\n",
       "      <td>NaN</td>\n",
       "      <td>NaN</td>\n",
       "      <td>NaN</td>\n",
       "      <td>NaN</td>\n",
       "    </tr>\n",
       "  </tbody>\n",
       "</table>\n",
       "</div>"
      ],
      "text/plain": [
       "      Cust_address address city full_address state  uid  zip\n",
       "14011          NaN     NaN  NaN          NaN   NaN  NaN  NaN\n",
       "23526          NaN     NaN  NaN          NaN   NaN  NaN  NaN\n",
       "27995          NaN     NaN  NaN          NaN   NaN  NaN  NaN"
      ]
     },
     "execution_count": 190,
     "metadata": {},
     "output_type": "execute_result"
    }
   ],
   "source": [
    "new_df[new_df.state.isna()].head(3)"
   ]
  },
  {
   "cell_type": "code",
   "execution_count": 189,
   "metadata": {},
   "outputs": [
    {
     "data": {
      "text/html": [
       "<div>\n",
       "<style scoped>\n",
       "    .dataframe tbody tr th:only-of-type {\n",
       "        vertical-align: middle;\n",
       "    }\n",
       "\n",
       "    .dataframe tbody tr th {\n",
       "        vertical-align: top;\n",
       "    }\n",
       "\n",
       "    .dataframe thead th {\n",
       "        text-align: right;\n",
       "    }\n",
       "</style>\n",
       "<table border=\"1\" class=\"dataframe\">\n",
       "  <thead>\n",
       "    <tr style=\"text-align: right;\">\n",
       "      <th></th>\n",
       "      <th>Cust_address</th>\n",
       "      <th>address</th>\n",
       "      <th>city</th>\n",
       "      <th>full_address</th>\n",
       "      <th>state</th>\n",
       "      <th>uid</th>\n",
       "      <th>zip</th>\n",
       "    </tr>\n",
       "  </thead>\n",
       "  <tbody>\n",
       "    <tr>\n",
       "      <td>50264</td>\n",
       "      <td>NaN</td>\n",
       "      <td>1830 EINSTEIN ST</td>\n",
       "      <td>Lancaster</td>\n",
       "      <td>1830 EINSTEIN STLancasterCA93535</td>\n",
       "      <td>CA</td>\n",
       "      <td>NaN</td>\n",
       "      <td>93535</td>\n",
       "    </tr>\n",
       "    <tr>\n",
       "      <td>115282</td>\n",
       "      <td>NaN</td>\n",
       "      <td>1830 EINSTEIN ST</td>\n",
       "      <td>Lancaster</td>\n",
       "      <td>1830 EINSTEIN STLancasterCA93535</td>\n",
       "      <td>CA</td>\n",
       "      <td>NaN</td>\n",
       "      <td>93535</td>\n",
       "    </tr>\n",
       "    <tr>\n",
       "      <td>49905</td>\n",
       "      <td>NaN</td>\n",
       "      <td>1830 EINSTEIN ST</td>\n",
       "      <td>Lancaster</td>\n",
       "      <td>NaN</td>\n",
       "      <td>NaN</td>\n",
       "      <td>50265.0</td>\n",
       "      <td>93535</td>\n",
       "    </tr>\n",
       "  </tbody>\n",
       "</table>\n",
       "</div>"
      ],
      "text/plain": [
       "       Cust_address           address       city  \\\n",
       "50264           NaN  1830 EINSTEIN ST  Lancaster   \n",
       "115282          NaN  1830 EINSTEIN ST  Lancaster   \n",
       "49905           NaN  1830 EINSTEIN ST  Lancaster   \n",
       "\n",
       "                            full_address state      uid    zip  \n",
       "50264   1830 EINSTEIN STLancasterCA93535    CA      NaN  93535  \n",
       "115282  1830 EINSTEIN STLancasterCA93535    CA      NaN  93535  \n",
       "49905                                NaN   NaN  50265.0  93535  "
      ]
     },
     "execution_count": 189,
     "metadata": {},
     "output_type": "execute_result"
    }
   ],
   "source": [
    "new_df[(new_df.city == 'Lancaster') & (new_df.address == '1830 EINSTEIN ST')]"
   ]
  },
  {
   "cell_type": "code",
   "execution_count": null,
   "metadata": {},
   "outputs": [],
   "source": []
  },
  {
   "cell_type": "code",
   "execution_count": null,
   "metadata": {},
   "outputs": [],
   "source": [
    "test_ad.dtypes"
   ]
  },
  {
   "cell_type": "code",
   "execution_count": null,
   "metadata": {},
   "outputs": [],
   "source": [
    "test_ad.isna().sum()"
   ]
  },
  {
   "cell_type": "code",
   "execution_count": null,
   "metadata": {},
   "outputs": [],
   "source": [
    "incomplete = test_ad[test_ad['full_address'].isna()]\n",
    "incomplete.head()"
   ]
  },
  {
   "cell_type": "code",
   "execution_count": null,
   "metadata": {},
   "outputs": [],
   "source": [
    "na_vals = ['- - ','np.nan','#NAME?','#NAM?']"
   ]
  },
  {
   "cell_type": "code",
   "execution_count": null,
   "metadata": {},
   "outputs": [],
   "source": [
    "real_ad"
   ]
  },
  {
   "cell_type": "markdown",
   "metadata": {},
   "source": [
    "- With complete address:\n",
    "    - Examine patterns (if any) where certain columns are missing \n",
    "        - For example: missing street name, city, state, zip, etc"
   ]
  },
  {
   "cell_type": "code",
   "execution_count": null,
   "metadata": {},
   "outputs": [],
   "source": [
    "incomplete[incomplete.isin(na_vals)].head()"
   ]
  },
  {
   "cell_type": "code",
   "execution_count": null,
   "metadata": {},
   "outputs": [],
   "source": [
    "test_ad.full_address.describe()"
   ]
  },
  {
   "cell_type": "code",
   "execution_count": null,
   "metadata": {},
   "outputs": [],
   "source": [
    "real_ad.full_address.describe()"
   ]
  },
  {
   "cell_type": "code",
   "execution_count": null,
   "metadata": {},
   "outputs": [],
   "source": [
    "#Rename columns in test ad \n",
    "#Join test_ad to real_ad  "
   ]
  },
  {
   "cell_type": "code",
   "execution_count": null,
   "metadata": {},
   "outputs": [],
   "source": [
    "df1 = real_ad[['full_address']]\n",
    "df2 = test_ad[['full_address']]"
   ]
  },
  {
   "cell_type": "code",
   "execution_count": null,
   "metadata": {},
   "outputs": [],
   "source": [
    "df1.merge(df2, left_on='full_address', right_on='address')"
   ]
  },
  {
   "cell_type": "code",
   "execution_count": null,
   "metadata": {},
   "outputs": [],
   "source": [
    "df3 = df1.merge(df2, left_on='full_address', right_on='address')"
   ]
  },
  {
   "cell_type": "code",
   "execution_count": null,
   "metadata": {},
   "outputs": [],
   "source": [
    "df3.loc[df3.duplicated(keep='first'), :]"
   ]
  },
  {
   "cell_type": "code",
   "execution_count": null,
   "metadata": {},
   "outputs": [],
   "source": [
    "# examine the duplicate rows (including all duplicates)\n",
    "dupes = df3.loc[df3.duplicated(keep=False), :]"
   ]
  },
  {
   "cell_type": "code",
   "execution_count": null,
   "metadata": {},
   "outputs": [],
   "source": [
    "dupes.shape"
   ]
  },
  {
   "cell_type": "code",
   "execution_count": null,
   "metadata": {},
   "outputs": [],
   "source": [
    "df1.shape"
   ]
  },
  {
   "cell_type": "code",
   "execution_count": null,
   "metadata": {},
   "outputs": [],
   "source": [
    "df3.query('address == full_address')"
   ]
  },
  {
   "cell_type": "code",
   "execution_count": 2,
   "metadata": {},
   "outputs": [],
   "source": [
    "import pandas as pd\n",
    "import numpy as np"
   ]
  },
  {
   "cell_type": "code",
   "execution_count": 9,
   "metadata": {},
   "outputs": [
    {
     "data": {
      "text/plain": [
       "array(['WY', 'CA', 'NY', 'TX', 'TN', 'PA', 'MI', 'FL', 'GA', 'MO', 'AR',\n",
       "       'CO', 'WA', 'OH', 'AZ', 'MA', 'IL', 'CT', 'SC', 'KY', 'NV', 'MN',\n",
       "       'AL', 'NC', 'OK', 'WV', 'VA', 'UT', 'VT', 'ID', 'NJ', 'IN', 'MD',\n",
       "       'SD', 'OR', 'NH', 'NM', 'IA', 'KS', 'LA', 'WI', 'ME', 'NE', 'MS',\n",
       "       'MT', 'DE', 'ND', 'ca', 'ma', 'ia', 'nd', 'oh', 'id', 'il', 'HI',\n",
       "       'tx', 'ut', 'pa', 'sd', 'ny', 'RI', 'co', 'wa', 'va', 'mn', 'az',\n",
       "       'nc', 'tn', nan, 'ne', 'ky', 'nj', 'la', 'ct', 'ks', 'mo', 'md',\n",
       "       'al', 'wi', 'mi', 'wy', 'AK', 'fl', 'in', 'DC', 'ri', 'or', 'nh',\n",
       "       'hi', 'nm', 'mt', 'ms', 'ga', 'nv', 'ar', 'ok', 'me'], dtype=object)"
      ]
     },
     "execution_count": 9,
     "metadata": {},
     "output_type": "execute_result"
    }
   ],
   "source": [
    "test_ad.state.unique()"
   ]
  },
  {
   "cell_type": "code",
   "execution_count": 10,
   "metadata": {},
   "outputs": [
    {
     "data": {
      "text/plain": [
       "96"
      ]
     },
     "execution_count": 10,
     "metadata": {},
     "output_type": "execute_result"
    }
   ],
   "source": [
    "test_ad.state.nunique()"
   ]
  },
  {
   "cell_type": "code",
   "execution_count": null,
   "metadata": {},
   "outputs": [],
   "source": []
  }
 ],
 "metadata": {
  "kernelspec": {
   "display_name": "Python 3",
   "language": "python",
   "name": "python3"
  },
  "language_info": {
   "codemirror_mode": {
    "name": "ipython",
    "version": 3
   },
   "file_extension": ".py",
   "mimetype": "text/x-python",
   "name": "python",
   "nbconvert_exporter": "python",
   "pygments_lexer": "ipython3",
   "version": "3.7.4"
  }
 },
 "nbformat": 4,
 "nbformat_minor": 4
}
