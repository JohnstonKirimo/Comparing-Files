{
 "cells": [
  {
   "cell_type": "code",
   "execution_count": 43,
   "metadata": {},
   "outputs": [],
   "source": [
    "import pandas as pd\n",
    "import numpy as np"
   ]
  },
  {
   "cell_type": "code",
   "execution_count": 44,
   "metadata": {},
   "outputs": [],
   "source": [
    "z_flood = pd.read_csv('/users/johnstonkirimo/Projects/Zesty/data/z_flood.csv')"
   ]
  },
  {
   "cell_type": "code",
   "execution_count": 45,
   "metadata": {},
   "outputs": [
    {
     "data": {
      "text/html": [
       "<div>\n",
       "<style scoped>\n",
       "    .dataframe tbody tr th:only-of-type {\n",
       "        vertical-align: middle;\n",
       "    }\n",
       "\n",
       "    .dataframe tbody tr th {\n",
       "        vertical-align: top;\n",
       "    }\n",
       "\n",
       "    .dataframe thead th {\n",
       "        text-align: right;\n",
       "    }\n",
       "</style>\n",
       "<table border=\"1\" class=\"dataframe\">\n",
       "  <thead>\n",
       "    <tr style=\"text-align: right;\">\n",
       "      <th></th>\n",
       "      <th>property_id</th>\n",
       "      <th>Flood occurrence score</th>\n",
       "      <th>Flood damage score</th>\n",
       "      <th>Insured value</th>\n",
       "      <th>Policy Annual Premium</th>\n",
       "      <th>Unnamed: 5</th>\n",
       "    </tr>\n",
       "  </thead>\n",
       "  <tbody>\n",
       "    <tr>\n",
       "      <td>0</td>\n",
       "      <td>0</td>\n",
       "      <td>3.0</td>\n",
       "      <td>6</td>\n",
       "      <td>$400,400.00</td>\n",
       "      <td>$973.70</td>\n",
       "      <td>NaN</td>\n",
       "    </tr>\n",
       "    <tr>\n",
       "      <td>1</td>\n",
       "      <td>1</td>\n",
       "      <td>1.0</td>\n",
       "      <td>6</td>\n",
       "      <td>$194,524.00</td>\n",
       "      <td>$470.40</td>\n",
       "      <td>NaN</td>\n",
       "    </tr>\n",
       "    <tr>\n",
       "      <td>2</td>\n",
       "      <td>2</td>\n",
       "      <td>6.0</td>\n",
       "      <td>8</td>\n",
       "      <td>$1,146,752.00</td>\n",
       "      <td>$1,978.80</td>\n",
       "      <td>NaN</td>\n",
       "    </tr>\n",
       "    <tr>\n",
       "      <td>3</td>\n",
       "      <td>3</td>\n",
       "      <td>6.0</td>\n",
       "      <td>10</td>\n",
       "      <td>$664,357.00</td>\n",
       "      <td>$1,771.65</td>\n",
       "      <td>NaN</td>\n",
       "    </tr>\n",
       "    <tr>\n",
       "      <td>4</td>\n",
       "      <td>4</td>\n",
       "      <td>5.0</td>\n",
       "      <td>10</td>\n",
       "      <td>$1,500,000.00</td>\n",
       "      <td>$7,483.84</td>\n",
       "      <td>NaN</td>\n",
       "    </tr>\n",
       "  </tbody>\n",
       "</table>\n",
       "</div>"
      ],
      "text/plain": [
       "   property_id  Flood occurrence score  Flood damage score   Insured value  \\\n",
       "0            0                     3.0                   6    $400,400.00    \n",
       "1            1                     1.0                   6    $194,524.00    \n",
       "2            2                     6.0                   8  $1,146,752.00    \n",
       "3            3                     6.0                  10    $664,357.00    \n",
       "4            4                     5.0                  10  $1,500,000.00    \n",
       "\n",
       "  Policy Annual Premium  Unnamed: 5  \n",
       "0              $973.70          NaN  \n",
       "1              $470.40          NaN  \n",
       "2            $1,978.80          NaN  \n",
       "3            $1,771.65          NaN  \n",
       "4            $7,483.84          NaN  "
      ]
     },
     "execution_count": 45,
     "metadata": {},
     "output_type": "execute_result"
    }
   ],
   "source": [
    "z_flood.head()"
   ]
  },
  {
   "cell_type": "code",
   "execution_count": 46,
   "metadata": {},
   "outputs": [
    {
     "data": {
      "text/plain": [
       "Index(['property_id', 'Flood occurrence score', 'Flood damage score',\n",
       "       'Insured value', 'Policy Annual Premium', 'Unnamed: 5'],\n",
       "      dtype='object')"
      ]
     },
     "execution_count": 46,
     "metadata": {},
     "output_type": "execute_result"
    }
   ],
   "source": [
    "z_flood.columns"
   ]
  },
  {
   "cell_type": "code",
   "execution_count": 47,
   "metadata": {},
   "outputs": [],
   "source": [
    "df = z_flood.rename(columns={'Flood occurrence score': 'flood_occurrence_score','Flood damage score':'flood_damage_score','Insured value': 'insured_value','Policy Annual Premium':'policy_annual_premium'})"
   ]
  },
  {
   "cell_type": "code",
   "execution_count": 48,
   "metadata": {},
   "outputs": [
    {
     "data": {
      "text/html": [
       "<div>\n",
       "<style scoped>\n",
       "    .dataframe tbody tr th:only-of-type {\n",
       "        vertical-align: middle;\n",
       "    }\n",
       "\n",
       "    .dataframe tbody tr th {\n",
       "        vertical-align: top;\n",
       "    }\n",
       "\n",
       "    .dataframe thead th {\n",
       "        text-align: right;\n",
       "    }\n",
       "</style>\n",
       "<table border=\"1\" class=\"dataframe\">\n",
       "  <thead>\n",
       "    <tr style=\"text-align: right;\">\n",
       "      <th></th>\n",
       "      <th>property_id</th>\n",
       "      <th>flood_occurrence_score</th>\n",
       "      <th>flood_damage_score</th>\n",
       "      <th>insured_value</th>\n",
       "      <th>policy_annual_premium</th>\n",
       "      <th>Unnamed: 5</th>\n",
       "    </tr>\n",
       "  </thead>\n",
       "  <tbody>\n",
       "    <tr>\n",
       "      <td>0</td>\n",
       "      <td>0</td>\n",
       "      <td>3.0</td>\n",
       "      <td>6</td>\n",
       "      <td>$400,400.00</td>\n",
       "      <td>$973.70</td>\n",
       "      <td>NaN</td>\n",
       "    </tr>\n",
       "    <tr>\n",
       "      <td>1</td>\n",
       "      <td>1</td>\n",
       "      <td>1.0</td>\n",
       "      <td>6</td>\n",
       "      <td>$194,524.00</td>\n",
       "      <td>$470.40</td>\n",
       "      <td>NaN</td>\n",
       "    </tr>\n",
       "    <tr>\n",
       "      <td>2</td>\n",
       "      <td>2</td>\n",
       "      <td>6.0</td>\n",
       "      <td>8</td>\n",
       "      <td>$1,146,752.00</td>\n",
       "      <td>$1,978.80</td>\n",
       "      <td>NaN</td>\n",
       "    </tr>\n",
       "    <tr>\n",
       "      <td>3</td>\n",
       "      <td>3</td>\n",
       "      <td>6.0</td>\n",
       "      <td>10</td>\n",
       "      <td>$664,357.00</td>\n",
       "      <td>$1,771.65</td>\n",
       "      <td>NaN</td>\n",
       "    </tr>\n",
       "    <tr>\n",
       "      <td>4</td>\n",
       "      <td>4</td>\n",
       "      <td>5.0</td>\n",
       "      <td>10</td>\n",
       "      <td>$1,500,000.00</td>\n",
       "      <td>$7,483.84</td>\n",
       "      <td>NaN</td>\n",
       "    </tr>\n",
       "  </tbody>\n",
       "</table>\n",
       "</div>"
      ],
      "text/plain": [
       "   property_id  flood_occurrence_score  flood_damage_score   insured_value  \\\n",
       "0            0                     3.0                   6    $400,400.00    \n",
       "1            1                     1.0                   6    $194,524.00    \n",
       "2            2                     6.0                   8  $1,146,752.00    \n",
       "3            3                     6.0                  10    $664,357.00    \n",
       "4            4                     5.0                  10  $1,500,000.00    \n",
       "\n",
       "  policy_annual_premium  Unnamed: 5  \n",
       "0              $973.70          NaN  \n",
       "1              $470.40          NaN  \n",
       "2            $1,978.80          NaN  \n",
       "3            $1,771.65          NaN  \n",
       "4            $7,483.84          NaN  "
      ]
     },
     "execution_count": 48,
     "metadata": {},
     "output_type": "execute_result"
    }
   ],
   "source": [
    "df.head()"
   ]
  },
  {
   "cell_type": "code",
   "execution_count": 50,
   "metadata": {},
   "outputs": [],
   "source": [
    "df['p_flood'] = np.where(df.flood_occurrence_score == 1.0,0.00,\n",
    "                        np.where(df.flood_occurrence_score == 2.0, 0.01,\n",
    "                                np.where(df.flood_occurrence_score == 3.0, 0.01,\n",
    "                                        np.where(df.flood_occurrence_score == 4.0, 0.02,\n",
    "                                                np.where(df.flood_occurrence_score == 5.0,0.03,\n",
    "                                                        np.where(df.flood_occurrence_score == 6.0,0.03,\n",
    "                                                                np.where(df.flood_occurrence_score == 7.0,0.04,\n",
    "                                                                        np.where(df.flood_occurrence_score == 8.0, 0.05,\n",
    "                                                                                np.where(df.flood_occurrence_score == 9.0, 0.06,0.07)))))))))"
   ]
  },
  {
   "cell_type": "code",
   "execution_count": 52,
   "metadata": {},
   "outputs": [
    {
     "data": {
      "text/plain": [
       "0.00    62365\n",
       "0.03    30208\n",
       "0.01    26826\n",
       "0.04    22830\n",
       "0.05    14436\n",
       "0.02    12410\n",
       "0.06     4223\n",
       "0.07      680\n",
       "Name: p_flood, dtype: int64"
      ]
     },
     "execution_count": 52,
     "metadata": {},
     "output_type": "execute_result"
    }
   ],
   "source": [
    "df['p_flood'].value_counts()"
   ]
  },
  {
   "cell_type": "code",
   "execution_count": 53,
   "metadata": {},
   "outputs": [
    {
     "data": {
      "text/html": [
       "<div>\n",
       "<style scoped>\n",
       "    .dataframe tbody tr th:only-of-type {\n",
       "        vertical-align: middle;\n",
       "    }\n",
       "\n",
       "    .dataframe tbody tr th {\n",
       "        vertical-align: top;\n",
       "    }\n",
       "\n",
       "    .dataframe thead th {\n",
       "        text-align: right;\n",
       "    }\n",
       "</style>\n",
       "<table border=\"1\" class=\"dataframe\">\n",
       "  <thead>\n",
       "    <tr style=\"text-align: right;\">\n",
       "      <th></th>\n",
       "      <th>property_id</th>\n",
       "      <th>flood_occurrence_score</th>\n",
       "      <th>flood_damage_score</th>\n",
       "      <th>insured_value</th>\n",
       "      <th>policy_annual_premium</th>\n",
       "      <th>Unnamed: 5</th>\n",
       "      <th>p_flood</th>\n",
       "    </tr>\n",
       "  </thead>\n",
       "  <tbody>\n",
       "    <tr>\n",
       "      <td>0</td>\n",
       "      <td>0</td>\n",
       "      <td>3.0</td>\n",
       "      <td>6</td>\n",
       "      <td>$400,400.00</td>\n",
       "      <td>$973.70</td>\n",
       "      <td>NaN</td>\n",
       "      <td>0.01</td>\n",
       "    </tr>\n",
       "    <tr>\n",
       "      <td>1</td>\n",
       "      <td>1</td>\n",
       "      <td>1.0</td>\n",
       "      <td>6</td>\n",
       "      <td>$194,524.00</td>\n",
       "      <td>$470.40</td>\n",
       "      <td>NaN</td>\n",
       "      <td>0.00</td>\n",
       "    </tr>\n",
       "    <tr>\n",
       "      <td>2</td>\n",
       "      <td>2</td>\n",
       "      <td>6.0</td>\n",
       "      <td>8</td>\n",
       "      <td>$1,146,752.00</td>\n",
       "      <td>$1,978.80</td>\n",
       "      <td>NaN</td>\n",
       "      <td>0.03</td>\n",
       "    </tr>\n",
       "  </tbody>\n",
       "</table>\n",
       "</div>"
      ],
      "text/plain": [
       "   property_id  flood_occurrence_score  flood_damage_score   insured_value  \\\n",
       "0            0                     3.0                   6    $400,400.00    \n",
       "1            1                     1.0                   6    $194,524.00    \n",
       "2            2                     6.0                   8  $1,146,752.00    \n",
       "\n",
       "  policy_annual_premium  Unnamed: 5  p_flood  \n",
       "0              $973.70          NaN     0.01  \n",
       "1              $470.40          NaN     0.00  \n",
       "2            $1,978.80          NaN     0.03  "
      ]
     },
     "execution_count": 53,
     "metadata": {},
     "output_type": "execute_result"
    }
   ],
   "source": [
    "df.head(3)"
   ]
  },
  {
   "cell_type": "code",
   "execution_count": 54,
   "metadata": {},
   "outputs": [
    {
     "data": {
      "text/plain": [
       "property_id                 int64\n",
       "flood_occurrence_score    float64\n",
       "flood_damage_score          int64\n",
       "insured_value              object\n",
       "policy_annual_premium      object\n",
       "Unnamed: 5                float64\n",
       "p_flood                   float64\n",
       "dtype: object"
      ]
     },
     "execution_count": 54,
     "metadata": {},
     "output_type": "execute_result"
    }
   ],
   "source": [
    "df.dtypes"
   ]
  },
  {
   "cell_type": "code",
   "execution_count": 57,
   "metadata": {},
   "outputs": [],
   "source": [
    "df.to_excel('z_flood_v1.xlsx')"
   ]
  }
 ],
 "metadata": {
  "kernelspec": {
   "display_name": "Python 3",
   "language": "python",
   "name": "python3"
  },
  "language_info": {
   "codemirror_mode": {
    "name": "ipython",
    "version": 3
   },
   "file_extension": ".py",
   "mimetype": "text/x-python",
   "name": "python",
   "nbconvert_exporter": "python",
   "pygments_lexer": "ipython3",
   "version": "3.7.4"
  }
 },
 "nbformat": 4,
 "nbformat_minor": 4
}
