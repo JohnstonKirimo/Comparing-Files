{
 "cells": [
  {
   "cell_type": "markdown",
   "metadata": {},
   "source": [
    "### Table of Contents \n",
    "##### 1. Importing libraries and reading data\n",
    "##### 2. Exploratory Data Analysis \n",
    "##### 3. Data Cleaning and checking of coverage rates"
   ]
  },
  {
   "cell_type": "markdown",
   "metadata": {},
   "source": [
    "### Importing Libraries and Reading data"
   ]
  },
  {
   "cell_type": "code",
   "execution_count": 1,
   "metadata": {},
   "outputs": [],
   "source": [
    "#importing modules and reading data\n",
    "\n",
    "import pandas as pd\n",
    "import numpy as np\n",
    "import matplotlib.pyplot as plt\n",
    "%matplotlib inline \n",
    "test = pd.read_csv('/users/johnstonkirimo/Projects/Zesty/data/test.csv')\n",
    "all_addrs = pd.read_csv('/users/johnstonkirimo/Projects/Zesty/data/all_addresses.csv')"
   ]
  },
  {
   "cell_type": "markdown",
   "metadata": {},
   "source": [
    "### Exploratory Data Analysis"
   ]
  },
  {
   "cell_type": "code",
   "execution_count": 2,
   "metadata": {},
   "outputs": [
    {
     "data": {
      "text/html": [
       "<div>\n",
       "<style scoped>\n",
       "    .dataframe tbody tr th:only-of-type {\n",
       "        vertical-align: middle;\n",
       "    }\n",
       "\n",
       "    .dataframe tbody tr th {\n",
       "        vertical-align: top;\n",
       "    }\n",
       "\n",
       "    .dataframe thead th {\n",
       "        text-align: right;\n",
       "    }\n",
       "</style>\n",
       "<table border=\"1\" class=\"dataframe\">\n",
       "  <thead>\n",
       "    <tr style=\"text-align: right;\">\n",
       "      <th></th>\n",
       "      <th>address</th>\n",
       "      <th>city</th>\n",
       "      <th>state</th>\n",
       "      <th>zip</th>\n",
       "    </tr>\n",
       "  </thead>\n",
       "  <tbody>\n",
       "    <tr>\n",
       "      <td>0</td>\n",
       "      <td>941 Thorpe St</td>\n",
       "      <td>Rock Springs</td>\n",
       "      <td>WY</td>\n",
       "      <td>82901</td>\n",
       "    </tr>\n",
       "    <tr>\n",
       "      <td>1</td>\n",
       "      <td>2809 HARRIS DR</td>\n",
       "      <td>Antioch</td>\n",
       "      <td>CA</td>\n",
       "      <td>94509</td>\n",
       "    </tr>\n",
       "    <tr>\n",
       "      <td>2</td>\n",
       "      <td>1441 Eastlake Ave</td>\n",
       "      <td>Los Angeles</td>\n",
       "      <td>CA</td>\n",
       "      <td>90033</td>\n",
       "    </tr>\n",
       "    <tr>\n",
       "      <td>3</td>\n",
       "      <td>7 Eucalyptus</td>\n",
       "      <td>Newport Beach</td>\n",
       "      <td>CA</td>\n",
       "      <td>92657</td>\n",
       "    </tr>\n",
       "    <tr>\n",
       "      <td>4</td>\n",
       "      <td>1400 Lachman Ln</td>\n",
       "      <td>Los Angeles</td>\n",
       "      <td>CA</td>\n",
       "      <td>90272</td>\n",
       "    </tr>\n",
       "  </tbody>\n",
       "</table>\n",
       "</div>"
      ],
      "text/plain": [
       "             address           city state    zip\n",
       "0      941 Thorpe St   Rock Springs    WY  82901\n",
       "1     2809 HARRIS DR        Antioch    CA  94509\n",
       "2  1441 Eastlake Ave    Los Angeles    CA  90033\n",
       "3       7 Eucalyptus  Newport Beach    CA  92657\n",
       "4    1400 Lachman Ln    Los Angeles    CA  90272"
      ]
     },
     "execution_count": 2,
     "metadata": {},
     "output_type": "execute_result"
    }
   ],
   "source": [
    "#overview of df1 dataset\n",
    "\n",
    "all_addrs.head()"
   ]
  },
  {
   "cell_type": "code",
   "execution_count": 3,
   "metadata": {},
   "outputs": [
    {
     "data": {
      "text/html": [
       "<div>\n",
       "<style scoped>\n",
       "    .dataframe tbody tr th:only-of-type {\n",
       "        vertical-align: middle;\n",
       "    }\n",
       "\n",
       "    .dataframe tbody tr th {\n",
       "        vertical-align: top;\n",
       "    }\n",
       "\n",
       "    .dataframe thead th {\n",
       "        text-align: right;\n",
       "    }\n",
       "</style>\n",
       "<table border=\"1\" class=\"dataframe\">\n",
       "  <thead>\n",
       "    <tr style=\"text-align: right;\">\n",
       "      <th></th>\n",
       "      <th>uid</th>\n",
       "      <th>address</th>\n",
       "      <th>city</th>\n",
       "      <th>state</th>\n",
       "      <th>zip</th>\n",
       "    </tr>\n",
       "  </thead>\n",
       "  <tbody>\n",
       "    <tr>\n",
       "      <td>0</td>\n",
       "      <td>1</td>\n",
       "      <td>941 Thorpe St</td>\n",
       "      <td>Rock Springs</td>\n",
       "      <td>WY</td>\n",
       "      <td>82901.0</td>\n",
       "    </tr>\n",
       "    <tr>\n",
       "      <td>1</td>\n",
       "      <td>2</td>\n",
       "      <td>2809 HARRIS DR</td>\n",
       "      <td>Antioch</td>\n",
       "      <td>CA</td>\n",
       "      <td>94509.0</td>\n",
       "    </tr>\n",
       "    <tr>\n",
       "      <td>2</td>\n",
       "      <td>3</td>\n",
       "      <td>1441 Eastlake Ave</td>\n",
       "      <td>Los Angeles</td>\n",
       "      <td>CA</td>\n",
       "      <td>90033.0</td>\n",
       "    </tr>\n",
       "    <tr>\n",
       "      <td>3</td>\n",
       "      <td>4</td>\n",
       "      <td>7 ucayptus</td>\n",
       "      <td>Newport Beach</td>\n",
       "      <td>CA</td>\n",
       "      <td>92657.0</td>\n",
       "    </tr>\n",
       "    <tr>\n",
       "      <td>4</td>\n",
       "      <td>5</td>\n",
       "      <td>1400 Lachman Ln</td>\n",
       "      <td>NaN</td>\n",
       "      <td>CA</td>\n",
       "      <td>90272.0</td>\n",
       "    </tr>\n",
       "  </tbody>\n",
       "</table>\n",
       "</div>"
      ],
      "text/plain": [
       "   uid            address           city state      zip\n",
       "0    1      941 Thorpe St   Rock Springs    WY  82901.0\n",
       "1    2     2809 HARRIS DR        Antioch    CA  94509.0\n",
       "2    3  1441 Eastlake Ave    Los Angeles    CA  90033.0\n",
       "3    4         7 ucayptus  Newport Beach    CA  92657.0\n",
       "4    5    1400 Lachman Ln            NaN    CA  90272.0"
      ]
     },
     "execution_count": 3,
     "metadata": {},
     "output_type": "execute_result"
    }
   ],
   "source": [
    "#overview of df2 dataset\n",
    "test.head()"
   ]
  },
  {
   "cell_type": "code",
   "execution_count": 4,
   "metadata": {},
   "outputs": [
    {
     "data": {
      "text/plain": [
       "(130000, 4)"
      ]
     },
     "execution_count": 4,
     "metadata": {},
     "output_type": "execute_result"
    }
   ],
   "source": [
    "#number of rows and columns\n",
    "all_addrs.shape"
   ]
  },
  {
   "cell_type": "code",
   "execution_count": 5,
   "metadata": {},
   "outputs": [
    {
     "data": {
      "text/plain": [
       "(99249, 5)"
      ]
     },
     "execution_count": 5,
     "metadata": {},
     "output_type": "execute_result"
    }
   ],
   "source": [
    "#number of rows and columns \n",
    "test.shape"
   ]
  },
  {
   "cell_type": "code",
   "execution_count": 6,
   "metadata": {},
   "outputs": [
    {
     "name": "stdout",
     "output_type": "stream",
     "text": [
      "<class 'pandas.core.frame.DataFrame'>\n",
      "RangeIndex: 130000 entries, 0 to 129999\n",
      "Data columns (total 4 columns):\n",
      "address    129705 non-null object\n",
      "city       129984 non-null object\n",
      "state      129984 non-null object\n",
      "zip        129984 non-null object\n",
      "dtypes: object(4)\n",
      "memory usage: 4.0+ MB\n"
     ]
    }
   ],
   "source": [
    "#info on dataset\n",
    "all_addrs.info()"
   ]
  },
  {
   "cell_type": "code",
   "execution_count": 7,
   "metadata": {},
   "outputs": [
    {
     "name": "stdout",
     "output_type": "stream",
     "text": [
      "<class 'pandas.core.frame.DataFrame'>\n",
      "RangeIndex: 99249 entries, 0 to 99248\n",
      "Data columns (total 5 columns):\n",
      "uid        99249 non-null int64\n",
      "address    99249 non-null object\n",
      "city       97967 non-null object\n",
      "state      91816 non-null object\n",
      "zip        91694 non-null float64\n",
      "dtypes: float64(1), int64(1), object(3)\n",
      "memory usage: 3.8+ MB\n"
     ]
    }
   ],
   "source": [
    "test.info()"
   ]
  },
  {
   "cell_type": "code",
   "execution_count": 8,
   "metadata": {},
   "outputs": [
    {
     "data": {
      "text/plain": [
       "address\n",
       "#NAME?                  504\n",
       "- -                     167\n",
       "- 10th Ave                2\n",
       "- 110th St W              2\n",
       "- 115th St E              2\n",
       "                       ... \n",
       "Yaqui Pass Rd             4\n",
       "Yerington Ave             1\n",
       "Zephyr Rd                 1\n",
       "Zinfandel Dr              1\n",
       "undefined Marines Dr      1\n",
       "Length: 96279, dtype: int64"
      ]
     },
     "execution_count": 8,
     "metadata": {},
     "output_type": "execute_result"
    }
   ],
   "source": [
    "#examinining specific columns : address \n",
    "all_addrs.groupby('address').size()"
   ]
  },
  {
   "cell_type": "code",
   "execution_count": 9,
   "metadata": {},
   "outputs": [
    {
     "data": {
      "text/plain": [
       "address\n",
       "#NAM?              4\n",
       "#NAME?           206\n",
       "#NAME? #11606      1\n",
       "#NAME? #13850      1\n",
       "#NAME? #18941      1\n",
       "                ... \n",
       "w commons          1\n",
       "walnut rd          1\n",
       "wildomar           1\n",
       "willis ave         1\n",
       "x st               1\n",
       "Length: 97121, dtype: int64"
      ]
     },
     "execution_count": 9,
     "metadata": {},
     "output_type": "execute_result"
    }
   ],
   "source": [
    "#examinining specific columns : address (df2)\n",
    "test.groupby('address').size()"
   ]
  },
  {
   "cell_type": "code",
   "execution_count": 11,
   "metadata": {},
   "outputs": [
    {
     "data": {
      "text/plain": [
       "Los Angeles    5594\n",
       "San Diego      2833\n",
       "San Jose       1889\n",
       "Sacramento     1704\n",
       "Bakersfield    1291\n",
       "Name: city, dtype: int64"
      ]
     },
     "execution_count": 11,
     "metadata": {},
     "output_type": "execute_result"
    }
   ],
   "source": [
    "#examinining specific columns: top 5 cities\n",
    "test.city.value_counts(dropna=False).head()"
   ]
  },
  {
   "cell_type": "code",
   "execution_count": 12,
   "metadata": {},
   "outputs": [
    {
     "data": {
      "text/plain": [
       "CA     0.789056\n",
       "NaN    0.074892\n",
       "ca     0.066721\n",
       "TX     0.008433\n",
       "IL     0.006086\n",
       "Name: state, dtype: float64"
      ]
     },
     "execution_count": 12,
     "metadata": {},
     "output_type": "execute_result"
    }
   ],
   "source": [
    "#examinining percent distribution: top 5 states\n",
    "test.state.value_counts(normalize = True, dropna=False)[:5]"
   ]
  },
  {
   "cell_type": "code",
   "execution_count": 13,
   "metadata": {},
   "outputs": [
    {
     "data": {
      "text/plain": [
       "uid           0\n",
       "address       0\n",
       "city       1282\n",
       "state      7433\n",
       "zip        7555\n",
       "dtype: int64"
      ]
     },
     "execution_count": 13,
     "metadata": {},
     "output_type": "execute_result"
    }
   ],
   "source": [
    "#checking for missing values\n",
    "test.isnull().sum()"
   ]
  },
  {
   "cell_type": "code",
   "execution_count": 14,
   "metadata": {},
   "outputs": [
    {
     "data": {
      "text/plain": [
       "address    295\n",
       "city        16\n",
       "state       16\n",
       "zip         16\n",
       "dtype: int64"
      ]
     },
     "execution_count": 14,
     "metadata": {},
     "output_type": "execute_result"
    }
   ],
   "source": [
    "#checking for missing values - all_addrs\n",
    "all_addrs.isnull().sum()"
   ]
  },
  {
   "cell_type": "code",
   "execution_count": 15,
   "metadata": {},
   "outputs": [
    {
     "data": {
      "text/plain": [
       "city\n",
       "-               524\n",
       "ACTON             2\n",
       "ADELANTO          1\n",
       "AGOURA HILLS      2\n",
       "AHWAHNEE          1\n",
       "               ... \n",
       "Zebulon           1\n",
       "Zenia             1\n",
       "Zephyr Cove       1\n",
       "Zion              1\n",
       "Zionsville        2\n",
       "Length: 3799, dtype: int64"
      ]
     },
     "execution_count": 15,
     "metadata": {},
     "output_type": "execute_result"
    }
   ],
   "source": [
    "#examine city using groupby\n",
    "\n",
    "all_addrs.groupby('city').size()"
   ]
  },
  {
   "cell_type": "code",
   "execution_count": 16,
   "metadata": {},
   "outputs": [
    {
     "data": {
      "text/plain": [
       "state\n",
       "-                1\n",
       "AK               7\n",
       "AL              82\n",
       "AR              57\n",
       "AZ             314\n",
       "Auckland         1\n",
       "CA          120208\n",
       "CHIH             2\n",
       "CHIS             1\n",
       "CO             715\n",
       "CT             329\n",
       "CÓRDOBA          1\n",
       "DC               2\n",
       "DE              10\n",
       "FL             292\n",
       "GA             170\n",
       "GAUTENG          2\n",
       "HI               6\n",
       "IA              75\n",
       "ID              84\n",
       "IL             892\n",
       "IN             117\n",
       "KS             111\n",
       "KY              94\n",
       "LA              65\n",
       "MA             202\n",
       "MD              42\n",
       "ME              35\n",
       "MI              86\n",
       "MN             134\n",
       "MO              90\n",
       "MS             115\n",
       "MT              56\n",
       "NC             545\n",
       "ND              40\n",
       "NE              52\n",
       "NH              29\n",
       "NJ              98\n",
       "NM              73\n",
       "NV             146\n",
       "NY             875\n",
       "OH             469\n",
       "OK              94\n",
       "ON               1\n",
       "OR             131\n",
       "PA             425\n",
       "RI              20\n",
       "SC              52\n",
       "SD              26\n",
       "TN             140\n",
       "TX            1251\n",
       "UT              56\n",
       "VA              86\n",
       "VER              4\n",
       "VT              14\n",
       "WA             832\n",
       "WI              80\n",
       "WV              17\n",
       "WY              30\n",
       "dtype: int64"
      ]
     },
     "execution_count": 16,
     "metadata": {},
     "output_type": "execute_result"
    }
   ],
   "source": [
    "#examine state using groupby\n",
    "\n",
    "all_addrs.groupby('state').size()"
   ]
  },
  {
   "cell_type": "code",
   "execution_count": 17,
   "metadata": {},
   "outputs": [
    {
     "data": {
      "text/plain": [
       "city\n",
       "ACTON              2\n",
       "ADELANTO           1\n",
       "AGOURA HILLS       1\n",
       "AHWAHNEE           1\n",
       "AIRWAY HEIGHTS     1\n",
       "                  ..\n",
       "ypsilanti          1\n",
       "yreka              4\n",
       "yuba city         13\n",
       "yucaipa            8\n",
       "yucca valley       5\n",
       "Length: 4768, dtype: int64"
      ]
     },
     "execution_count": 17,
     "metadata": {},
     "output_type": "execute_result"
    }
   ],
   "source": [
    "#examine state using groupby\n",
    "\n",
    "test.groupby('city').size()"
   ]
  },
  {
   "cell_type": "code",
   "execution_count": 18,
   "metadata": {},
   "outputs": [
    {
     "data": {
      "text/plain": [
       "state\n",
       "AK        5\n",
       "AL       53\n",
       "AR       35\n",
       "AZ      200\n",
       "CA    78313\n",
       "      ...  \n",
       "ut        4\n",
       "va        5\n",
       "wa       42\n",
       "wi        6\n",
       "wy        4\n",
       "Length: 96, dtype: int64"
      ]
     },
     "execution_count": 18,
     "metadata": {},
     "output_type": "execute_result"
    }
   ],
   "source": [
    "#examine state using groupby\n",
    "\n",
    "test.groupby('state').size()"
   ]
  },
  {
   "cell_type": "code",
   "execution_count": 19,
   "metadata": {},
   "outputs": [
    {
     "data": {
      "text/plain": [
       "array(['WY', 'CA', 'NY', 'TX', 'TN', 'PA', 'MI', 'FL', 'GA', 'MO', 'AR',\n",
       "       'CO', 'WA', 'OH', 'AZ', 'MA', 'IL', 'CT', 'SC', 'KY', 'NV', 'MN',\n",
       "       'AL', 'NC', 'OK', 'WV', 'VA', 'UT', 'VT', 'ID', 'NJ', 'IN', 'MD',\n",
       "       'SD', 'OR', 'NH', 'NM', 'IA', 'KS', 'LA', 'WI', 'ME', 'NE', 'MS',\n",
       "       'MT', 'DE', 'ND', 'ca', 'ma', 'ia', 'nd', 'oh', 'id', 'il', 'HI',\n",
       "       'tx', 'ut', 'pa', 'sd', 'ny', 'RI', 'co', 'wa', 'va', 'mn', 'az',\n",
       "       'nc', 'tn', nan, 'ne', 'ky', 'nj', 'la', 'ct', 'ks', 'mo', 'md',\n",
       "       'al', 'wi', 'mi', 'wy', 'AK', 'fl', 'in', 'DC', 'ri', 'or', 'nh',\n",
       "       'hi', 'nm', 'mt', 'ms', 'ga', 'nv', 'ar', 'ok', 'me'], dtype=object)"
      ]
     },
     "execution_count": 19,
     "metadata": {},
     "output_type": "execute_result"
    }
   ],
   "source": [
    "#check the unique values in the state column\n",
    "test['state'].unique()"
   ]
  },
  {
   "cell_type": "markdown",
   "metadata": {},
   "source": [
    "#### Some Observations on the address column: \n",
    "\n",
    "- There are 504 records of incorrect inputs with the value '#NAME?' in the all_address dataframe\n",
    "- There are 167 records, with the value '- -' in the all_address dataframe\n",
    "- Several actual addresses with wrong inputs, starting with '-'\n",
    "- The test dataframe has similar issues of missing,wrong or incorrectly formatted inputs in the test dataframe"
   ]
  },
  {
   "cell_type": "markdown",
   "metadata": {},
   "source": [
    "#### Key Observations on the city and state columns:\n",
    "\n",
    "- all_addrs dataframe has 524 records with missing values, with input '-'\n",
    "- Missing values/incorrect value, '-'\n",
    "- Incorrect inputs with names, e.g. GUATENG, instead of abbreviations\n",
    "- Wrong info/abbreviations used, e.g. ON \n",
    "- Total of 59 unique values for state, instead of 50\n",
    "- Lowercase, uppercase and missing values "
   ]
  },
  {
   "cell_type": "code",
   "execution_count": 20,
   "metadata": {},
   "outputs": [
    {
     "data": {
      "text/plain": [
       "119464    91331\n",
       "97699     95695\n",
       "21687     10473\n",
       "37526     91773\n",
       "33599     92316\n",
       "50857     95206\n",
       "97021     95822\n",
       "36007     95973\n",
       "13473     92336\n",
       "50497     98229\n",
       "Name: zip, dtype: object"
      ]
     },
     "execution_count": 20,
     "metadata": {},
     "output_type": "execute_result"
    }
   ],
   "source": [
    "# Examining the zip column\n",
    "all_addrs.zip.sample(10)"
   ]
  },
  {
   "cell_type": "code",
   "execution_count": 21,
   "metadata": {},
   "outputs": [
    {
     "data": {
      "text/plain": [
       "17593    94085.0\n",
       "95762    90720.0\n",
       "12204    92833.0\n",
       "53043    95954.0\n",
       "2622     90805.0\n",
       "70449    91311.0\n",
       "18707    91331.0\n",
       "37986    92592.0\n",
       "91622    90502.0\n",
       "27617    93306.0\n",
       "Name: zip, dtype: float64"
      ]
     },
     "execution_count": 21,
     "metadata": {},
     "output_type": "execute_result"
    }
   ],
   "source": [
    "# Examining the zip column\n",
    "test.zip.sample(10)"
   ]
  },
  {
   "cell_type": "code",
   "execution_count": 22,
   "metadata": {},
   "outputs": [
    {
     "data": {
      "text/plain": [
       "92008    456\n",
       "93535    428\n",
       "92026    411\n",
       "95969    400\n",
       "93536    388\n",
       "Name: zip, dtype: int64"
      ]
     },
     "execution_count": 22,
     "metadata": {},
     "output_type": "execute_result"
    }
   ],
   "source": [
    "#top 5 most common zip codes\n",
    "all_addrs.zip.value_counts().head()"
   ]
  },
  {
   "cell_type": "code",
   "execution_count": 23,
   "metadata": {},
   "outputs": [
    {
     "data": {
      "text/plain": [
       "92008.0    323\n",
       "92026.0    282\n",
       "95969.0    281\n",
       "93535.0    256\n",
       "93536.0    225\n",
       "Name: zip, dtype: int64"
      ]
     },
     "execution_count": 23,
     "metadata": {},
     "output_type": "execute_result"
    }
   ],
   "source": [
    "#top 5 most common zip codes\n",
    "test.zip.value_counts().head()"
   ]
  },
  {
   "cell_type": "code",
   "execution_count": 24,
   "metadata": {},
   "outputs": [
    {
     "data": {
      "text/plain": [
       "zip\n",
       "-        77\n",
       "10003     1\n",
       "10009     4\n",
       "1001      1\n",
       "10025     2\n",
       "         ..\n",
       "99507     1\n",
       "99508     1\n",
       "99517     1\n",
       "99709     2\n",
       "M9B       1\n",
       "Length: 5685, dtype: int64"
      ]
     },
     "execution_count": 24,
     "metadata": {},
     "output_type": "execute_result"
    }
   ],
   "source": [
    "#examine using groupy\n",
    "all_addrs.groupby('zip').size()"
   ]
  },
  {
   "cell_type": "code",
   "execution_count": 25,
   "metadata": {},
   "outputs": [
    {
     "data": {
      "text/plain": [
       "zip\n",
       "1001.0     1\n",
       "1020.0     3\n",
       "1027.0     1\n",
       "1028.0     2\n",
       "1035.0     1\n",
       "          ..\n",
       "99504.0    1\n",
       "99507.0    1\n",
       "99508.0    1\n",
       "99517.0    1\n",
       "99709.0    1\n",
       "Length: 5419, dtype: int64"
      ]
     },
     "execution_count": 25,
     "metadata": {},
     "output_type": "execute_result"
    }
   ],
   "source": [
    "#examine using groupy\n",
    "test.groupby('zip').size()"
   ]
  },
  {
   "cell_type": "markdown",
   "metadata": {},
   "source": [
    "### Data Cleaning "
   ]
  },
  {
   "cell_type": "markdown",
   "metadata": {},
   "source": [
    "#### Coverage Rate - the percentage of properties in a file that has correct addresses and matches up with a standard address database"
   ]
  },
  {
   "cell_type": "markdown",
   "metadata": {},
   "source": [
    "#### To measure the impact of the data cleaning methods applied, let's compare the coverage rate before and after conducting the data cleaning process. We'll begin by checking the current coverage rate:"
   ]
  },
  {
   "cell_type": "markdown",
   "metadata": {},
   "source": [
    "#### There are several ways of checking the address match between the two dataframes.\n",
    "#### 1. Match on row level for each column"
   ]
  },
  {
   "cell_type": "code",
   "execution_count": 26,
   "metadata": {},
   "outputs": [
    {
     "data": {
      "text/plain": [
       "0        82901\n",
       "1        94509\n",
       "2        90033\n",
       "3        92657\n",
       "4        90272\n",
       "         ...  \n",
       "99244    85120\n",
       "99245    90025\n",
       "99246    91387\n",
       "99247    60638\n",
       "99248    92544\n",
       "Name: zip, Length: 99249, dtype: object"
      ]
     },
     "execution_count": 26,
     "metadata": {},
     "output_type": "execute_result"
    }
   ],
   "source": [
    "#convert data type of zip column in test df to string\n",
    "test.zip.astype(str).apply(lambda x: x.replace('.0',''))"
   ]
  },
  {
   "cell_type": "code",
   "execution_count": 27,
   "metadata": {},
   "outputs": [],
   "source": [
    "#For each row in test df, check if there is a match in all_addrs df\n",
    "is_match =  test[(test.address.isin(all_addrs.address)) & (test.city.isin(all_addrs.city))\n",
    "                                 & (test.state.isin(all_addrs.state)) & (test.zip.isin(all_addrs.zip))]"
   ]
  },
  {
   "cell_type": "code",
   "execution_count": 28,
   "metadata": {},
   "outputs": [
    {
     "name": "stdout",
     "output_type": "stream",
     "text": [
      "The test dataset has a coverage rate of: 5.811538461538461 percent \n"
     ]
    }
   ],
   "source": [
    "match_rate = (len(is_match) * 100) /len(all_addrs)\n",
    "print(\"The test dataset has a coverage rate of: {} percent \".format(match_rate)) "
   ]
  },
  {
   "cell_type": "markdown",
   "metadata": {},
   "source": [
    "#### 2. Create a single 'full_address' column for each dataframe and compare the two columns "
   ]
  },
  {
   "cell_type": "code",
   "execution_count": 32,
   "metadata": {},
   "outputs": [],
   "source": [
    "#create full_address column on each df\n",
    "\n",
    "all_addrs['full_address'] = all_addrs.address  + ', ' + all_addrs.city + ', ' + all_addrs.state + ' ' + all_addrs.zip\n",
    "test['full_address'] = test.address + ', '+ test.city + ', ' + test.state + ' ' + test.zip.astype(str)"
   ]
  },
  {
   "cell_type": "code",
   "execution_count": 33,
   "metadata": {},
   "outputs": [
    {
     "data": {
      "text/html": [
       "<div>\n",
       "<style scoped>\n",
       "    .dataframe tbody tr th:only-of-type {\n",
       "        vertical-align: middle;\n",
       "    }\n",
       "\n",
       "    .dataframe tbody tr th {\n",
       "        vertical-align: top;\n",
       "    }\n",
       "\n",
       "    .dataframe thead th {\n",
       "        text-align: right;\n",
       "    }\n",
       "</style>\n",
       "<table border=\"1\" class=\"dataframe\">\n",
       "  <thead>\n",
       "    <tr style=\"text-align: right;\">\n",
       "      <th></th>\n",
       "      <th>uid</th>\n",
       "      <th>address</th>\n",
       "      <th>city</th>\n",
       "      <th>state</th>\n",
       "      <th>zip</th>\n",
       "      <th>full_address</th>\n",
       "    </tr>\n",
       "  </thead>\n",
       "  <tbody>\n",
       "    <tr>\n",
       "      <td>0</td>\n",
       "      <td>1</td>\n",
       "      <td>941 Thorpe St</td>\n",
       "      <td>Rock Springs</td>\n",
       "      <td>WY</td>\n",
       "      <td>82901.0</td>\n",
       "      <td>941 Thorpe St, Rock Springs, WY 82901.0</td>\n",
       "    </tr>\n",
       "    <tr>\n",
       "      <td>1</td>\n",
       "      <td>2</td>\n",
       "      <td>2809 HARRIS DR</td>\n",
       "      <td>Antioch</td>\n",
       "      <td>CA</td>\n",
       "      <td>94509.0</td>\n",
       "      <td>2809 HARRIS DR, Antioch, CA 94509.0</td>\n",
       "    </tr>\n",
       "    <tr>\n",
       "      <td>2</td>\n",
       "      <td>3</td>\n",
       "      <td>1441 Eastlake Ave</td>\n",
       "      <td>Los Angeles</td>\n",
       "      <td>CA</td>\n",
       "      <td>90033.0</td>\n",
       "      <td>1441 Eastlake Ave, Los Angeles, CA 90033.0</td>\n",
       "    </tr>\n",
       "  </tbody>\n",
       "</table>\n",
       "</div>"
      ],
      "text/plain": [
       "   uid            address          city state      zip  \\\n",
       "0    1      941 Thorpe St  Rock Springs    WY  82901.0   \n",
       "1    2     2809 HARRIS DR       Antioch    CA  94509.0   \n",
       "2    3  1441 Eastlake Ave   Los Angeles    CA  90033.0   \n",
       "\n",
       "                                 full_address  \n",
       "0     941 Thorpe St, Rock Springs, WY 82901.0  \n",
       "1         2809 HARRIS DR, Antioch, CA 94509.0  \n",
       "2  1441 Eastlake Ave, Los Angeles, CA 90033.0  "
      ]
     },
     "execution_count": 33,
     "metadata": {},
     "output_type": "execute_result"
    }
   ],
   "source": [
    "#let's view the change in test df\n",
    "test.head(3)"
   ]
  },
  {
   "cell_type": "code",
   "execution_count": 34,
   "metadata": {},
   "outputs": [
    {
     "data": {
      "text/html": [
       "<div>\n",
       "<style scoped>\n",
       "    .dataframe tbody tr th:only-of-type {\n",
       "        vertical-align: middle;\n",
       "    }\n",
       "\n",
       "    .dataframe tbody tr th {\n",
       "        vertical-align: top;\n",
       "    }\n",
       "\n",
       "    .dataframe thead th {\n",
       "        text-align: right;\n",
       "    }\n",
       "</style>\n",
       "<table border=\"1\" class=\"dataframe\">\n",
       "  <thead>\n",
       "    <tr style=\"text-align: right;\">\n",
       "      <th></th>\n",
       "      <th>address</th>\n",
       "      <th>city</th>\n",
       "      <th>state</th>\n",
       "      <th>zip</th>\n",
       "      <th>full_address</th>\n",
       "    </tr>\n",
       "  </thead>\n",
       "  <tbody>\n",
       "    <tr>\n",
       "      <td>0</td>\n",
       "      <td>941 Thorpe St</td>\n",
       "      <td>Rock Springs</td>\n",
       "      <td>WY</td>\n",
       "      <td>82901</td>\n",
       "      <td>941 Thorpe St, Rock Springs, WY 82901</td>\n",
       "    </tr>\n",
       "    <tr>\n",
       "      <td>1</td>\n",
       "      <td>2809 HARRIS DR</td>\n",
       "      <td>Antioch</td>\n",
       "      <td>CA</td>\n",
       "      <td>94509</td>\n",
       "      <td>2809 HARRIS DR, Antioch, CA 94509</td>\n",
       "    </tr>\n",
       "    <tr>\n",
       "      <td>2</td>\n",
       "      <td>1441 Eastlake Ave</td>\n",
       "      <td>Los Angeles</td>\n",
       "      <td>CA</td>\n",
       "      <td>90033</td>\n",
       "      <td>1441 Eastlake Ave, Los Angeles, CA 90033</td>\n",
       "    </tr>\n",
       "  </tbody>\n",
       "</table>\n",
       "</div>"
      ],
      "text/plain": [
       "             address          city state    zip  \\\n",
       "0      941 Thorpe St  Rock Springs    WY  82901   \n",
       "1     2809 HARRIS DR       Antioch    CA  94509   \n",
       "2  1441 Eastlake Ave   Los Angeles    CA  90033   \n",
       "\n",
       "                               full_address  \n",
       "0     941 Thorpe St, Rock Springs, WY 82901  \n",
       "1         2809 HARRIS DR, Antioch, CA 94509  \n",
       "2  1441 Eastlake Ave, Los Angeles, CA 90033  "
      ]
     },
     "execution_count": 34,
     "metadata": {},
     "output_type": "execute_result"
    }
   ],
   "source": [
    "#let's view the change in all_addrs\n",
    "all_addrs.head(3)"
   ]
  },
  {
   "cell_type": "code",
   "execution_count": 35,
   "metadata": {},
   "outputs": [],
   "source": [
    "#change data type for zip column in test df \n",
    "\n",
    "test['zip'] = test.zip.astype(str).apply(lambda x: x.replace('.0',''))"
   ]
  },
  {
   "cell_type": "code",
   "execution_count": 36,
   "metadata": {},
   "outputs": [
    {
     "data": {
      "text/html": [
       "<div>\n",
       "<style scoped>\n",
       "    .dataframe tbody tr th:only-of-type {\n",
       "        vertical-align: middle;\n",
       "    }\n",
       "\n",
       "    .dataframe tbody tr th {\n",
       "        vertical-align: top;\n",
       "    }\n",
       "\n",
       "    .dataframe thead th {\n",
       "        text-align: right;\n",
       "    }\n",
       "</style>\n",
       "<table border=\"1\" class=\"dataframe\">\n",
       "  <thead>\n",
       "    <tr style=\"text-align: right;\">\n",
       "      <th></th>\n",
       "      <th>uid</th>\n",
       "      <th>address</th>\n",
       "      <th>city</th>\n",
       "      <th>state</th>\n",
       "      <th>zip</th>\n",
       "      <th>full_address</th>\n",
       "    </tr>\n",
       "  </thead>\n",
       "  <tbody>\n",
       "    <tr>\n",
       "      <td>0</td>\n",
       "      <td>1</td>\n",
       "      <td>941 Thorpe St</td>\n",
       "      <td>Rock Springs</td>\n",
       "      <td>WY</td>\n",
       "      <td>82901</td>\n",
       "      <td>941 Thorpe St, Rock Springs, WY 82901.0</td>\n",
       "    </tr>\n",
       "    <tr>\n",
       "      <td>1</td>\n",
       "      <td>2</td>\n",
       "      <td>2809 HARRIS DR</td>\n",
       "      <td>Antioch</td>\n",
       "      <td>CA</td>\n",
       "      <td>94509</td>\n",
       "      <td>2809 HARRIS DR, Antioch, CA 94509.0</td>\n",
       "    </tr>\n",
       "    <tr>\n",
       "      <td>2</td>\n",
       "      <td>3</td>\n",
       "      <td>1441 Eastlake Ave</td>\n",
       "      <td>Los Angeles</td>\n",
       "      <td>CA</td>\n",
       "      <td>90033</td>\n",
       "      <td>1441 Eastlake Ave, Los Angeles, CA 90033.0</td>\n",
       "    </tr>\n",
       "  </tbody>\n",
       "</table>\n",
       "</div>"
      ],
      "text/plain": [
       "   uid            address          city state    zip  \\\n",
       "0    1      941 Thorpe St  Rock Springs    WY  82901   \n",
       "1    2     2809 HARRIS DR       Antioch    CA  94509   \n",
       "2    3  1441 Eastlake Ave   Los Angeles    CA  90033   \n",
       "\n",
       "                                 full_address  \n",
       "0     941 Thorpe St, Rock Springs, WY 82901.0  \n",
       "1         2809 HARRIS DR, Antioch, CA 94509.0  \n",
       "2  1441 Eastlake Ave, Los Angeles, CA 90033.0  "
      ]
     },
     "execution_count": 36,
     "metadata": {},
     "output_type": "execute_result"
    }
   ],
   "source": [
    "test.head(3)"
   ]
  },
  {
   "cell_type": "code",
   "execution_count": 37,
   "metadata": {},
   "outputs": [],
   "source": [
    "#apply change to the full_address column of test df\n",
    "test['full_address'] = test.address + ', '+ test.city + ', ' + test.state + ' ' + test.zip.astype(str)"
   ]
  },
  {
   "cell_type": "code",
   "execution_count": 34,
   "metadata": {},
   "outputs": [
    {
     "data": {
      "text/html": [
       "<div>\n",
       "<style scoped>\n",
       "    .dataframe tbody tr th:only-of-type {\n",
       "        vertical-align: middle;\n",
       "    }\n",
       "\n",
       "    .dataframe tbody tr th {\n",
       "        vertical-align: top;\n",
       "    }\n",
       "\n",
       "    .dataframe thead th {\n",
       "        text-align: right;\n",
       "    }\n",
       "</style>\n",
       "<table border=\"1\" class=\"dataframe\">\n",
       "  <thead>\n",
       "    <tr style=\"text-align: right;\">\n",
       "      <th></th>\n",
       "      <th>uid</th>\n",
       "      <th>address</th>\n",
       "      <th>city</th>\n",
       "      <th>state</th>\n",
       "      <th>zip</th>\n",
       "      <th>full_address</th>\n",
       "      <th>full_addres</th>\n",
       "    </tr>\n",
       "  </thead>\n",
       "  <tbody>\n",
       "    <tr>\n",
       "      <td>0</td>\n",
       "      <td>1</td>\n",
       "      <td>941 Thorpe St</td>\n",
       "      <td>Rock Springs</td>\n",
       "      <td>WY</td>\n",
       "      <td>82901</td>\n",
       "      <td>941 Thorpe St, Rock Springs, WY 82901.0</td>\n",
       "      <td>941 Thorpe St, Rock Springs, WY 82901</td>\n",
       "    </tr>\n",
       "    <tr>\n",
       "      <td>1</td>\n",
       "      <td>2</td>\n",
       "      <td>2809 HARRIS DR</td>\n",
       "      <td>Antioch</td>\n",
       "      <td>CA</td>\n",
       "      <td>94509</td>\n",
       "      <td>2809 HARRIS DR, Antioch, CA 94509.0</td>\n",
       "      <td>2809 HARRIS DR, Antioch, CA 94509</td>\n",
       "    </tr>\n",
       "    <tr>\n",
       "      <td>2</td>\n",
       "      <td>3</td>\n",
       "      <td>1441 Eastlake Ave</td>\n",
       "      <td>Los Angeles</td>\n",
       "      <td>CA</td>\n",
       "      <td>90033</td>\n",
       "      <td>1441 Eastlake Ave, Los Angeles, CA 90033.0</td>\n",
       "      <td>1441 Eastlake Ave, Los Angeles, CA 90033</td>\n",
       "    </tr>\n",
       "  </tbody>\n",
       "</table>\n",
       "</div>"
      ],
      "text/plain": [
       "   uid            address          city state    zip  \\\n",
       "0    1      941 Thorpe St  Rock Springs    WY  82901   \n",
       "1    2     2809 HARRIS DR       Antioch    CA  94509   \n",
       "2    3  1441 Eastlake Ave   Los Angeles    CA  90033   \n",
       "\n",
       "                                 full_address  \\\n",
       "0     941 Thorpe St, Rock Springs, WY 82901.0   \n",
       "1         2809 HARRIS DR, Antioch, CA 94509.0   \n",
       "2  1441 Eastlake Ave, Los Angeles, CA 90033.0   \n",
       "\n",
       "                                full_addres  \n",
       "0     941 Thorpe St, Rock Springs, WY 82901  \n",
       "1         2809 HARRIS DR, Antioch, CA 94509  \n",
       "2  1441 Eastlake Ave, Los Angeles, CA 90033  "
      ]
     },
     "execution_count": 34,
     "metadata": {},
     "output_type": "execute_result"
    }
   ],
   "source": [
    "test.head(3)"
   ]
  },
  {
   "cell_type": "code",
   "execution_count": 38,
   "metadata": {},
   "outputs": [],
   "source": [
    "#Now let's see how many full_addresses in test df are also in all_addrs df\n",
    "is_match2 =  [i for i in test.full_address if i in all_addrs.full_address]"
   ]
  },
  {
   "cell_type": "code",
   "execution_count": 39,
   "metadata": {},
   "outputs": [
    {
     "name": "stdout",
     "output_type": "stream",
     "text": [
      "The test dataset has a new coverage rate of: 0.0 percent \n"
     ]
    }
   ],
   "source": [
    "match_rate2 = (len(is_match2) * 100) /len(all_addrs)\n",
    "print(\"The test dataset has a new coverage rate of: {} percent \".format(match_rate2)) "
   ]
  },
  {
   "cell_type": "code",
   "execution_count": 37,
   "metadata": {},
   "outputs": [],
   "source": [
    "#examine and try new method"
   ]
  },
  {
   "cell_type": "code",
   "execution_count": 40,
   "metadata": {},
   "outputs": [
    {
     "data": {
      "text/plain": [
       "uid              int64\n",
       "address         object\n",
       "city            object\n",
       "state           object\n",
       "zip             object\n",
       "full_address    object\n",
       "dtype: object"
      ]
     },
     "execution_count": 40,
     "metadata": {},
     "output_type": "execute_result"
    }
   ],
   "source": [
    "test.dtypes"
   ]
  },
  {
   "cell_type": "code",
   "execution_count": 41,
   "metadata": {},
   "outputs": [
    {
     "data": {
      "text/plain": [
       "address         object\n",
       "city            object\n",
       "state           object\n",
       "zip             object\n",
       "full_address    object\n",
       "dtype: object"
      ]
     },
     "execution_count": 41,
     "metadata": {},
     "output_type": "execute_result"
    }
   ],
   "source": [
    "all_addrs.dtypes"
   ]
  },
  {
   "cell_type": "code",
   "execution_count": 42,
   "metadata": {},
   "outputs": [],
   "source": [
    "#function to get the common addresses \n",
    "\n",
    "def common_elements(list1, list2):\n",
    "    result = []\n",
    "    for element in list1:\n",
    "        if element in list2:\n",
    "            result.append(element)\n",
    "    return result"
   ]
  },
  {
   "cell_type": "code",
   "execution_count": 43,
   "metadata": {},
   "outputs": [],
   "source": [
    "#get the full_address columns as lists \n",
    "\n",
    "test_lst = test['full_address'].to_list()\n",
    "all_addrs_lst = all_addrs['full_address'].to_list()"
   ]
  },
  {
   "cell_type": "code",
   "execution_count": 44,
   "metadata": {},
   "outputs": [],
   "source": [
    "#check the number of addresses in test df which are also found in all_addrs df\n",
    "is_match3 = common_elements(test_lst, all_addrs_lst )"
   ]
  },
  {
   "cell_type": "code",
   "execution_count": 45,
   "metadata": {},
   "outputs": [
    {
     "data": {
      "text/plain": [
       "49.635384615384616"
      ]
     },
     "execution_count": 45,
     "metadata": {},
     "output_type": "execute_result"
    }
   ],
   "source": [
    "match_rate3 = (len(is_match3) * 100) /len(all_addrs)\n",
    "match_rate3\n",
    "#print(\"The test dataset has a new match rate of: {} percent \".format(match_rate3)) "
   ]
  },
  {
   "cell_type": "markdown",
   "metadata": {},
   "source": [
    "##### It appears using a function to get the common elements between the two lists produces a better match. However, the data still includes all the wrong and incorrectly formatted addreses. So let's start cleaning both datasets."
   ]
  },
  {
   "cell_type": "markdown",
   "metadata": {},
   "source": [
    "### Data Cleaning "
   ]
  },
  {
   "cell_type": "code",
   "execution_count": 46,
   "metadata": {},
   "outputs": [
    {
     "data": {
      "text/html": [
       "<div>\n",
       "<style scoped>\n",
       "    .dataframe tbody tr th:only-of-type {\n",
       "        vertical-align: middle;\n",
       "    }\n",
       "\n",
       "    .dataframe tbody tr th {\n",
       "        vertical-align: top;\n",
       "    }\n",
       "\n",
       "    .dataframe thead th {\n",
       "        text-align: right;\n",
       "    }\n",
       "</style>\n",
       "<table border=\"1\" class=\"dataframe\">\n",
       "  <thead>\n",
       "    <tr style=\"text-align: right;\">\n",
       "      <th></th>\n",
       "      <th>uid</th>\n",
       "      <th>address</th>\n",
       "      <th>city</th>\n",
       "      <th>state</th>\n",
       "      <th>zip</th>\n",
       "      <th>full_address</th>\n",
       "    </tr>\n",
       "  </thead>\n",
       "  <tbody>\n",
       "    <tr>\n",
       "      <td>76</td>\n",
       "      <td>78</td>\n",
       "      <td>#NAM?</td>\n",
       "      <td>Victorville</td>\n",
       "      <td>CA</td>\n",
       "      <td>92395</td>\n",
       "      <td>#NAM?, Victorville, CA 92395</td>\n",
       "    </tr>\n",
       "    <tr>\n",
       "      <td>531</td>\n",
       "      <td>537</td>\n",
       "      <td>#NAME?</td>\n",
       "      <td>Lancaster</td>\n",
       "      <td>CA</td>\n",
       "      <td>93535</td>\n",
       "      <td>#NAME?, Lancaster, CA 93535</td>\n",
       "    </tr>\n",
       "    <tr>\n",
       "      <td>776</td>\n",
       "      <td>784</td>\n",
       "      <td>#NME?</td>\n",
       "      <td>Redlands</td>\n",
       "      <td>CA</td>\n",
       "      <td>92374</td>\n",
       "      <td>#NME?, Redlands, CA 92374</td>\n",
       "    </tr>\n",
       "    <tr>\n",
       "      <td>1231</td>\n",
       "      <td>1245</td>\n",
       "      <td>#NAME?</td>\n",
       "      <td>NaN</td>\n",
       "      <td>CA</td>\n",
       "      <td>94544</td>\n",
       "      <td>NaN</td>\n",
       "    </tr>\n",
       "    <tr>\n",
       "      <td>1485</td>\n",
       "      <td>1502</td>\n",
       "      <td>#NAME?</td>\n",
       "      <td>Escondido</td>\n",
       "      <td>CA</td>\n",
       "      <td>92027</td>\n",
       "      <td>#NAME?, Escondido, CA 92027</td>\n",
       "    </tr>\n",
       "  </tbody>\n",
       "</table>\n",
       "</div>"
      ],
      "text/plain": [
       "       uid address         city state    zip                  full_address\n",
       "76      78   #NAM?  Victorville    CA  92395  #NAM?, Victorville, CA 92395\n",
       "531    537  #NAME?    Lancaster    CA  93535   #NAME?, Lancaster, CA 93535\n",
       "776    784   #NME?     Redlands    CA  92374     #NME?, Redlands, CA 92374\n",
       "1231  1245  #NAME?          NaN    CA  94544                           NaN\n",
       "1485  1502  #NAME?    Escondido    CA  92027   #NAME?, Escondido, CA 92027"
      ]
     },
     "execution_count": 46,
     "metadata": {},
     "output_type": "execute_result"
    }
   ],
   "source": [
    "#Examine addresses that start with # or -\n",
    "test[test['address'].str.startswith(('#', '-'))].head()"
   ]
  },
  {
   "cell_type": "code",
   "execution_count": 47,
   "metadata": {},
   "outputs": [
    {
     "data": {
      "text/html": [
       "<div>\n",
       "<style scoped>\n",
       "    .dataframe tbody tr th:only-of-type {\n",
       "        vertical-align: middle;\n",
       "    }\n",
       "\n",
       "    .dataframe tbody tr th {\n",
       "        vertical-align: top;\n",
       "    }\n",
       "\n",
       "    .dataframe thead th {\n",
       "        text-align: right;\n",
       "    }\n",
       "</style>\n",
       "<table border=\"1\" class=\"dataframe\">\n",
       "  <thead>\n",
       "    <tr style=\"text-align: right;\">\n",
       "      <th></th>\n",
       "      <th>address</th>\n",
       "      <th>city</th>\n",
       "      <th>state</th>\n",
       "      <th>zip</th>\n",
       "      <th>full_address</th>\n",
       "    </tr>\n",
       "  </thead>\n",
       "  <tbody>\n",
       "    <tr>\n",
       "      <td>32</td>\n",
       "      <td>#NAME?</td>\n",
       "      <td>-</td>\n",
       "      <td>CA</td>\n",
       "      <td>93551</td>\n",
       "      <td>#NAME?, -, CA 93551</td>\n",
       "    </tr>\n",
       "    <tr>\n",
       "      <td>77</td>\n",
       "      <td>#NAME?</td>\n",
       "      <td>Victorville</td>\n",
       "      <td>CA</td>\n",
       "      <td>92395</td>\n",
       "      <td>#NAME?, Victorville, CA 92395</td>\n",
       "    </tr>\n",
       "    <tr>\n",
       "      <td>106</td>\n",
       "      <td>#NAME?</td>\n",
       "      <td>Hayward</td>\n",
       "      <td>CA</td>\n",
       "      <td>-</td>\n",
       "      <td>#NAME?, Hayward, CA -</td>\n",
       "    </tr>\n",
       "    <tr>\n",
       "      <td>529</td>\n",
       "      <td>- E Ave R 10</td>\n",
       "      <td>-</td>\n",
       "      <td>CA</td>\n",
       "      <td>93543</td>\n",
       "      <td>- E Ave R 10, -, CA 93543</td>\n",
       "    </tr>\n",
       "    <tr>\n",
       "      <td>536</td>\n",
       "      <td>#NAME?</td>\n",
       "      <td>Lancaster</td>\n",
       "      <td>CA</td>\n",
       "      <td>93535</td>\n",
       "      <td>#NAME?, Lancaster, CA 93535</td>\n",
       "    </tr>\n",
       "  </tbody>\n",
       "</table>\n",
       "</div>"
      ],
      "text/plain": [
       "          address         city state    zip                   full_address\n",
       "32         #NAME?            -    CA  93551            #NAME?, -, CA 93551\n",
       "77         #NAME?  Victorville    CA  92395  #NAME?, Victorville, CA 92395\n",
       "106        #NAME?      Hayward    CA      -          #NAME?, Hayward, CA -\n",
       "529  - E Ave R 10            -    CA  93543      - E Ave R 10, -, CA 93543\n",
       "536        #NAME?    Lancaster    CA  93535    #NAME?, Lancaster, CA 93535"
      ]
     },
     "execution_count": 47,
     "metadata": {},
     "output_type": "execute_result"
    }
   ],
   "source": [
    "#Examine addresses that start with # or -\n",
    "all_addrs[all_addrs['address'].astype(str).str.startswith(('#', '-'))].head()"
   ]
  },
  {
   "cell_type": "markdown",
   "metadata": {},
   "source": [
    "\n",
    "#### We can see both datasets have the same issue of wrong or incorrectly formatted values\n",
    "#### Since the full_address column is made of the first three columns, the same errors are also found in the full_address column "
   ]
  },
  {
   "cell_type": "code",
   "execution_count": 48,
   "metadata": {},
   "outputs": [
    {
     "data": {
      "text/html": [
       "<div>\n",
       "<style scoped>\n",
       "    .dataframe tbody tr th:only-of-type {\n",
       "        vertical-align: middle;\n",
       "    }\n",
       "\n",
       "    .dataframe tbody tr th {\n",
       "        vertical-align: top;\n",
       "    }\n",
       "\n",
       "    .dataframe thead th {\n",
       "        text-align: right;\n",
       "    }\n",
       "</style>\n",
       "<table border=\"1\" class=\"dataframe\">\n",
       "  <thead>\n",
       "    <tr style=\"text-align: right;\">\n",
       "      <th></th>\n",
       "      <th>address</th>\n",
       "      <th>city</th>\n",
       "      <th>state</th>\n",
       "      <th>zip</th>\n",
       "      <th>full_address</th>\n",
       "    </tr>\n",
       "  </thead>\n",
       "  <tbody>\n",
       "    <tr>\n",
       "      <td>32</td>\n",
       "      <td>#NAME?</td>\n",
       "      <td>-</td>\n",
       "      <td>CA</td>\n",
       "      <td>93551</td>\n",
       "      <td>#NAME?, -, CA 93551</td>\n",
       "    </tr>\n",
       "    <tr>\n",
       "      <td>77</td>\n",
       "      <td>#NAME?</td>\n",
       "      <td>Victorville</td>\n",
       "      <td>CA</td>\n",
       "      <td>92395</td>\n",
       "      <td>#NAME?, Victorville, CA 92395</td>\n",
       "    </tr>\n",
       "    <tr>\n",
       "      <td>106</td>\n",
       "      <td>#NAME?</td>\n",
       "      <td>Hayward</td>\n",
       "      <td>CA</td>\n",
       "      <td>-</td>\n",
       "      <td>#NAME?, Hayward, CA -</td>\n",
       "    </tr>\n",
       "    <tr>\n",
       "      <td>529</td>\n",
       "      <td>- E Ave R 10</td>\n",
       "      <td>-</td>\n",
       "      <td>CA</td>\n",
       "      <td>93543</td>\n",
       "      <td>- E Ave R 10, -, CA 93543</td>\n",
       "    </tr>\n",
       "    <tr>\n",
       "      <td>536</td>\n",
       "      <td>#NAME?</td>\n",
       "      <td>Lancaster</td>\n",
       "      <td>CA</td>\n",
       "      <td>93535</td>\n",
       "      <td>#NAME?, Lancaster, CA 93535</td>\n",
       "    </tr>\n",
       "  </tbody>\n",
       "</table>\n",
       "</div>"
      ],
      "text/plain": [
       "          address         city state    zip                   full_address\n",
       "32         #NAME?            -    CA  93551            #NAME?, -, CA 93551\n",
       "77         #NAME?  Victorville    CA  92395  #NAME?, Victorville, CA 92395\n",
       "106        #NAME?      Hayward    CA      -          #NAME?, Hayward, CA -\n",
       "529  - E Ave R 10            -    CA  93543      - E Ave R 10, -, CA 93543\n",
       "536        #NAME?    Lancaster    CA  93535    #NAME?, Lancaster, CA 93535"
      ]
     },
     "execution_count": 48,
     "metadata": {},
     "output_type": "execute_result"
    }
   ],
   "source": [
    "#count addresses starting with '-' or '#'\n",
    "is_dirty_all_addrs = all_addrs[all_addrs['address'].astype(str).str.startswith(('#', '-'))]\n",
    "is_dirty_all_addrs.head()"
   ]
  },
  {
   "cell_type": "code",
   "execution_count": 49,
   "metadata": {},
   "outputs": [
    {
     "data": {
      "text/plain": [
       "792"
      ]
     },
     "execution_count": 49,
     "metadata": {},
     "output_type": "execute_result"
    }
   ],
   "source": [
    "len(is_dirty_all_addrs)"
   ]
  },
  {
   "cell_type": "code",
   "execution_count": 50,
   "metadata": {},
   "outputs": [
    {
     "data": {
      "text/html": [
       "<div>\n",
       "<style scoped>\n",
       "    .dataframe tbody tr th:only-of-type {\n",
       "        vertical-align: middle;\n",
       "    }\n",
       "\n",
       "    .dataframe tbody tr th {\n",
       "        vertical-align: top;\n",
       "    }\n",
       "\n",
       "    .dataframe thead th {\n",
       "        text-align: right;\n",
       "    }\n",
       "</style>\n",
       "<table border=\"1\" class=\"dataframe\">\n",
       "  <thead>\n",
       "    <tr style=\"text-align: right;\">\n",
       "      <th></th>\n",
       "      <th>uid</th>\n",
       "      <th>address</th>\n",
       "      <th>city</th>\n",
       "      <th>state</th>\n",
       "      <th>zip</th>\n",
       "      <th>full_address</th>\n",
       "    </tr>\n",
       "  </thead>\n",
       "  <tbody>\n",
       "    <tr>\n",
       "      <td>76</td>\n",
       "      <td>78</td>\n",
       "      <td>#NAM?</td>\n",
       "      <td>Victorville</td>\n",
       "      <td>CA</td>\n",
       "      <td>92395</td>\n",
       "      <td>#NAM?, Victorville, CA 92395</td>\n",
       "    </tr>\n",
       "    <tr>\n",
       "      <td>531</td>\n",
       "      <td>537</td>\n",
       "      <td>#NAME?</td>\n",
       "      <td>Lancaster</td>\n",
       "      <td>CA</td>\n",
       "      <td>93535</td>\n",
       "      <td>#NAME?, Lancaster, CA 93535</td>\n",
       "    </tr>\n",
       "    <tr>\n",
       "      <td>776</td>\n",
       "      <td>784</td>\n",
       "      <td>#NME?</td>\n",
       "      <td>Redlands</td>\n",
       "      <td>CA</td>\n",
       "      <td>92374</td>\n",
       "      <td>#NME?, Redlands, CA 92374</td>\n",
       "    </tr>\n",
       "    <tr>\n",
       "      <td>1231</td>\n",
       "      <td>1245</td>\n",
       "      <td>#NAME?</td>\n",
       "      <td>NaN</td>\n",
       "      <td>CA</td>\n",
       "      <td>94544</td>\n",
       "      <td>NaN</td>\n",
       "    </tr>\n",
       "    <tr>\n",
       "      <td>1485</td>\n",
       "      <td>1502</td>\n",
       "      <td>#NAME?</td>\n",
       "      <td>Escondido</td>\n",
       "      <td>CA</td>\n",
       "      <td>92027</td>\n",
       "      <td>#NAME?, Escondido, CA 92027</td>\n",
       "    </tr>\n",
       "  </tbody>\n",
       "</table>\n",
       "</div>"
      ],
      "text/plain": [
       "       uid address         city state    zip                  full_address\n",
       "76      78   #NAM?  Victorville    CA  92395  #NAM?, Victorville, CA 92395\n",
       "531    537  #NAME?    Lancaster    CA  93535   #NAME?, Lancaster, CA 93535\n",
       "776    784   #NME?     Redlands    CA  92374     #NME?, Redlands, CA 92374\n",
       "1231  1245  #NAME?          NaN    CA  94544                           NaN\n",
       "1485  1502  #NAME?    Escondido    CA  92027   #NAME?, Escondido, CA 92027"
      ]
     },
     "execution_count": 50,
     "metadata": {},
     "output_type": "execute_result"
    }
   ],
   "source": [
    "#Repeat the above for test df\n",
    "is_dirty_test = test[test['address'].str.startswith(('#', '-'))]\n",
    "is_dirty_test.head()"
   ]
  },
  {
   "cell_type": "code",
   "execution_count": 51,
   "metadata": {},
   "outputs": [
    {
     "data": {
      "text/plain": [
       "278"
      ]
     },
     "execution_count": 51,
     "metadata": {},
     "output_type": "execute_result"
    }
   ],
   "source": [
    "len(is_dirty_test)"
   ]
  },
  {
   "cell_type": "markdown",
   "metadata": {},
   "source": [
    "##### We can see that 792 rows in the all_addrs df has wrong/incorrectly formatted addresses while the test df has 278"
   ]
  },
  {
   "cell_type": "markdown",
   "metadata": {},
   "source": [
    "##### However, there are more missing and incorrect/wrongly formatted values in the other columns as well. Some of the issues we previously found out about the city and state columns include:\n",
    "\n",
    "- All_addrs dataframe has 524 records with missing values, with input '-'\n",
    "- Missing values/incorrect value, '-'\n",
    "- Incorrect inputs with names, e.g. GUATENG, instead of abbreviations\n",
    "- Wrong info/abbreviations used, e.g. ON\n",
    "- Total of 59 unique values for state, instead of 50\n",
    "- Lowercase, uppercase and missing values"
   ]
  },
  {
   "cell_type": "code",
   "execution_count": 52,
   "metadata": {},
   "outputs": [
    {
     "data": {
      "text/html": [
       "<div>\n",
       "<style scoped>\n",
       "    .dataframe tbody tr th:only-of-type {\n",
       "        vertical-align: middle;\n",
       "    }\n",
       "\n",
       "    .dataframe tbody tr th {\n",
       "        vertical-align: top;\n",
       "    }\n",
       "\n",
       "    .dataframe thead th {\n",
       "        text-align: right;\n",
       "    }\n",
       "</style>\n",
       "<table border=\"1\" class=\"dataframe\">\n",
       "  <thead>\n",
       "    <tr style=\"text-align: right;\">\n",
       "      <th></th>\n",
       "      <th>city</th>\n",
       "      <th>full_address</th>\n",
       "    </tr>\n",
       "  </thead>\n",
       "  <tbody>\n",
       "    <tr>\n",
       "      <td>32</td>\n",
       "      <td>-</td>\n",
       "      <td>#NAME?, -, CA 93551</td>\n",
       "    </tr>\n",
       "    <tr>\n",
       "      <td>355</td>\n",
       "      <td>-</td>\n",
       "      <td>10734 Ivoryton Way, -, CA 95655</td>\n",
       "    </tr>\n",
       "    <tr>\n",
       "      <td>529</td>\n",
       "      <td>-</td>\n",
       "      <td>- E Ave R 10, -, CA 93543</td>\n",
       "    </tr>\n",
       "    <tr>\n",
       "      <td>637</td>\n",
       "      <td>-</td>\n",
       "      <td>17503 Dove Willow St, -, CA 91387</td>\n",
       "    </tr>\n",
       "    <tr>\n",
       "      <td>810</td>\n",
       "      <td>-</td>\n",
       "      <td>30056 Calle Cerritos, -, CA 91351</td>\n",
       "    </tr>\n",
       "  </tbody>\n",
       "</table>\n",
       "</div>"
      ],
      "text/plain": [
       "    city                       full_address\n",
       "32     -                #NAME?, -, CA 93551\n",
       "355    -    10734 Ivoryton Way, -, CA 95655\n",
       "529    -          - E Ave R 10, -, CA 93543\n",
       "637    -  17503 Dove Willow St, -, CA 91387\n",
       "810    -  30056 Calle Cerritos, -, CA 91351"
      ]
     },
     "execution_count": 52,
     "metadata": {},
     "output_type": "execute_result"
    }
   ],
   "source": [
    "#examine where city is '-'\n",
    "all_addrs[all_addrs['city'] == '-'] [['city','full_address']].head()"
   ]
  },
  {
   "cell_type": "code",
   "execution_count": 53,
   "metadata": {},
   "outputs": [
    {
     "data": {
      "text/html": [
       "<div>\n",
       "<style scoped>\n",
       "    .dataframe tbody tr th:only-of-type {\n",
       "        vertical-align: middle;\n",
       "    }\n",
       "\n",
       "    .dataframe tbody tr th {\n",
       "        vertical-align: top;\n",
       "    }\n",
       "\n",
       "    .dataframe thead th {\n",
       "        text-align: right;\n",
       "    }\n",
       "</style>\n",
       "<table border=\"1\" class=\"dataframe\">\n",
       "  <thead>\n",
       "    <tr style=\"text-align: right;\">\n",
       "      <th></th>\n",
       "      <th>city</th>\n",
       "      <th>full_address</th>\n",
       "    </tr>\n",
       "  </thead>\n",
       "  <tbody>\n",
       "  </tbody>\n",
       "</table>\n",
       "</div>"
      ],
      "text/plain": [
       "Empty DataFrame\n",
       "Columns: [city, full_address]\n",
       "Index: []"
      ]
     },
     "execution_count": 53,
     "metadata": {},
     "output_type": "execute_result"
    }
   ],
   "source": [
    "#examine where city is '-'\n",
    "test[test['city'] == '-'] [['city','full_address']].head()"
   ]
  },
  {
   "cell_type": "code",
   "execution_count": 54,
   "metadata": {},
   "outputs": [
    {
     "data": {
      "text/plain": [
       "address       0\n",
       "city       1282\n",
       "state      7433\n",
       "zip           0\n",
       "dtype: int64"
      ]
     },
     "execution_count": 54,
     "metadata": {},
     "output_type": "execute_result"
    }
   ],
   "source": [
    "#any null valaues in city and state and zip columns?\n",
    "\n",
    "test[['address','city','state','zip']].isna().sum()"
   ]
  },
  {
   "cell_type": "code",
   "execution_count": 55,
   "metadata": {},
   "outputs": [
    {
     "data": {
      "text/plain": [
       "address    295\n",
       "city        16\n",
       "state       16\n",
       "zip         16\n",
       "dtype: int64"
      ]
     },
     "execution_count": 55,
     "metadata": {},
     "output_type": "execute_result"
    }
   ],
   "source": [
    "all_addrs[['address','city','state','zip']].isna().sum()"
   ]
  },
  {
   "cell_type": "markdown",
   "metadata": {},
   "source": [
    "#### Let's get the subset we don't want and remove it, i.e:\n",
    "- where the address starts with '#', '-' or is null\n",
    "- where the city or state is '-'\n",
    "- where the city, state or zip value is null"
   ]
  },
  {
   "cell_type": "code",
   "execution_count": 56,
   "metadata": {},
   "outputs": [
    {
     "data": {
      "text/html": [
       "<div>\n",
       "<style scoped>\n",
       "    .dataframe tbody tr th:only-of-type {\n",
       "        vertical-align: middle;\n",
       "    }\n",
       "\n",
       "    .dataframe tbody tr th {\n",
       "        vertical-align: top;\n",
       "    }\n",
       "\n",
       "    .dataframe thead th {\n",
       "        text-align: right;\n",
       "    }\n",
       "</style>\n",
       "<table border=\"1\" class=\"dataframe\">\n",
       "  <thead>\n",
       "    <tr style=\"text-align: right;\">\n",
       "      <th></th>\n",
       "      <th>address</th>\n",
       "      <th>city</th>\n",
       "      <th>state</th>\n",
       "      <th>zip</th>\n",
       "      <th>full_address</th>\n",
       "    </tr>\n",
       "  </thead>\n",
       "  <tbody>\n",
       "    <tr>\n",
       "      <td>32</td>\n",
       "      <td>#NAME?</td>\n",
       "      <td>-</td>\n",
       "      <td>CA</td>\n",
       "      <td>93551</td>\n",
       "      <td>#NAME?, -, CA 93551</td>\n",
       "    </tr>\n",
       "    <tr>\n",
       "      <td>77</td>\n",
       "      <td>#NAME?</td>\n",
       "      <td>Victorville</td>\n",
       "      <td>CA</td>\n",
       "      <td>92395</td>\n",
       "      <td>#NAME?, Victorville, CA 92395</td>\n",
       "    </tr>\n",
       "    <tr>\n",
       "      <td>106</td>\n",
       "      <td>#NAME?</td>\n",
       "      <td>Hayward</td>\n",
       "      <td>CA</td>\n",
       "      <td>-</td>\n",
       "      <td>#NAME?, Hayward, CA -</td>\n",
       "    </tr>\n",
       "  </tbody>\n",
       "</table>\n",
       "</div>"
      ],
      "text/plain": [
       "    address         city state    zip                   full_address\n",
       "32   #NAME?            -    CA  93551            #NAME?, -, CA 93551\n",
       "77   #NAME?  Victorville    CA  92395  #NAME?, Victorville, CA 92395\n",
       "106  #NAME?      Hayward    CA      -          #NAME?, Hayward, CA -"
      ]
     },
     "execution_count": 56,
     "metadata": {},
     "output_type": "execute_result"
    }
   ],
   "source": [
    "#subset to be dropped from the all_addrs df\n",
    "unwanted_all_addrs = all_addrs[all_addrs['address'].astype(str).str.startswith(('#', '-')) | (all_addrs['address'].isna())|\n",
    "                              (all_addrs['city'].isna()) | (all_addrs['city'] == '-') | (all_addrs['state'].isna()) | (all_addrs['state'] == '-')|\n",
    "                               (all_addrs['zip'].isna()) | (all_addrs['zip'] == '-')]\n",
    "unwanted_all_addrs.head(3)"
   ]
  },
  {
   "cell_type": "code",
   "execution_count": 57,
   "metadata": {},
   "outputs": [
    {
     "data": {
      "text/html": [
       "<div>\n",
       "<style scoped>\n",
       "    .dataframe tbody tr th:only-of-type {\n",
       "        vertical-align: middle;\n",
       "    }\n",
       "\n",
       "    .dataframe tbody tr th {\n",
       "        vertical-align: top;\n",
       "    }\n",
       "\n",
       "    .dataframe thead th {\n",
       "        text-align: right;\n",
       "    }\n",
       "</style>\n",
       "<table border=\"1\" class=\"dataframe\">\n",
       "  <thead>\n",
       "    <tr style=\"text-align: right;\">\n",
       "      <th></th>\n",
       "      <th>uid</th>\n",
       "      <th>address</th>\n",
       "      <th>city</th>\n",
       "      <th>state</th>\n",
       "      <th>zip</th>\n",
       "      <th>full_address</th>\n",
       "    </tr>\n",
       "  </thead>\n",
       "  <tbody>\n",
       "    <tr>\n",
       "      <td>4</td>\n",
       "      <td>5</td>\n",
       "      <td>1400 Lachman Ln</td>\n",
       "      <td>NaN</td>\n",
       "      <td>CA</td>\n",
       "      <td>90272</td>\n",
       "      <td>NaN</td>\n",
       "    </tr>\n",
       "    <tr>\n",
       "      <td>14</td>\n",
       "      <td>15</td>\n",
       "      <td>16404 Parthenia St</td>\n",
       "      <td>NaN</td>\n",
       "      <td>CA</td>\n",
       "      <td>91343</td>\n",
       "      <td>NaN</td>\n",
       "    </tr>\n",
       "    <tr>\n",
       "      <td>24</td>\n",
       "      <td>25</td>\n",
       "      <td>6313 Paso Los Cerritos</td>\n",
       "      <td>NaN</td>\n",
       "      <td>CA</td>\n",
       "      <td>95120</td>\n",
       "      <td>NaN</td>\n",
       "    </tr>\n",
       "  </tbody>\n",
       "</table>\n",
       "</div>"
      ],
      "text/plain": [
       "    uid                 address city state    zip full_address\n",
       "4     5         1400 Lachman Ln  NaN    CA  90272          NaN\n",
       "14   15      16404 Parthenia St  NaN    CA  91343          NaN\n",
       "24   25  6313 Paso Los Cerritos  NaN    CA  95120          NaN"
      ]
     },
     "execution_count": 57,
     "metadata": {},
     "output_type": "execute_result"
    }
   ],
   "source": [
    "#Now let's get the subset to be dropped from the test df\n",
    "\n",
    "unwanted_test = test[test['address'].astype(str).str.startswith(('#', '-')) | (test['address'].isna())|\n",
    "                              (test['city'].isna()) | (test['city'] == '-') | (test['state'].isna()) | (test['state'] == '-')|\n",
    "                               (test['zip'].isna()) | (test['zip'] == '-')]\n",
    "unwanted_test.head(3)"
   ]
  },
  {
   "cell_type": "code",
   "execution_count": 58,
   "metadata": {},
   "outputs": [
    {
     "name": "stdout",
     "output_type": "stream",
     "text": [
      "There are 1350 unwanted dirty rows in the all_addrs dataset\n",
      "There are 8963 unwanted dirty rows in the test dataset\n"
     ]
    }
   ],
   "source": [
    "#Let's check the length of the 'unwanted' for each dataset\n",
    "print(\"There are {} unwanted dirty rows in the all_addrs dataset\".format(len(unwanted_all_addrs)))\n",
    "print(\"There are {} unwanted dirty rows in the test dataset\".format(len(unwanted_test)))"
   ]
  },
  {
   "cell_type": "code",
   "execution_count": 59,
   "metadata": {},
   "outputs": [],
   "source": [
    "#create a new column 'clean' to identify distinguish 'dirty' vs 'clean'records in the all_addr dataset\n",
    "\n",
    "all_addrs['clean'] = np.where(all_addrs['address'].astype(str).str.startswith(('#', '-')) | (all_addrs['address'].isna())|\n",
    "                              (all_addrs['city'].isna()) | (all_addrs['city'] == '-') | (all_addrs['state'].isna()) | (all_addrs['state'] == '-')|\n",
    "                               (all_addrs['zip'].isna()) | (all_addrs['zip'] == '-'),0,1) "
   ]
  },
  {
   "cell_type": "code",
   "execution_count": 60,
   "metadata": {},
   "outputs": [
    {
     "data": {
      "text/plain": [
       "clean\n",
       "0      1350\n",
       "1    128650\n",
       "dtype: int64"
      ]
     },
     "execution_count": 60,
     "metadata": {},
     "output_type": "execute_result"
    }
   ],
   "source": [
    "all_addrs.groupby('clean').size()"
   ]
  },
  {
   "cell_type": "code",
   "execution_count": 61,
   "metadata": {},
   "outputs": [
    {
     "data": {
      "text/plain": [
       "1    0.989615\n",
       "0    0.010385\n",
       "Name: clean, dtype: float64"
      ]
     },
     "execution_count": 61,
     "metadata": {},
     "output_type": "execute_result"
    }
   ],
   "source": [
    "#distribution\n",
    "\n",
    "all_addrs['clean'].value_counts(normalize=True)"
   ]
  },
  {
   "cell_type": "code",
   "execution_count": 62,
   "metadata": {},
   "outputs": [],
   "source": [
    "#create a new column 'clean' to identify & distinguish 'dirty' vs 'clean'records in the test dataset\n",
    "\n",
    "test['clean'] = np.where(test['address'].astype(str).str.startswith(('#', '-')) | (test['address'].isna())|\n",
    "                              (test['city'].isna()) | (test['city'] == '-') | (test['state'].isna()) | (test['state'] == '-')|\n",
    "                               (test['zip'].isna()) | (test['zip'] == '-') | test['zip'].str.contains('nan'),0,1) "
   ]
  },
  {
   "cell_type": "code",
   "execution_count": 63,
   "metadata": {},
   "outputs": [
    {
     "data": {
      "text/plain": [
       "clean\n",
       "0    16496\n",
       "1    82753\n",
       "dtype: int64"
      ]
     },
     "execution_count": 63,
     "metadata": {},
     "output_type": "execute_result"
    }
   ],
   "source": [
    "test.groupby('clean').size()"
   ]
  },
  {
   "cell_type": "code",
   "execution_count": 64,
   "metadata": {},
   "outputs": [
    {
     "data": {
      "text/plain": [
       "1    0.833792\n",
       "0    0.166208\n",
       "Name: clean, dtype: float64"
      ]
     },
     "execution_count": 64,
     "metadata": {},
     "output_type": "execute_result"
    }
   ],
   "source": [
    "#check distribution of 'clean' vs 'dirty' records \n",
    "test['clean'].value_counts(normalize=True)"
   ]
  },
  {
   "cell_type": "markdown",
   "metadata": {},
   "source": [
    "##### Looking at the distribution, it's clear that 16.6% of the test dataset are rows in the 'unwanted/dirty' criteria"
   ]
  },
  {
   "cell_type": "code",
   "execution_count": 65,
   "metadata": {},
   "outputs": [
    {
     "data": {
      "text/html": [
       "<div>\n",
       "<style scoped>\n",
       "    .dataframe tbody tr th:only-of-type {\n",
       "        vertical-align: middle;\n",
       "    }\n",
       "\n",
       "    .dataframe tbody tr th {\n",
       "        vertical-align: top;\n",
       "    }\n",
       "\n",
       "    .dataframe thead th {\n",
       "        text-align: right;\n",
       "    }\n",
       "</style>\n",
       "<table border=\"1\" class=\"dataframe\">\n",
       "  <thead>\n",
       "    <tr style=\"text-align: right;\">\n",
       "      <th></th>\n",
       "      <th>uid</th>\n",
       "      <th>address</th>\n",
       "      <th>city</th>\n",
       "      <th>state</th>\n",
       "      <th>zip</th>\n",
       "      <th>full_address</th>\n",
       "      <th>clean</th>\n",
       "    </tr>\n",
       "  </thead>\n",
       "  <tbody>\n",
       "    <tr>\n",
       "      <td>0</td>\n",
       "      <td>1</td>\n",
       "      <td>941 Thorpe St</td>\n",
       "      <td>Rock Springs</td>\n",
       "      <td>WY</td>\n",
       "      <td>82901</td>\n",
       "      <td>941 Thorpe St, Rock Springs, WY 82901</td>\n",
       "      <td>1</td>\n",
       "    </tr>\n",
       "    <tr>\n",
       "      <td>1</td>\n",
       "      <td>2</td>\n",
       "      <td>2809 HARRIS DR</td>\n",
       "      <td>Antioch</td>\n",
       "      <td>CA</td>\n",
       "      <td>94509</td>\n",
       "      <td>2809 HARRIS DR, Antioch, CA 94509</td>\n",
       "      <td>1</td>\n",
       "    </tr>\n",
       "    <tr>\n",
       "      <td>2</td>\n",
       "      <td>3</td>\n",
       "      <td>1441 Eastlake Ave</td>\n",
       "      <td>Los Angeles</td>\n",
       "      <td>CA</td>\n",
       "      <td>90033</td>\n",
       "      <td>1441 Eastlake Ave, Los Angeles, CA 90033</td>\n",
       "      <td>1</td>\n",
       "    </tr>\n",
       "    <tr>\n",
       "      <td>3</td>\n",
       "      <td>4</td>\n",
       "      <td>7 ucayptus</td>\n",
       "      <td>Newport Beach</td>\n",
       "      <td>CA</td>\n",
       "      <td>92657</td>\n",
       "      <td>7 ucayptus, Newport Beach, CA 92657</td>\n",
       "      <td>1</td>\n",
       "    </tr>\n",
       "    <tr>\n",
       "      <td>5</td>\n",
       "      <td>6</td>\n",
       "      <td>725 ounain View St</td>\n",
       "      <td>Altadena</td>\n",
       "      <td>CA</td>\n",
       "      <td>91001</td>\n",
       "      <td>725 ounain View St, Altadena, CA 91001</td>\n",
       "      <td>1</td>\n",
       "    </tr>\n",
       "  </tbody>\n",
       "</table>\n",
       "</div>"
      ],
      "text/plain": [
       "   uid             address           city state    zip  \\\n",
       "0    1       941 Thorpe St   Rock Springs    WY  82901   \n",
       "1    2      2809 HARRIS DR        Antioch    CA  94509   \n",
       "2    3   1441 Eastlake Ave    Los Angeles    CA  90033   \n",
       "3    4          7 ucayptus  Newport Beach    CA  92657   \n",
       "5    6  725 ounain View St       Altadena    CA  91001   \n",
       "\n",
       "                               full_address  clean  \n",
       "0     941 Thorpe St, Rock Springs, WY 82901      1  \n",
       "1         2809 HARRIS DR, Antioch, CA 94509      1  \n",
       "2  1441 Eastlake Ave, Los Angeles, CA 90033      1  \n",
       "3       7 ucayptus, Newport Beach, CA 92657      1  \n",
       "5    725 ounain View St, Altadena, CA 91001      1  "
      ]
     },
     "execution_count": 65,
     "metadata": {},
     "output_type": "execute_result"
    }
   ],
   "source": [
    "#Now let's get the cleaned version of the test df \n",
    "is_clean_test = test.loc[test.clean == 1,:]\n",
    "is_clean_test.head()"
   ]
  },
  {
   "cell_type": "code",
   "execution_count": 66,
   "metadata": {},
   "outputs": [
    {
     "data": {
      "text/html": [
       "<div>\n",
       "<style scoped>\n",
       "    .dataframe tbody tr th:only-of-type {\n",
       "        vertical-align: middle;\n",
       "    }\n",
       "\n",
       "    .dataframe tbody tr th {\n",
       "        vertical-align: top;\n",
       "    }\n",
       "\n",
       "    .dataframe thead th {\n",
       "        text-align: right;\n",
       "    }\n",
       "</style>\n",
       "<table border=\"1\" class=\"dataframe\">\n",
       "  <thead>\n",
       "    <tr style=\"text-align: right;\">\n",
       "      <th></th>\n",
       "      <th>address</th>\n",
       "      <th>city</th>\n",
       "      <th>state</th>\n",
       "      <th>zip</th>\n",
       "      <th>full_address</th>\n",
       "      <th>clean</th>\n",
       "    </tr>\n",
       "  </thead>\n",
       "  <tbody>\n",
       "    <tr>\n",
       "      <td>0</td>\n",
       "      <td>941 Thorpe St</td>\n",
       "      <td>Rock Springs</td>\n",
       "      <td>WY</td>\n",
       "      <td>82901</td>\n",
       "      <td>941 Thorpe St, Rock Springs, WY 82901</td>\n",
       "      <td>1</td>\n",
       "    </tr>\n",
       "    <tr>\n",
       "      <td>1</td>\n",
       "      <td>2809 HARRIS DR</td>\n",
       "      <td>Antioch</td>\n",
       "      <td>CA</td>\n",
       "      <td>94509</td>\n",
       "      <td>2809 HARRIS DR, Antioch, CA 94509</td>\n",
       "      <td>1</td>\n",
       "    </tr>\n",
       "    <tr>\n",
       "      <td>2</td>\n",
       "      <td>1441 Eastlake Ave</td>\n",
       "      <td>Los Angeles</td>\n",
       "      <td>CA</td>\n",
       "      <td>90033</td>\n",
       "      <td>1441 Eastlake Ave, Los Angeles, CA 90033</td>\n",
       "      <td>1</td>\n",
       "    </tr>\n",
       "    <tr>\n",
       "      <td>3</td>\n",
       "      <td>7 Eucalyptus</td>\n",
       "      <td>Newport Beach</td>\n",
       "      <td>CA</td>\n",
       "      <td>92657</td>\n",
       "      <td>7 Eucalyptus, Newport Beach, CA 92657</td>\n",
       "      <td>1</td>\n",
       "    </tr>\n",
       "    <tr>\n",
       "      <td>4</td>\n",
       "      <td>1400 Lachman Ln</td>\n",
       "      <td>Los Angeles</td>\n",
       "      <td>CA</td>\n",
       "      <td>90272</td>\n",
       "      <td>1400 Lachman Ln, Los Angeles, CA 90272</td>\n",
       "      <td>1</td>\n",
       "    </tr>\n",
       "  </tbody>\n",
       "</table>\n",
       "</div>"
      ],
      "text/plain": [
       "             address           city state    zip  \\\n",
       "0      941 Thorpe St   Rock Springs    WY  82901   \n",
       "1     2809 HARRIS DR        Antioch    CA  94509   \n",
       "2  1441 Eastlake Ave    Los Angeles    CA  90033   \n",
       "3       7 Eucalyptus  Newport Beach    CA  92657   \n",
       "4    1400 Lachman Ln    Los Angeles    CA  90272   \n",
       "\n",
       "                               full_address  clean  \n",
       "0     941 Thorpe St, Rock Springs, WY 82901      1  \n",
       "1         2809 HARRIS DR, Antioch, CA 94509      1  \n",
       "2  1441 Eastlake Ave, Los Angeles, CA 90033      1  \n",
       "3     7 Eucalyptus, Newport Beach, CA 92657      1  \n",
       "4    1400 Lachman Ln, Los Angeles, CA 90272      1  "
      ]
     },
     "execution_count": 66,
     "metadata": {},
     "output_type": "execute_result"
    }
   ],
   "source": [
    "#Now let's get the cleaned version of the all_addrs df \n",
    "is_clean_all_addrs = all_addrs.loc[all_addrs.clean == 1,:]\n",
    "is_clean_all_addrs.head()"
   ]
  },
  {
   "cell_type": "code",
   "execution_count": 67,
   "metadata": {},
   "outputs": [],
   "source": [
    "#Get the full_address columns as lists for each of the 'cleaned' datasets\n",
    "\n",
    "is_clean_test_lst = is_clean_test['full_address'].to_list()\n",
    "is_clean_all_addrs_lst = is_clean_all_addrs['full_address'].to_list()"
   ]
  },
  {
   "cell_type": "code",
   "execution_count": 68,
   "metadata": {},
   "outputs": [],
   "source": [
    "#check the new number of addresses in is_clean_test df which are also found in is_clean_all_addrs df\n",
    "is_match4 = common_elements(is_clean_test_lst, is_clean_all_addrs_lst)"
   ]
  },
  {
   "cell_type": "code",
   "execution_count": 69,
   "metadata": {},
   "outputs": [
    {
     "data": {
      "text/plain": [
       "43.251457442673924"
      ]
     },
     "execution_count": 69,
     "metadata": {},
     "output_type": "execute_result"
    }
   ],
   "source": [
    "match_rate4 = len(is_match4) * 100 /len(is_clean_all_addrs_lst)\n",
    "match_rate4"
   ]
  },
  {
   "cell_type": "code",
   "execution_count": 70,
   "metadata": {},
   "outputs": [],
   "source": [
    "#try another function using list comprehension\n",
    "\n",
    "def same_elements(first_list, second_list):\n",
    "    return [element for element in first_lst if element in second_lst]"
   ]
  },
  {
   "cell_type": "code",
   "execution_count": 72,
   "metadata": {},
   "outputs": [],
   "source": [
    "first_lst = is_clean_test['full_address'].to_list()\n",
    "second_lst = is_clean_all_addrs['full_address'].to_list()"
   ]
  },
  {
   "cell_type": "code",
   "execution_count": 73,
   "metadata": {},
   "outputs": [],
   "source": [
    "is_same_clean  = same_elements(is_clean_test_lst,is_clean_all_addrs_lst)\n",
    "\n",
    "coverage_rate = len(is_same_clean) * 100 /len(is_clean_all_addrs)"
   ]
  },
  {
   "cell_type": "code",
   "execution_count": 74,
   "metadata": {},
   "outputs": [
    {
     "data": {
      "text/plain": [
       "43.251457442673924"
      ]
     },
     "execution_count": 74,
     "metadata": {},
     "output_type": "execute_result"
    }
   ],
   "source": [
    "coverage_rate"
   ]
  },
  {
   "cell_type": "markdown",
   "metadata": {},
   "source": [
    "#### After trying two different functions with the cleaned datasets, the coverage rate is now 43%. \n",
    "#### let's examine the datasets a bit more to check for opportunities of improvement"
   ]
  },
  {
   "cell_type": "code",
   "execution_count": 75,
   "metadata": {},
   "outputs": [
    {
     "data": {
      "text/html": [
       "<div>\n",
       "<style scoped>\n",
       "    .dataframe tbody tr th:only-of-type {\n",
       "        vertical-align: middle;\n",
       "    }\n",
       "\n",
       "    .dataframe tbody tr th {\n",
       "        vertical-align: top;\n",
       "    }\n",
       "\n",
       "    .dataframe thead th {\n",
       "        text-align: right;\n",
       "    }\n",
       "</style>\n",
       "<table border=\"1\" class=\"dataframe\">\n",
       "  <thead>\n",
       "    <tr style=\"text-align: right;\">\n",
       "      <th></th>\n",
       "      <th>uid</th>\n",
       "      <th>address</th>\n",
       "      <th>city</th>\n",
       "      <th>state</th>\n",
       "      <th>zip</th>\n",
       "      <th>full_address</th>\n",
       "      <th>clean</th>\n",
       "    </tr>\n",
       "  </thead>\n",
       "  <tbody>\n",
       "    <tr>\n",
       "      <td>0</td>\n",
       "      <td>1</td>\n",
       "      <td>941 Thorpe St</td>\n",
       "      <td>Rock Springs</td>\n",
       "      <td>WY</td>\n",
       "      <td>82901</td>\n",
       "      <td>941 Thorpe St, Rock Springs, WY 82901</td>\n",
       "      <td>1</td>\n",
       "    </tr>\n",
       "    <tr>\n",
       "      <td>1</td>\n",
       "      <td>2</td>\n",
       "      <td>2809 HARRIS DR</td>\n",
       "      <td>Antioch</td>\n",
       "      <td>CA</td>\n",
       "      <td>94509</td>\n",
       "      <td>2809 HARRIS DR, Antioch, CA 94509</td>\n",
       "      <td>1</td>\n",
       "    </tr>\n",
       "    <tr>\n",
       "      <td>2</td>\n",
       "      <td>3</td>\n",
       "      <td>1441 Eastlake Ave</td>\n",
       "      <td>Los Angeles</td>\n",
       "      <td>CA</td>\n",
       "      <td>90033</td>\n",
       "      <td>1441 Eastlake Ave, Los Angeles, CA 90033</td>\n",
       "      <td>1</td>\n",
       "    </tr>\n",
       "    <tr>\n",
       "      <td>3</td>\n",
       "      <td>4</td>\n",
       "      <td>7 ucayptus</td>\n",
       "      <td>Newport Beach</td>\n",
       "      <td>CA</td>\n",
       "      <td>92657</td>\n",
       "      <td>7 ucayptus, Newport Beach, CA 92657</td>\n",
       "      <td>1</td>\n",
       "    </tr>\n",
       "    <tr>\n",
       "      <td>5</td>\n",
       "      <td>6</td>\n",
       "      <td>725 ounain View St</td>\n",
       "      <td>Altadena</td>\n",
       "      <td>CA</td>\n",
       "      <td>91001</td>\n",
       "      <td>725 ounain View St, Altadena, CA 91001</td>\n",
       "      <td>1</td>\n",
       "    </tr>\n",
       "  </tbody>\n",
       "</table>\n",
       "</div>"
      ],
      "text/plain": [
       "   uid             address           city state    zip  \\\n",
       "0    1       941 Thorpe St   Rock Springs    WY  82901   \n",
       "1    2      2809 HARRIS DR        Antioch    CA  94509   \n",
       "2    3   1441 Eastlake Ave    Los Angeles    CA  90033   \n",
       "3    4          7 ucayptus  Newport Beach    CA  92657   \n",
       "5    6  725 ounain View St       Altadena    CA  91001   \n",
       "\n",
       "                               full_address  clean  \n",
       "0     941 Thorpe St, Rock Springs, WY 82901      1  \n",
       "1         2809 HARRIS DR, Antioch, CA 94509      1  \n",
       "2  1441 Eastlake Ave, Los Angeles, CA 90033      1  \n",
       "3       7 ucayptus, Newport Beach, CA 92657      1  \n",
       "5    725 ounain View St, Altadena, CA 91001      1  "
      ]
     },
     "execution_count": 75,
     "metadata": {},
     "output_type": "execute_result"
    }
   ],
   "source": [
    "is_clean_test.head()"
   ]
  },
  {
   "cell_type": "code",
   "execution_count": 76,
   "metadata": {},
   "outputs": [
    {
     "data": {
      "text/plain": [
       "(82753, 7)"
      ]
     },
     "execution_count": 76,
     "metadata": {},
     "output_type": "execute_result"
    }
   ],
   "source": [
    "is_clean_test.shape"
   ]
  },
  {
   "cell_type": "code",
   "execution_count": 77,
   "metadata": {},
   "outputs": [
    {
     "data": {
      "text/plain": [
       "array(['WY', 'CA', 'NY', 'TX', 'TN', 'PA', 'MI', 'FL', 'GA', 'MO', 'AR',\n",
       "       'CO', 'WA', 'OH', 'AZ', 'MA', 'IL', 'CT', 'SC', 'KY', 'NV', 'MN',\n",
       "       'AL', 'NC', 'OK', 'WV', 'VA', 'UT', 'VT', 'ID', 'NJ', 'IN', 'MD',\n",
       "       'SD', 'OR', 'NH', 'NM', 'IA', 'KS', 'LA', 'WI', 'ME', 'NE', 'MS',\n",
       "       'MT', 'CHIS', 'DE', 'ND', 'CÓRDOBA', 'HI', 'RI', 'VER', 'AK', 'DC',\n",
       "       'GAUTENG', 'CHIH', 'ON'], dtype=object)"
      ]
     },
     "execution_count": 77,
     "metadata": {},
     "output_type": "execute_result"
    }
   ],
   "source": [
    "#xamine unique states in cleaned all_addrs df \n",
    "is_clean_all_addrs.state.unique()"
   ]
  },
  {
   "cell_type": "code",
   "execution_count": 78,
   "metadata": {},
   "outputs": [
    {
     "data": {
      "text/plain": [
       "array(['WY', 'CA', 'NY', 'TX', 'TN', 'PA', 'MI', 'FL', 'GA', 'MO', 'AR',\n",
       "       'CO', 'WA', 'OH', 'AZ', 'MA', 'IL', 'CT', 'SC', 'KY', 'NV', 'MN',\n",
       "       'AL', 'NC', 'OK', 'WV', 'VA', 'UT', 'VT', 'ID', 'NJ', 'IN', 'MD',\n",
       "       'SD', 'OR', 'NH', 'NM', 'IA', 'KS', 'LA', 'WI', 'ME', 'NE', 'MS',\n",
       "       'MT', 'DE', 'ND', 'ca', 'ma', 'ia', 'nd', 'oh', 'id', 'il', 'HI',\n",
       "       'tx', 'ut', 'pa', 'sd', 'ny', 'co', 'wa', 'va', 'mn', 'az', 'nc',\n",
       "       'tn', 'ne', 'ky', 'nj', 'la', 'ct', 'ks', 'RI', 'mo', 'md', 'al',\n",
       "       'wi', 'mi', 'wy', 'AK', 'fl', 'in', 'DC', 'ri', 'or', 'nh', 'hi',\n",
       "       'nm', 'mt', 'ms', 'ga', 'nv', 'ar', 'ok', 'me'], dtype=object)"
      ]
     },
     "execution_count": 78,
     "metadata": {},
     "output_type": "execute_result"
    }
   ],
   "source": [
    "#examine unique states in cleaned test df\n",
    "is_clean_test.state.unique()"
   ]
  },
  {
   "cell_type": "markdown",
   "metadata": {},
   "source": [
    "##### Here we observe that the is_clean_test dataset has uppercase and lowercase values in the state column - \n",
    "##### this is an opportunity to make some changes and increase the coverage rate"
   ]
  },
  {
   "cell_type": "code",
   "execution_count": 79,
   "metadata": {},
   "outputs": [
    {
     "data": {
      "text/plain": [
       "(128643, 6)"
      ]
     },
     "execution_count": 79,
     "metadata": {},
     "output_type": "execute_result"
    }
   ],
   "source": [
    "#remove records where given state name is not a correct US state\n",
    "\n",
    "is_clean_all_addrs = is_clean_all_addrs[~is_clean_all_addrs.state.isin(['GAUTENG','CÓRDOBA','CHIH','CHIS','ON'])]\n",
    "is_clean_all_addrs.shape"
   ]
  },
  {
   "cell_type": "code",
   "execution_count": 80,
   "metadata": {},
   "outputs": [
    {
     "name": "stderr",
     "output_type": "stream",
     "text": [
      "/Users/johnstonkirimo/opt/anaconda3/lib/python3.7/site-packages/ipykernel_launcher.py:3: SettingWithCopyWarning: \n",
      "A value is trying to be set on a copy of a slice from a DataFrame.\n",
      "Try using .loc[row_indexer,col_indexer] = value instead\n",
      "\n",
      "See the caveats in the documentation: http://pandas.pydata.org/pandas-docs/stable/user_guide/indexing.html#returning-a-view-versus-a-copy\n",
      "  This is separate from the ipykernel package so we can avoid doing imports until\n"
     ]
    }
   ],
   "source": [
    "#make the full address column uppercase\n",
    "\n",
    "is_clean_test['full_address'] = is_clean_test['full_address'].str.upper()\n",
    "is_clean_all_addrs['full_address'] = is_clean_all_addrs['full_address'].str.upper()"
   ]
  },
  {
   "cell_type": "code",
   "execution_count": 81,
   "metadata": {},
   "outputs": [
    {
     "name": "stdout",
     "output_type": "stream",
     "text": [
      "The coverage rate is now 48.77062879441555 percent\n"
     ]
    }
   ],
   "source": [
    "lst_all = is_clean_all_addrs['full_address'].to_list()\n",
    "lst_tst = is_clean_test['full_address'].to_list()\n",
    "new_covrg = [x for x in lst_tst if x in lst_all]\n",
    "cov_rate = len(new_covrg) * 100 /len(lst_all)\n",
    "print(\"The coverage rate is now {} percent\".format(cov_rate))"
   ]
  },
  {
   "cell_type": "markdown",
   "metadata": {},
   "source": [
    "#### New coverage rate is 48.8%"
   ]
  },
  {
   "cell_type": "code",
   "execution_count": 82,
   "metadata": {},
   "outputs": [],
   "source": [
    "#Now let's remove duplicates from both lists by using a set()\n",
    "\n",
    "all_addrs_set = set(lst_all)\n",
    "test_set = set(lst_tst)"
   ]
  },
  {
   "cell_type": "code",
   "execution_count": 83,
   "metadata": {},
   "outputs": [],
   "source": [
    "#find common elements in the two sets and print new coverage rate\n",
    "\n",
    "set_covrg = [x for x in test_set if x in all_addrs_set]\n",
    "set_covrg_rate = len(set_covrg) * 100 /len(all_addrs_set)"
   ]
  },
  {
   "cell_type": "code",
   "execution_count": 84,
   "metadata": {},
   "outputs": [
    {
     "data": {
      "text/plain": [
       "63.8409493077964"
      ]
     },
     "execution_count": 84,
     "metadata": {},
     "output_type": "execute_result"
    }
   ],
   "source": [
    "set_covrg_rate"
   ]
  },
  {
   "cell_type": "markdown",
   "metadata": {},
   "source": [
    "#### Coverage rate now at 63.8%"
   ]
  }
 ],
 "metadata": {
  "kernelspec": {
   "display_name": "Python 3",
   "language": "python",
   "name": "python3"
  },
  "language_info": {
   "codemirror_mode": {
    "name": "ipython",
    "version": 3
   },
   "file_extension": ".py",
   "mimetype": "text/x-python",
   "name": "python",
   "nbconvert_exporter": "python",
   "pygments_lexer": "ipython3",
   "version": "3.7.4"
  }
 },
 "nbformat": 4,
 "nbformat_minor": 4
}
